{
 "cells": [
  {
   "cell_type": "code",
   "execution_count": 1,
   "id": "531effb6-c317-4c0e-b9e5-c52c0a55642e",
   "metadata": {},
   "outputs": [],
   "source": [
    "import numpy as np\n",
    "import os\n",
    "import string\n",
    "import random\n",
    "import csv"
   ]
  },
  {
   "cell_type": "markdown",
   "id": "4665cb55-0114-4dd9-9972-f9a34b7ba7b5",
   "metadata": {},
   "source": [
    "# Core Functions"
   ]
  },
  {
   "cell_type": "code",
   "execution_count": 2,
   "id": "db681042-0279-4691-84a6-bea80fbfd646",
   "metadata": {},
   "outputs": [],
   "source": [
    "def hash_funtion(key):\n",
    "    \n",
    "    return  '{0:016b}'.format(key)\n",
    "\n",
    "class Bucket:\n",
    "    \n",
    "    def __init__(self,local_depth,index,empty_spaces,id):\n",
    "        \n",
    "        self.id = id\n",
    "        self.local_depth = local_depth\n",
    "        self.index = index\n",
    "        self.empty_spaces = empty_spaces\n",
    "\n",
    "class Directory:\n",
    "    \n",
    "    def  __init__(self,global_depth,directory_records):\n",
    "        \n",
    "        self.global_depth = global_depth,\n",
    "        self.directory_records = directory_records\n",
    "\n",
    "class DirectoryRecord:\n",
    "    \n",
    "    def __init__(self,bucket, hash_prefix):\n",
    "        \n",
    "        self.hash_prefix = hash_prefix\n",
    "        self.value = bucket"
   ]
  },
  {
   "cell_type": "markdown",
   "id": "b8d07855-6682-44c0-ba2c-dbeee31664a6",
   "metadata": {},
   "source": [
    "# Hyper Parameters"
   ]
  },
  {
   "cell_type": "code",
   "execution_count": 3,
   "id": "1aad45c8-7c64-4035-871f-5b24afec8e35",
   "metadata": {},
   "outputs": [],
   "source": [
    "bucket_capacity = 2\n",
    "bucket_number = 3\n",
    "global_depth = 1"
   ]
  },
  {
   "cell_type": "code",
   "execution_count": 4,
   "id": "4818defb-e9f3-49ab-97d0-94abe9aed24b",
   "metadata": {},
   "outputs": [],
   "source": [
    "# Initialization of buckets\n",
    "bucket1 = Bucket(local_depth = 1, empty_spaces = bucket_capacity, index = [], id = 1)\n",
    "bucket2 = Bucket(local_depth = 1, empty_spaces = bucket_capacity, index = [], id = 2)\n",
    "\n",
    "# Initialization of directory\n",
    "directory_records = list()  \n",
    "\n",
    "directory_records.append(DirectoryRecord(hash_prefix = 0, bucket = bucket1))\n",
    "directory_records.append(DirectoryRecord(hash_prefix = 1, bucket = bucket2))\n",
    "\n",
    "directory = Directory(global_depth = 1, directory_records = directory_records)"
   ]
  },
  {
   "cell_type": "code",
   "execution_count": 5,
   "id": "68d1b369-6313-487d-a762-e92b189358c4",
   "metadata": {},
   "outputs": [
    {
     "data": {
      "text/plain": [
       "[<__main__.DirectoryRecord at 0x150a72e94c0>,\n",
       " <__main__.DirectoryRecord at 0x150a72e94f0>]"
      ]
     },
     "execution_count": 5,
     "metadata": {},
     "output_type": "execute_result"
    }
   ],
   "source": [
    "directory_records"
   ]
  },
  {
   "cell_type": "markdown",
   "id": "de3389f1-00ce-4be4-b605-bef5bbe1324d",
   "metadata": {},
   "source": [
    "# Insertion Algorithm"
   ]
  },
  {
   "cell_type": "code",
   "execution_count": 6,
   "id": "95797ec3-5dc0-49a5-905e-ee7fc90a3f62",
   "metadata": {},
   "outputs": [],
   "source": [
    "def insert(index):\n",
    "    \n",
    "    global directory\n",
    "    global bucket_number\n",
    "    \n",
    "    t_id = index[0]\n",
    "    hash_key = hash_funtion(int(t_id))\n",
    "    \n",
    "    hash_prefix = int(hash_key[-directory.global_depth[0]:], 2)\n",
    "\n",
    "    bucket = directory.directory_records[hash_prefix].value\n",
    "    bucket.index.append(index)\n",
    "    bucket.empty_spaces = int(bucket.empty_spaces)-1\n",
    "\n",
    "    if(bucket.empty_spaces < 0):\n",
    "\n",
    "        tempopary_memory = bucket.index    \n",
    "        bucket.empty_spaces = bucket_capacity\n",
    "        bucket.index = []\n",
    "\n",
    "        if (directory.global_depth[0] > bucket.local_depth):\n",
    "\n",
    "            # NUMBER OF LINKED BUCKETS\n",
    "            number_of_links = 2**(directory.global_depth[0] - bucket.local_depth)\n",
    "            bucket.local_depth = bucket.local_depth + 1\n",
    "            number_of_modify_links = number_of_links/2 \n",
    "\n",
    "            new_bucket = Bucket(local_depth = bucket.local_depth, index=[], empty_spaces = bucket_capacity, id = bucket_number)\n",
    "\n",
    "            for directory_record in directory.directory_records:\n",
    "\n",
    "                if(directory_record.value == bucket):\n",
    "                    if(number_of_modify_links != 0):\n",
    "                        number_of_modify_links = number_of_modify_links - 1\n",
    "                    else:\n",
    "                        directory_record.value = new_bucket\n",
    "                        bucket_number = bucket_number + 1\n",
    "\n",
    "            for i in range(len(tempopary_memory)):\n",
    "                insert(tempopary_memory[i])\n",
    "                \n",
    "\n",
    "        elif (directory.global_depth[0] == bucket.local_depth):\n",
    "            \n",
    "            new_directory_len = 2 * len(directory.directory_records)\n",
    "            new_directory_records = []\n",
    "\n",
    "            for directory_record_number in range(new_directory_len):\n",
    "                new_directory_records.append(DirectoryRecord(hash_prefix=directory_record_number,bucket=Bucket(local_depth=1,index=[],empty_spaces=bucket_capacity,id=bucket_number)))\n",
    "                bucket_number = bucket_number + 1\n",
    "            \n",
    "            new_directory = Directory(global_depth=directory.global_depth[0]+1,directory_records=new_directory_records)\n",
    "\n",
    "            # REHASING\n",
    "\n",
    "            for directory_record in directory.directory_records:\n",
    "                haskey1 = '0'+hash_funtion(directory_record.hash_prefix)\n",
    "                haskey2 = '1'+hash_funtion(directory_record.hash_prefix)\n",
    "                new_index1 = int(haskey1[-directory.global_depth[0]:],2)\n",
    "                new_index2 = int(haskey2[-directory.global_depth[0]:],2)\n",
    "\n",
    "                new_directory.directory_records[new_index1].value = directory_record.value\n",
    "                new_directory.directory_records[new_index2].value = directory_record.value\n",
    "\n",
    "            directory= new_directory\n",
    "\n",
    "            for i in range(len(tempopary_memory)):\n",
    "\n",
    "                insert(tempopary_memory[i],lock)\n",
    "    \n"
   ]
  },
  {
   "cell_type": "markdown",
   "id": "e8659370-ca36-4b92-aaf9-5af8c1cb3bab",
   "metadata": {},
   "source": [
    "# Main"
   ]
  },
  {
   "cell_type": "code",
   "execution_count": 7,
   "id": "d98b8d5a-4b5a-4ed4-9ab1-7f42a5f7492b",
   "metadata": {},
   "outputs": [],
   "source": [
    "t_id = 0\n",
    "t_amount = 100\n",
    "u_name = 'David'\n",
    "\n",
    "insert([t_id, t_amount, u_name])"
   ]
  },
  {
   "cell_type": "code",
   "execution_count": null,
   "id": "d0dc256b-4b44-4bc1-834a-1c4d3ca375bc",
   "metadata": {},
   "outputs": [],
   "source": []
  },
  {
   "cell_type": "code",
   "execution_count": null,
   "id": "069f1e44-9764-40e3-957c-b1f5b8752d7d",
   "metadata": {},
   "outputs": [],
   "source": []
  }
 ],
 "metadata": {
  "kernelspec": {
   "display_name": "Python 3 (ipykernel)",
   "language": "python",
   "name": "python3"
  },
  "language_info": {
   "codemirror_mode": {
    "name": "ipython",
    "version": 3
   },
   "file_extension": ".py",
   "mimetype": "text/x-python",
   "name": "python",
   "nbconvert_exporter": "python",
   "pygments_lexer": "ipython3",
   "version": "3.9.21"
  }
 },
 "nbformat": 4,
 "nbformat_minor": 5
}
