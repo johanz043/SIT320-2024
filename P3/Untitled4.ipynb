{
 "cells": [
  {
   "cell_type": "code",
   "execution_count": 5,
   "id": "d4a86515-0181-42bc-9184-5227950aa1dc",
   "metadata": {},
   "outputs": [],
   "source": [
    "import numpy as np\n",
    "import os\n",
    "\n",
    "def generate_data(num_pages, page_size, output_dir):\n",
    "    \"\"\"\n",
    "    Generate random data and save it in pages as numpy files.\n",
    "    \n",
    "    :param num_pages: Number of pages to generate\n",
    "    :param page_size: Number of elements per page\n",
    "    :param output_dir: Directory to save the generated pages\n",
    "    \"\"\"\n",
    "    os.makedirs(output_dir, exist_ok=True)\n",
    "    for i in range(num_pages):\n",
    "        data = np.random.randint(0, 10, page_size)\n",
    "        np.save(os.path.join(output_dir, f'page_{i}.npy'), data)\n"
   ]
  },
  {
   "cell_type": "code",
   "execution_count": 6,
   "id": "8a65df4c-1933-4264-a741-ea3f27ae8518",
   "metadata": {},
   "outputs": [],
   "source": [
    "def sort_pages(input_dir, num_pages):\n",
    "    \"\"\"\n",
    "    Load pages from disk, sort them, and save the sorted pages back.\n",
    "    \n",
    "    :param input_dir: Directory containing the unsorted pages\n",
    "    :param num_pages: Number of pages to sort\n",
    "    \"\"\"\n",
    "    for i in range(num_pages):\n",
    "        data = np.load(os.path.join(input_dir, f'page_{i}.npy'))\n",
    "        sorted_data = np.sort(data)\n",
    "        np.save(os.path.join(input_dir, f'sorted_page_{i}.npy'), sorted_data)"
   ]
  },
  {
   "cell_type": "code",
   "execution_count": 7,
   "id": "0f594975-2fe8-4926-9003-be452eae0476",
   "metadata": {},
   "outputs": [],
   "source": [
    "import heapq\n",
    "\n",
    "def merge_pages(input_dir, num_pages, buffer_size, output_file):\n",
    "    \"\"\"\n",
    "    Merge sorted pages into a single sorted file using a buffer.\n",
    "    \n",
    "    :param input_dir: Directory containing the sorted pages\n",
    "    :param num_pages: Number of pages to merge\n",
    "    :param buffer_size: Buffer size (n) indicating how many pages to load into memory\n",
    "    :param output_file: File to write the final sorted output\n",
    "    \"\"\"\n",
    "    open_files = [open(os.path.join(input_dir, f'sorted_page_{i}.npy'), 'rb') for i in range(buffer_size - 1)]\n",
    "    buffers = [np.load(f) for f in open_files]\n",
    "    \n",
    "    with open(output_file, 'wb') as out_file:\n",
    "        # Initialize the heap with the first element of each buffer\n",
    "        min_heap = []\n",
    "        for i, buffer in enumerate(buffers):\n",
    "            if buffer.size > 0:\n",
    "                heapq.heappush(min_heap, (buffer[0], i, 0))  # (value, buffer index, element index)\n",
    "\n",
    "        while min_heap:\n",
    "            val, buffer_index, element_index = heapq.heappop(min_heap)\n",
    "            out_file.write(val.tobytes())  # Write value to output file\n",
    "            next_element_index = element_index + 1\n",
    "            if next_element_index < buffers[buffer_index].size:\n",
    "                heapq.heappush(min_heap, (buffers[buffer_index][next_element_index], buffer_index, next_element_index))"
   ]
  },
  {
   "cell_type": "code",
   "execution_count": 8,
   "id": "0423b46a-3db9-4fc5-b846-ad7796d775ea",
   "metadata": {},
   "outputs": [],
   "source": [
    "def external_merge_sort(input_dir, num_pages, page_size, buffer_size, output_file):\n",
    "    \"\"\"\n",
    "    Perform external merge sort on the data.\n",
    "    \n",
    "    :param input_dir: Directory containing the pages\n",
    "    :param num_pages: Number of pages\n",
    "    :param page_size: Number of elements per page\n",
    "    :param buffer_size: Buffer size (n)\n",
    "    :param output_file: Output file to write the final sorted data\n",
    "    \"\"\"\n",
    "    sort_pages(input_dir, num_pages)\n",
    "    merge_pages(input_dir, num_pages, buffer_size, output_file)\n",
    "\n",
    "# Example usage\n",
    "generate_data(num_pages=100, page_size=10, output_dir='data')\n",
    "external_merge_sort(input_dir='data', num_pages=100, page_size=10, buffer_size=10, output_file='sorted_data.npy')"
   ]
  },
  {
   "cell_type": "code",
   "execution_count": null,
   "id": "97d1595f-75ea-4cb1-9494-ec730bde1361",
   "metadata": {},
   "outputs": [],
   "source": []
  },
  {
   "cell_type": "code",
   "execution_count": null,
   "id": "36172136-172c-407d-b497-b213b24ede00",
   "metadata": {},
   "outputs": [],
   "source": []
  },
  {
   "cell_type": "code",
   "execution_count": null,
   "id": "89ed3b76-43c8-4b49-9992-f5e89c6afc07",
   "metadata": {},
   "outputs": [],
   "source": []
  }
 ],
 "metadata": {
  "kernelspec": {
   "display_name": "Python 3 (ipykernel)",
   "language": "python",
   "name": "python3"
  },
  "language_info": {
   "codemirror_mode": {
    "name": "ipython",
    "version": 3
   },
   "file_extension": ".py",
   "mimetype": "text/x-python",
   "name": "python",
   "nbconvert_exporter": "python",
   "pygments_lexer": "ipython3",
   "version": "3.9.21"
  }
 },
 "nbformat": 4,
 "nbformat_minor": 5
}
