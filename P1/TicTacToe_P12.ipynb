{
 "cells": [
  {
   "cell_type": "markdown",
   "id": "f0b874c6",
   "metadata": {},
   "source": [
    "# Simple Algorithm to play a game of Tic-Tac-Toe"
   ]
  },
  {
   "cell_type": "code",
   "execution_count": 1,
   "id": "4aac0aad",
   "metadata": {},
   "outputs": [
    {
     "data": {
      "text/html": [
       "<style>.container { width:85% !important; }</style>"
      ],
      "text/plain": [
       "<IPython.core.display.HTML object>"
      ]
     },
     "metadata": {},
     "output_type": "display_data"
    }
   ],
   "source": [
    "from IPython.core.display import display, HTML\n",
    "display(HTML(\"<style>.container { width:85% !important; }</style>\"))"
   ]
  },
  {
   "cell_type": "markdown",
   "id": "34c654de",
   "metadata": {},
   "source": [
    "The code is downloaded from here: https://github.com/doctorsmonsters/minimax_tic_tac_toe/blob/main/Minimax%20TicTacToe.ipynb\n",
    "I do not take any responsibility for its inner working. \n",
    "\n",
    "Your task is to understand it, evaluate it, and make it working. \n",
    "\n",
    "There can be problems in the code. Try fixing them, as part of setting-up the test cases activity\n",
    "        "
   ]
  },
  {
   "cell_type": "markdown",
   "id": "c17dead8",
   "metadata": {},
   "source": [
    "## Board Definition"
   ]
  },
  {
   "cell_type": "code",
   "execution_count": 2,
   "id": "3cf2893b",
   "metadata": {},
   "outputs": [],
   "source": [
    "#define the board\n",
    "board={1:' ', 2:' ', 3:' ',\n",
    "       4:' ', 5:' ', 6:' ',\n",
    "       7:' ', 8:' ', 9:' '}"
   ]
  },
  {
   "cell_type": "code",
   "execution_count": 3,
   "id": "984bb13e",
   "metadata": {},
   "outputs": [],
   "source": [
    "#function to print the board\n",
    "def printBoard(board):\n",
    "    print(board[1]+'|'+board[2]+'|'+board[3])\n",
    "    print('-+-+-')\n",
    "    print(board[4] + '|' + board[5] + '|' + board[6])\n",
    "    print('-+-+-')\n",
    "    print(board[7] + '|' + board[8] + '|' + board[9])\n",
    "    print('\\n')"
   ]
  },
  {
   "cell_type": "code",
   "execution_count": 4,
   "id": "465cf5d5",
   "metadata": {},
   "outputs": [
    {
     "name": "stdout",
     "output_type": "stream",
     "text": [
      " | | \n",
      "-+-+-\n",
      " | | \n",
      "-+-+-\n",
      " | | \n",
      "\n",
      "\n"
     ]
    }
   ],
   "source": [
    "printBoard(board)"
   ]
  },
  {
   "cell_type": "code",
   "execution_count": 5,
   "id": "8046fe40",
   "metadata": {},
   "outputs": [],
   "source": [
    "#function to check is a certain position in the board is empty.\n",
    "def spaceIsFree(position):\n",
    "    \n",
    "    if (board[position]==' '):\n",
    "        return True\n",
    "    else:\n",
    "        return False"
   ]
  },
  {
   "cell_type": "code",
   "execution_count": 6,
   "id": "7be5f340",
   "metadata": {},
   "outputs": [
    {
     "data": {
      "text/plain": [
       "True"
      ]
     },
     "execution_count": 6,
     "metadata": {},
     "output_type": "execute_result"
    }
   ],
   "source": [
    "spaceIsFree(1)"
   ]
  },
  {
   "cell_type": "code",
   "execution_count": 7,
   "id": "60f9b872",
   "metadata": {},
   "outputs": [],
   "source": [
    "#method to insert letter in space\n",
    "def insertLetter(letter, position):\n",
    "    \n",
    "    if (spaceIsFree(position)): #Check if the specified position of the board is free\n",
    "        board[position]=letter #If it is, insert the letter in\n",
    "        printBoard(board)\n",
    "        \n",
    "        if (chkDraw()): #If no empty spances left\n",
    "            print('Draw!')\n",
    "        elif (chkForWin()): #Check if there is a win\n",
    "            if (letter=='X'):\n",
    "                print('Bot wins!')\n",
    "            else:\n",
    "                print('You win!')\n",
    "        return\n",
    "    \n",
    "    else:\n",
    "        print('Position taken, please pick a different position.')\n",
    "        position=int(input('Enter new position: '))\n",
    "        insertLetter(letter, position)\n",
    "        \n",
    "        return"
   ]
  },
  {
   "cell_type": "code",
   "execution_count": 8,
   "id": "109afafc",
   "metadata": {},
   "outputs": [],
   "source": [
    "#function to check if board is draw\n",
    "def chkDraw():\n",
    "    \n",
    "    for key in board.keys():\n",
    "        if (board[key]==' '):\n",
    "            return False\n",
    "    return True\n",
    "\n",
    "#function to check if one user has won\n",
    "def chkForWin(): #Checks every win commbination\n",
    "    \n",
    "    if (board[1]==board[2] and board[1]==board[3] and board[1] !=' '):\n",
    "        return True\n",
    "    elif (board[4]==board[5] and board[4]==board[6] and board[4] !=' '):\n",
    "        return True\n",
    "    elif (board[7]==board[8] and board[7]==board[9] and board[7] !=' '):\n",
    "        return True\n",
    "    elif (board[1]==board[5] and board[1]==board[9] and board[1] !=' '):\n",
    "        return True\n",
    "    elif (board[3]==board[5] and board[3]==board[7] and board[3] !=' '):\n",
    "        return True\n",
    "    elif (board[1]==board[4] and board[1]==board[7] and board[1] !=' '):\n",
    "        return True\n",
    "    elif (board[2]==board[5] and board[2]==board[8] and board[2] !=' '):\n",
    "        return True\n",
    "    elif (board[3]==board[6] and board[3]==board[9] and board[3] !=' '):\n",
    "        return True\n",
    "    else:\n",
    "        return False"
   ]
  },
  {
   "cell_type": "code",
   "execution_count": 9,
   "id": "f009c7af",
   "metadata": {},
   "outputs": [],
   "source": [
    "#function to check who won\n",
    "def chkMarkForWin(mark):\n",
    "    \n",
    "    if (board[1]==board[2] and board[1]==board[3] and board[1] ==mark):\n",
    "        return True\n",
    "    elif (board[4]==board[5] and board[4]==board[6] and board[4] ==mark):\n",
    "        return True\n",
    "    elif (board[7]==board[8] and board[7]==board[9] and board[7] ==mark):\n",
    "        return True\n",
    "    elif (board[1]==board[5] and board[1]==board[9] and board[1] ==mark):\n",
    "        return True\n",
    "    elif (board[3]==board[5] and board[3]==board[7] and board[3] ==mark):\n",
    "        return True\n",
    "    elif (board[1]==board[4] and board[1]==board[7] and board[1] ==mark):\n",
    "        return True\n",
    "    elif (board[2]==board[5] and board[2]==board[8] and board[2] ==mark):\n",
    "        return True\n",
    "    elif (board[3]==board[6] and board[3]==board[9] and board[3] ==mark):\n",
    "        return True\n",
    "    else:\n",
    "        return False"
   ]
  },
  {
   "cell_type": "code",
   "execution_count": 10,
   "id": "c26e879c",
   "metadata": {},
   "outputs": [],
   "source": [
    "player = 'O'\n",
    "bot ='X'"
   ]
  },
  {
   "cell_type": "code",
   "execution_count": 11,
   "id": "8707d5ea",
   "metadata": {},
   "outputs": [],
   "source": [
    "#function for player move\n",
    "def playerMove():\n",
    "    position=int(input('Enter position for O:'))\n",
    "    insertLetter(player, position)\n",
    "    return\n",
    "\n",
    "#function for bot move\n",
    "def compMove():\n",
    "    \n",
    "    bestScore=-1000 #lowest to start with, for comaparison to the score after a certain move\n",
    "    \n",
    "    bestMove=0\n",
    "    \n",
    "    for key in board.keys(): #for loop to find emplty slots, make a move, calculate the score and see if its higher then best score\n",
    "        if (board[key]==' '):\n",
    "            board[key]=bot # Temporarily place the bot's letter ('X') in the empty position.\n",
    "            score = minimax(board, 0, False) #calculate the score\n",
    "            board[key] = ' ' #set board back to what it was\n",
    "            if (score > bestScore): #compare the score from a certain move to the best score.\n",
    "                bestScore = score\n",
    "                bestMove = key\n",
    "                \n",
    "    #at the end of the loop, we have the best move figured out.\n",
    "    insertLetter(bot, bestMove)\n",
    "    return"
   ]
  },
  {
   "cell_type": "code",
   "execution_count": 12,
   "id": "588e20e4",
   "metadata": {},
   "outputs": [],
   "source": [
    "def minimax(board, depth, isMaximizing):\n",
    "    \n",
    "    if (chkMarkForWin(bot)): # If the bot has a winning combination, return a high score.\n",
    "        return 1\n",
    "    elif (chkMarkForWin(player)): # If the player has a winning combination, return a low score.\n",
    "        return -1\n",
    "    elif (chkDraw()): # If the board is a draw (no empty spaces and no winner), return a score of 0.\n",
    "        return 0\n",
    "    \n",
    "    if isMaximizing:\n",
    "         # If it's the maximizing player's (bot's) turn, initialize bestScore to a very low value.\n",
    "        bestScore = -1000\n",
    "        \n",
    "        # Iterate through all possible positions on the board.\n",
    "        for key in board.keys():\n",
    "            if board[key]==' ': # Check if the current position is empty.\n",
    "                board[key]=bot  # Temporarily place the bot's letter ('X') in the empty position.\n",
    "                score = minimax(board, +1, False) # Recursively call minimax to evaluate the score for this move.\n",
    "                board[key]= ' ' # Reset the position back to empty after evaluating the move.\n",
    "                if (score>bestScore): # Update bestScore if the current score is higher than the bestScore.\n",
    "                    bestScore = score\n",
    "        return bestScore # Return the bestScore for the maximizing player.\n",
    "    \n",
    "    else:\n",
    "        # If it's the minimizing player's (player's) turn, initialize bestScore to a very high value.\n",
    "        bestScore = 1000\n",
    "        # Iterate through all possible positions on the board.\n",
    "        for key in board.keys():\n",
    "            if board[key]==' ': # Check if the current position is empty.\n",
    "                board[key]=player\n",
    "                score = minimax(board, -1, True)\n",
    "                board[key]= ' '\n",
    "                if (score<bestScore):\n",
    "                    bestScore = score\n",
    "        return bestScore\n",
    "    "
   ]
  },
  {
   "cell_type": "code",
   "execution_count": null,
   "id": "c88a7035",
   "metadata": {},
   "outputs": [
    {
     "name": "stdout",
     "output_type": "stream",
     "text": [
      "X| | \n",
      "-+-+-\n",
      " | | \n",
      "-+-+-\n",
      " | | \n",
      "\n",
      "\n"
     ]
    },
    {
     "name": "stdin",
     "output_type": "stream",
     "text": [
      "Enter position for O: 2\n"
     ]
    },
    {
     "name": "stdout",
     "output_type": "stream",
     "text": [
      "X|O| \n",
      "-+-+-\n",
      " | | \n",
      "-+-+-\n",
      " | | \n",
      "\n",
      "\n",
      "X|O| \n",
      "-+-+-\n",
      "X| | \n",
      "-+-+-\n",
      " | | \n",
      "\n",
      "\n"
     ]
    },
    {
     "name": "stdin",
     "output_type": "stream",
     "text": [
      "Enter position for O: 7\n"
     ]
    },
    {
     "name": "stdout",
     "output_type": "stream",
     "text": [
      "X|O| \n",
      "-+-+-\n",
      "X| | \n",
      "-+-+-\n",
      "O| | \n",
      "\n",
      "\n",
      "X|O| \n",
      "-+-+-\n",
      "X|X| \n",
      "-+-+-\n",
      "O| | \n",
      "\n",
      "\n"
     ]
    },
    {
     "name": "stdin",
     "output_type": "stream",
     "text": [
      "Enter position for O: 9\n"
     ]
    },
    {
     "name": "stdout",
     "output_type": "stream",
     "text": [
      "X|O| \n",
      "-+-+-\n",
      "X|X| \n",
      "-+-+-\n",
      "O| |O\n",
      "\n",
      "\n",
      "X|O| \n",
      "-+-+-\n",
      "X|X|X\n",
      "-+-+-\n",
      "O| |O\n",
      "\n",
      "\n",
      "Bot wins!\n"
     ]
    }
   ],
   "source": [
    "while not chkForWin():\n",
    "    compMove()\n",
    "    playerMove()"
   ]
  },
  {
   "cell_type": "code",
   "execution_count": null,
   "id": "3d1344bb-0f0e-43cf-be3e-1999ca669cf8",
   "metadata": {},
   "outputs": [],
   "source": []
  },
  {
   "cell_type": "code",
   "execution_count": null,
   "id": "5f6dabc2-8842-4bfe-8f4a-72f23f4d3531",
   "metadata": {},
   "outputs": [],
   "source": []
  }
 ],
 "metadata": {
  "kernelspec": {
   "display_name": "Python 3 (ipykernel)",
   "language": "python",
   "name": "python3"
  },
  "language_info": {
   "codemirror_mode": {
    "name": "ipython",
    "version": 3
   },
   "file_extension": ".py",
   "mimetype": "text/x-python",
   "name": "python",
   "nbconvert_exporter": "python",
   "pygments_lexer": "ipython3",
   "version": "3.9.13"
  }
 },
 "nbformat": 4,
 "nbformat_minor": 5
}
