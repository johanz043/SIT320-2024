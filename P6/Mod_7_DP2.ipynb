{
 "cells": [
  {
   "cell_type": "markdown",
   "id": "complex-ideal",
   "metadata": {},
   "source": [
    "# Lab 7: Dynamic Programming"
   ]
  },
  {
   "cell_type": "markdown",
   "id": "dynamic-hearing",
   "metadata": {},
   "source": [
    "Lab associated with Module 7: Dynamic Programming"
   ]
  },
  {
   "cell_type": "markdown",
   "id": "reliable-thomson",
   "metadata": {},
   "source": [
    "***"
   ]
  },
  {
   "cell_type": "code",
   "execution_count": 11,
   "id": "unknown-effort",
   "metadata": {},
   "outputs": [
    {
     "data": {
      "text/html": [
       "<style>.container { width:95% !important; }</style>"
      ],
      "text/plain": [
       "<IPython.core.display.HTML object>"
      ]
     },
     "metadata": {},
     "output_type": "display_data"
    }
   ],
   "source": [
    "# The following lines are used to increase the width of cells to utilize more space on the screen \n",
    "from IPython.core.display import display, HTML\n",
    "display(HTML(\"<style>.container { width:95% !important; }</style>\"))"
   ]
  },
  {
   "cell_type": "markdown",
   "id": "civilian-racing",
   "metadata": {},
   "source": [
    "***"
   ]
  },
  {
   "cell_type": "markdown",
   "id": "moving-violence",
   "metadata": {},
   "source": [
    "### Section 0: Imports"
   ]
  },
  {
   "cell_type": "code",
   "execution_count": 12,
   "id": "familiar-letters",
   "metadata": {},
   "outputs": [],
   "source": [
    "import numpy as np"
   ]
  },
  {
   "cell_type": "code",
   "execution_count": 13,
   "id": "recovered-literacy",
   "metadata": {},
   "outputs": [],
   "source": [
    "import math"
   ]
  },
  {
   "cell_type": "code",
   "execution_count": 14,
   "id": "multiple-chair",
   "metadata": {},
   "outputs": [],
   "source": [
    "from IPython.display import Image\n",
    "from graphviz import Digraph"
   ]
  },
  {
   "cell_type": "markdown",
   "id": "hungarian-sentence",
   "metadata": {},
   "source": [
    "Details of Digraph package: https://h1ros.github.io/posts/introduction-to-graphviz-in-jupyter-notebook/"
   ]
  },
  {
   "cell_type": "markdown",
   "id": "anonymous-sphere",
   "metadata": {},
   "source": [
    "***"
   ]
  },
  {
   "cell_type": "markdown",
   "id": "ede7f680",
   "metadata": {},
   "source": [
    "### <font color='red'> Activity 1: You are running up a staircase with a total of n steps. You can hop either 1 step, 2 steps or 3 steps at at time. Write a DP program to determine how many possible ways you can run up the stairs? (Hint: Start with a recursive solution, and then later move to top-down approach of DP). </font>"
   ]
  },
  {
   "cell_type": "code",
   "execution_count": 15,
   "id": "f7d274a8",
   "metadata": {},
   "outputs": [
    {
     "name": "stdout",
     "output_type": "stream",
     "text": [
      "4\n"
     ]
    }
   ],
   "source": [
    "def stair_hopping(n, memo=None):\n",
    "    \n",
    "    if memo is None: #Initialize empty dictionary\n",
    "        memo = {}\n",
    "    \n",
    "    # Base cases\n",
    "    if n == 0: #If there are no stairs left, do nothing \n",
    "        return 1 \n",
    "    elif n < 0: #If number of stairs becomes negative return 0\n",
    "        return 0\n",
    "    elif n in memo: #If the result for n stairs is already in memo dictionary, return it\n",
    "        return memo[n]\n",
    "\n",
    "    #Calculate number of ways to hop up n stairs by recursively calling the stair_hopping function\n",
    "    memo[n] = stair_hopping(n-1, memo) + stair_hopping(n-2, memo) + stair_hopping(n-3, memo)\n",
    "    \n",
    "    return memo[n] #Store the result\n",
    "\n",
    "\n",
    "result = stair_hopping(3)\n",
    "print(result)\n"
   ]
  },
  {
   "cell_type": "markdown",
   "id": "fiscal-video",
   "metadata": {},
   "source": [
    "### <font color='red'> Activity 2: Write the code for finding the Longest Common Sub-sequence. Make sure you output the Matrix C and the longest sub-sequence as well. Test your code with various use-cases. </font>"
   ]
  },
  {
   "cell_type": "code",
   "execution_count": 16,
   "id": "developed-pharmacy",
   "metadata": {},
   "outputs": [
    {
     "name": "stdout",
     "output_type": "stream",
     "text": [
      "Test Case 1:\n",
      "Matrix C:\n",
      "[0, 0, 0, 0, 0]\n",
      "[0, 1, 1, 1, 1]\n",
      "[0, 1, 2, 2, 2]\n",
      "[0, 1, 2, 2, 3]\n",
      "[0, 1, 2, 2, 3]\n",
      "[0, 1, 2, 2, 3]\n",
      "ACG\n"
     ]
    }
   ],
   "source": [
    "def lcs(X, Y):\n",
    "    \n",
    "    #Get the lengths of X and Y\n",
    "    m = len(X)\n",
    "    n = len(Y)\n",
    "\n",
    "    # Create a 2D array to store lengths of longest common subsequence.\n",
    "    C = [[0] * (n + 1) for _ in range(m + 1)]\n",
    "\n",
    "    # Build the C matrix\n",
    "    for i in range(1, m + 1): #Iterate over each character in X (rows)\n",
    "        for j in range(1, n + 1): #Iterate over each character in Y (columns)\n",
    "            # If characters from X and Y match, increment the value from the top-left\n",
    "            if X[i - 1] == Y[j - 1]:\n",
    "                C[i][j] = C[i - 1][j - 1] + 1\n",
    "            else: #Else take maximum of the value from the left or top cell\n",
    "                C[i][j] = max(C[i - 1][j], C[i][j - 1])\n",
    "\n",
    "    # Print the C matrix\n",
    "    print(\"Matrix C:\")\n",
    "    for row in C:\n",
    "        print(row)\n",
    "    \n",
    "    # Backtrack to find the longest common subsequence\n",
    "    lcs_length = C[m][n] #Finds the length of the LCS in the bottom right of the matrix\n",
    "    lcs_sequence = [''] * lcs_length #Creates a list to store the items\n",
    "    i, j = m, n #Start backtracking from the bottom right of the matrix\n",
    "    index = lcs_length - 1\n",
    "    \n",
    "    while i > 0 and j > 0:\n",
    "        if X[i - 1] == Y[j - 1]: #If the values in X and Y match\n",
    "            lcs_sequence[index] = X[i - 1] #Add the character to the LCS\n",
    "            i -= 1 #Move diagonally up-left\n",
    "            j -= 1\n",
    "            index -= 1 #Move to the next sequence in the LCS sequence\n",
    "        elif C[i - 1][j] > C[i][j - 1]: #Else move up or left\n",
    "            i -= 1\n",
    "        else:\n",
    "            j -= 1\n",
    "    \n",
    "    #Return the LCS as a single string\n",
    "    return ''.join(lcs_sequence)\n",
    "\n",
    "\n",
    "X1, Y1 = \"ACGGA\", \"ACTG\"\n",
    "\n",
    "print(\"Test Case 1:\")\n",
    "print(lcs(X1, Y1)) "
   ]
  },
  {
   "cell_type": "markdown",
   "id": "subject-annual",
   "metadata": {},
   "source": [
    "***"
   ]
  },
  {
   "cell_type": "markdown",
   "id": "enormous-bishop",
   "metadata": {},
   "source": [
    "### Section 2: Unbounded Knapsack Problem"
   ]
  },
  {
   "cell_type": "markdown",
   "id": "grand-decision",
   "metadata": {},
   "source": [
    "Let us build a solution to unbounded Knapsack problem."
   ]
  },
  {
   "cell_type": "code",
   "execution_count": 17,
   "id": "connected-sustainability",
   "metadata": {},
   "outputs": [],
   "source": [
    "def unboundedKnapsack(W, n, wt, vals, names):\n",
    "    #W is maximum weight in knapsack\n",
    "    #n is number of items, wt is weight\n",
    "    #vals is value, names is item names\n",
    " \n",
    "    K = [0 for i in range(W + 1)] #K stores the maximum values for each weight from 0 to W\n",
    "    UNBOUNDEDITEMS = [[] for i in range(W + 1)] #Stores the items contributing to W\n",
    " \n",
    "    #Loop over all possible knapsack capacities\n",
    "    for x in range(1, W + 1):\n",
    "        for i in range(1, n): #Loop through each item to see if they fit in the knapsack\n",
    "            prev_k = K[x] #Store K[x]\n",
    "            \n",
    "            if (wt[i] <= x): # Check if the current item's weight is less than or equal to the current capacity\n",
    "                K[x] = max(K[x], K[x - wt[i]] + vals[i])\n",
    "                \n",
    "            if K[x] != prev_k:\n",
    "                UNBOUNDEDITEMS[x] = UNBOUNDEDITEMS[x - wt[i]] + names[i]\n",
    "                \n",
    "    return K[W], UNBOUNDEDITEMS[W]"
   ]
  },
  {
   "cell_type": "code",
   "execution_count": 18,
   "id": "moderate-orbit",
   "metadata": {},
   "outputs": [
    {
     "name": "stdout",
     "output_type": "stream",
     "text": [
      "We have 4 items\n",
      "47 ['sandwich', 'sandwich', 'sandwich', 'Globe']\n"
     ]
    }
   ],
   "source": [
    "W = 11\n",
    "wt = [6, 2, 4, 3, 11]\n",
    "vals = [20, 8, 14, 13, 35]\n",
    "names = [[\"Turtle\"], [\"Globe\"], [\"WaterMelon\"], [\"sandwich\"], [\"ambulance\"]]\n",
    "\n",
    "\n",
    "n = len(names)\n",
    "K, UNBOUNDEDITEMS = unboundedKnapsack(W, n, wt, vals, names)\n",
    "\n",
    "number_of_items = len(UNBOUNDEDITEMS)\n",
    "\n",
    "\n",
    "print('We have {} items'.format(number_of_items))\n",
    "print(K, UNBOUNDEDITEMS)\n",
    "\n"
   ]
  },
  {
   "cell_type": "markdown",
   "id": "divine-glossary",
   "metadata": {},
   "source": [
    "***"
   ]
  },
  {
   "cell_type": "markdown",
   "id": "eb2033b6",
   "metadata": {},
   "source": [
    "### <font color='red'> Activity 3: In the earlier activity, you analysed the code for unbounded knapsack. Based on the algorithm discussed in this section, implement a solution to do 0/1 Knapsack. Make sure you test your algorithms for various test-cases. </font>"
   ]
  },
  {
   "cell_type": "code",
   "execution_count": 19,
   "id": "floral-reggae",
   "metadata": {},
   "outputs": [],
   "source": [
    "def boundedKnapsack(W, n, wt, vals, names):\n",
    "    \n",
    "    K = [[0 for _ in range(n+1)] for _ in range(W+1)]\n",
    "    BOUNDEDITEMS = [[[] for _ in range(n+1)] for _ in range(W+1)]\n",
    "\n",
    "    for x in range(1,W+1):\n",
    "        for j in range(1,n+1):\n",
    "            K[x][j] = K[x][j-1]\n",
    "            if wt[j-1] <= x:\n",
    "                K[x][j] = max(K[x][j], K[x-wt[j-1]][j-1] + vals[j-1])\n",
    "            if K[x][j] != K[x][j-1]:\n",
    "                BOUNDEDITEMS[x][j] = BOUNDEDITEMS[x - wt[j-1]][j-1] + [names[j-1]]\n",
    "            else:\n",
    "                BOUNDEDITEMS[x][j] = BOUNDEDITEMS[x][j-1]\n",
    "    \n",
    "    return K[W][n], BOUNDEDITEMS[W][n]\n",
    "\n"
   ]
  },
  {
   "cell_type": "markdown",
   "id": "asian-garbage",
   "metadata": {},
   "source": [
    "Class Room Test-case"
   ]
  },
  {
   "cell_type": "code",
   "execution_count": 20,
   "id": "earned-sierra",
   "metadata": {},
   "outputs": [
    {
     "name": "stdout",
     "output_type": "stream",
     "text": [
      "We have 3 items\n",
      "35 ['Banana', 'Strawberry', 'Pear']\n"
     ]
    }
   ],
   "source": [
    "W = 10\n",
    "V = [20, 8, 14, 13, 35]\n",
    "w = [6, 2, 4, 3, 11]\n",
    "names = ['Apple','Banana','Strawberry','Pear','Pineapple']\n",
    "\n",
    "\n",
    "n = len(names) \n",
    "K, BOUNDEDITEMS = boundedKnapsack(W, n, wt, vals, names)\n",
    "number_of_items = len(BOUNDEDITEMS)\n",
    "\n",
    "print('We have {} items'.format(number_of_items))  \n",
    "\n",
    "print(K, BOUNDEDITEMS)"
   ]
  },
  {
   "cell_type": "code",
   "execution_count": null,
   "id": "b1996cc3-e3c3-439c-914f-f26d5c23ccfa",
   "metadata": {},
   "outputs": [],
   "source": []
  },
  {
   "cell_type": "code",
   "execution_count": null,
   "id": "ba63a273-866c-4932-b945-76717f6953fd",
   "metadata": {},
   "outputs": [],
   "source": []
  },
  {
   "cell_type": "code",
   "execution_count": null,
   "id": "543cf8e1-7061-429e-b943-74b381cf3981",
   "metadata": {},
   "outputs": [],
   "source": []
  }
 ],
 "metadata": {
  "kernelspec": {
   "display_name": "Python 3 (ipykernel)",
   "language": "python",
   "name": "python3"
  },
  "language_info": {
   "codemirror_mode": {
    "name": "ipython",
    "version": 3
   },
   "file_extension": ".py",
   "mimetype": "text/x-python",
   "name": "python",
   "nbconvert_exporter": "python",
   "pygments_lexer": "ipython3",
   "version": "3.9.13"
  }
 },
 "nbformat": 4,
 "nbformat_minor": 5
}
