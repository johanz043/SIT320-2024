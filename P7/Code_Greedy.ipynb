{
 "cells": [
  {
   "cell_type": "markdown",
   "id": "imposed-playlist",
   "metadata": {},
   "source": [
    "# Greedy Algorithms"
   ]
  },
  {
   "cell_type": "markdown",
   "id": "d97cce87",
   "metadata": {},
   "source": [
    "Lab associated with Module 8: Greedy Algorithms"
   ]
  },
  {
   "cell_type": "markdown",
   "id": "5c7f2e9d",
   "metadata": {},
   "source": [
    "***"
   ]
  },
  {
   "cell_type": "code",
   "execution_count": 1,
   "id": "5b495ad0",
   "metadata": {},
   "outputs": [
    {
     "data": {
      "text/html": [
       "<style>.container { width:95% !important; }</style>"
      ],
      "text/plain": [
       "<IPython.core.display.HTML object>"
      ]
     },
     "metadata": {},
     "output_type": "display_data"
    }
   ],
   "source": [
    "# The following lines are used to increase the width of cells to utilize more space on the screen \n",
    "from IPython.core.display import display, HTML\n",
    "display(HTML(\"<style>.container { width:95% !important; }</style>\"))"
   ]
  },
  {
   "cell_type": "markdown",
   "id": "3a2b855c",
   "metadata": {},
   "source": [
    "***"
   ]
  },
  {
   "cell_type": "markdown",
   "id": "9d0921a0",
   "metadata": {},
   "source": [
    "### Section 0: Imports"
   ]
  },
  {
   "cell_type": "code",
   "execution_count": 2,
   "id": "477622d5",
   "metadata": {},
   "outputs": [],
   "source": [
    "import numpy as np"
   ]
  },
  {
   "cell_type": "code",
   "execution_count": 3,
   "id": "50fb5ed5",
   "metadata": {},
   "outputs": [],
   "source": [
    "import math"
   ]
  },
  {
   "cell_type": "code",
   "execution_count": 4,
   "id": "9910ee06",
   "metadata": {},
   "outputs": [],
   "source": [
    "from IPython.display import Image\n",
    "from graphviz import Digraph"
   ]
  },
  {
   "cell_type": "markdown",
   "id": "7f9321f8",
   "metadata": {},
   "source": [
    "***"
   ]
  },
  {
   "cell_type": "markdown",
   "id": "f9b31a04",
   "metadata": {
    "tags": []
   },
   "source": [
    "### <font color='red'> Activity 1: Write code for creating a prefix tree for any arbitrary distribution, e.g., [A:45, B:13, C:12, D:16, E:9, F:5]. Your algorithm should return the prefix tree and should display the correct code for every alphabet.. </font>"
   ]
  },
  {
   "cell_type": "code",
   "execution_count": 5,
   "id": "8d176b03",
   "metadata": {},
   "outputs": [
    {
     "name": "stdout",
     "output_type": "stream",
     "text": [
      "\n",
      "Symbol\t Codeword\n",
      "------   --------\n",
      " A\t    0\n",
      " C\t    100\n",
      " B\t    101\n",
      " D\t    111\n",
      " F\t    1100\n",
      " E\t    1101\n"
     ]
    }
   ],
   "source": [
    "#### TODO ####\n",
    "### Good Luck ###\n",
    "\n",
    "class Node:\n",
    "    def __init__(self, symbol, probability, left=None, right=None):\n",
    "        self.symbol = symbol\n",
    "        self.probability = probability\n",
    "        self.left = left\n",
    "        self.right = right\n",
    "\n",
    "    def __lt__(self, other):\n",
    "        return self.probability < other.probability\n",
    "\n",
    "#Creates the tree\n",
    "def huffman_coding(symbols, probabilities):\n",
    "    \n",
    "    #Creates nodes for each letter along with its probability\n",
    "    nodes = [Node(symbol, prob) for symbol, prob in zip(symbols, probabilities)]\n",
    "\n",
    "    while len(nodes) > 1: #While there is more than one node left\n",
    "        nodes.sort() #Sort the nodes by probability\n",
    "        left, right = nodes.pop(0), nodes.pop(0) #Takes the two nodes with the smallest probabilities\n",
    "        #Creates a parent by adding their probabilites\n",
    "        parent = Node(None, left.probability + right.probability, left, right)\n",
    "        nodes.append(parent) #Adds the parent to the list of nodes\n",
    "        nodes.sort()\n",
    "\n",
    "    codes = {} #Stores Huffman codes\n",
    "    curr_node = nodes[0]  #Start from the root of the tree\n",
    "    curr_code = \"\" #Holds the current node\n",
    "\n",
    "    #Traverses the tree\n",
    "    def traverse(node, code):\n",
    "        if node is None: #If there are no nodes\n",
    "            return\n",
    "        if node.symbol is not None: #If we reach leaf node, store its code\n",
    "            codes[node.symbol] = code\n",
    "            return\n",
    "\n",
    "        traverse(node.left, code + \"0\") #Append 0 to the code when going left\n",
    "        traverse(node.right, code + \"1\") #Append 1 to the code when going right\n",
    "\n",
    "        #Recursively calls this function\n",
    "    traverse(curr_node, curr_code)\n",
    "    return codes #Return codes\n",
    "\n",
    "def main():\n",
    "    symbols = ['A', 'B', 'C', 'D', 'E', 'F']\n",
    "    probabilities = [45, 13, 12, 16, 9, 5]\n",
    "    \n",
    "    codes = huffman_coding(symbols, probabilities)\n",
    "\n",
    "    sorted_codes = sorted(codes.items(), key=lambda x: (len(x[1]), x[1]))\n",
    "\n",
    "    print(\"\\nSymbol\\t Codeword\")\n",
    "    print(\"------   --------\")\n",
    "    \n",
    "    for symbol, code in sorted_codes:\n",
    "        print(f\" {symbol}\\t    {code}\")\n",
    "\n",
    "if __name__ == \"__main__\":\n",
    "    main()"
   ]
  },
  {
   "cell_type": "markdown",
   "id": "6570890e",
   "metadata": {},
   "source": [
    "***"
   ]
  },
  {
   "cell_type": "markdown",
   "id": "6e92fc09",
   "metadata": {},
   "source": [
    "###  Prim's Algorithm"
   ]
  },
  {
   "cell_type": "markdown",
   "id": "ce467019",
   "metadata": {},
   "source": [
    "Graph's Preliminaries"
   ]
  },
  {
   "cell_type": "code",
   "execution_count": 6,
   "id": "4cdc7ece",
   "metadata": {},
   "outputs": [],
   "source": [
    "from graph import *"
   ]
  },
  {
   "cell_type": "code",
   "execution_count": 7,
   "id": "1da1a987-8ecb-495e-8ce1-255add988b71",
   "metadata": {},
   "outputs": [],
   "source": [
    "class Node:\n",
    "    \n",
    "    def __init__(self, v):\n",
    "\n",
    "        self.value = v\n",
    "        self.inNeighbors = []\n",
    "        self.outNeighbors = []\n",
    "        \n",
    "        self.status = \"unvisited\"\n",
    "        self.estD = np.inf\n",
    "\n",
    "        self.parent = None\n",
    "        \n",
    "    def hasOutNeighbor(self, v):\n",
    "        \n",
    "        if v in self.outNeighbors:\n",
    "            return True\n",
    "        \n",
    "        return False\n",
    "        \n",
    "    def hasInNeighbor(self, v):\n",
    "        \n",
    "        if v in self.inNeighbors:\n",
    "            return True\n",
    "        \n",
    "        return False\n",
    "    \n",
    "    def hasNeighbor(self, v):\n",
    "        \n",
    "        if v in self.inNeighbors or v in self.outNeighbors:\n",
    "            return True\n",
    "        \n",
    "        return False\n",
    "    \n",
    "    def getOutNeighbors(self):\n",
    "        \n",
    "        return self.outNeighbors\n",
    "    \n",
    "    def getInNeighbors(self):\n",
    "        \n",
    "        return self.inNeighbors\n",
    "    \n",
    "    def getOutNeighborsWithWeights(self):\n",
    "        \n",
    "        return self.outNeighbors\n",
    "    \n",
    "    def getInNeighborsWithWeights(self):\n",
    "        \n",
    "        return self.inNeighbors\n",
    "    \n",
    "    # ------------------------------------------------\n",
    "    # Let us modify following two functions to incorporate weights\n",
    "    # ------------------------------------------------\n",
    "    \n",
    "    def addOutNeighbor(self,v,wt):\n",
    "        \n",
    "        self.outNeighbors.append((v,wt))\n",
    "    \n",
    "    def addInNeighbor(self,v,wt):\n",
    "        \n",
    "        self.inNeighbors.append((v,wt))\n",
    "    def __lt__(self, other):\n",
    "        return self.value < other.value\n",
    "        \n",
    "        \n",
    "    def __str__(self):\n",
    "        \n",
    "        return str(self.value) \n",
    "\n",
    "\n",
    "class Graph:\n",
    "    \n",
    "    def __init__(self):\n",
    "        \n",
    "        self.vertices = []\n",
    "\n",
    "    def addVertex(self,n):\n",
    "        \n",
    "        self.vertices.append(n)\n",
    "        \n",
    "    # ------------------------------------------------\n",
    "    # Let us modify following two functions to incorporate weights\n",
    "    # ------------------------------------------------\n",
    "        \n",
    "    def addDiEdge(self, u, v, wt = 1):\n",
    "        \n",
    "        u.addOutNeighbor(v, wt = wt)\n",
    "        v.addInNeighbor(u, wt = wt)\n",
    "        \n",
    "    # add edges in both directions between u and v\n",
    "    def addBiEdge(self, u, v, wt = 1):\n",
    "        \n",
    "        self.addDiEdge(u, v, wt = wt)\n",
    "        self.addDiEdge(v, u, wt = wt)\n",
    "        \n",
    "            \n",
    "    # get a list of all the directed edges\n",
    "    # directed edges are a list of two vertices\n",
    "    def getDirEdges(self):\n",
    "        \n",
    "        ret = []\n",
    "        for v in self.vertices:\n",
    "            ret += [ [v, u] for u in v.outNeighbors ]\n",
    "        return ret\n",
    "    \n",
    "    # reverse the edge between u and v.  Multiple edges are not supported.\n",
    "    def reverseEdge(self,u,v):\n",
    "        \n",
    "        if u.hasOutNeighbor(v) and v.hasInNeighbor(u):\n",
    "            \n",
    "            if v.hasOutNeighbor(u) and u.hasInNeighbor(v): \n",
    "                return\n",
    "        \n",
    "            self.addDiEdge(v, u)\n",
    "            u.outNeighbors.remove(v)\n",
    "            v.inNeighbors.remove(u)        \n",
    "                \n",
    "    def __str__(self):\n",
    "        \n",
    "        ret = \"Graph with:\\n\"\n",
    "        ret += \"\\t Vertices:\\n\\t\"\n",
    "        for v in self.vertices:\n",
    "            ret += str(v) + \",\"\n",
    "        ret += \"\\n\"\n",
    "        ret += \"\\t Edges:\\n\\t\"\n",
    "        for a,b in self.getDirEdges():\n",
    "            ret += \"(\" + str(a) + \",\" + str(b[0]) + \",\" + str (b[1]) + \") \"\n",
    "        ret += \"\\n\"\n",
    "        return ret"
   ]
  },
  {
   "cell_type": "code",
   "execution_count": 8,
   "id": "a75ba3ec",
   "metadata": {},
   "outputs": [],
   "source": [
    "G = Graph()\n",
    "\n",
    "for i in ['A', 'B', 'C', 'D', 'E', 'F', 'G', 'H', 'I']:\n",
    "    G.addVertex( Node(i) )"
   ]
  },
  {
   "cell_type": "code",
   "execution_count": 9,
   "id": "c990d75e",
   "metadata": {},
   "outputs": [],
   "source": [
    "V = G.vertices\n",
    "\n",
    "#0, 1, 2, 3, 4, 5, 6, 7, 8\n",
    "#A, B, C, D, E, F, G, H, I\n",
    "\n",
    "G.addBiEdge( V[0], V[1], 4)\n",
    "G.addBiEdge( V[0], V[7] , 8)\n",
    "G.addBiEdge( V[1], V[7], 11)\n",
    "G.addBiEdge( V[1], V[2], 8)\n",
    "G.addBiEdge( V[2], V[3], 7)\n",
    "G.addBiEdge( V[3], V[4], 9)\n",
    "G.addBiEdge( V[3], V[5], 14 )\n",
    "G.addBiEdge( V[4], V[5], 10 )\n",
    "G.addBiEdge( V[2], V[5], 4 )\n",
    "G.addBiEdge( V[2], V[8], 2 )\n",
    "G.addBiEdge( V[5], V[6], 2 )\n",
    "G.addBiEdge( V[6], V[7], 1 )\n",
    "G.addBiEdge( V[6], V[8], 6 )\n",
    "G.addBiEdge( V[7], V[8], 7 )\n",
    "\n",
    "dot = Digraph()\n",
    "dot.edge('A', 'B', label='4')\n",
    "dot.edge('A', 'H', label='8')\n",
    "dot.edge('B', 'H', label='11')\n",
    "dot.edge('B', 'C', label='8')\n",
    "dot.edge('C', 'D', label='7')\n",
    "dot.edge('D', 'E', label='9')\n",
    "dot.edge('D', 'F', label='14')\n",
    "dot.edge('E', 'F', label='10')\n",
    "dot.edge('C', 'F', label='4')\n",
    "dot.edge('C', 'I', label='2')\n",
    "dot.edge('F', 'G', label='2')\n",
    "dot.edge('G', 'H', label='1')\n",
    "dot.edge('G', 'I', label='6')\n",
    "dot.edge('H', 'I', label='7')\n"
   ]
  },
  {
   "cell_type": "code",
   "execution_count": 10,
   "id": "2ac81f26",
   "metadata": {},
   "outputs": [
    {
     "name": "stdout",
     "output_type": "stream",
     "text": [
      "Graph with:\n",
      "\t Vertices:\n",
      "\tA,B,C,D,E,F,G,H,I,\n",
      "\t Edges:\n",
      "\t(A,B,4) (A,H,8) (B,A,4) (B,H,11) (B,C,8) (C,B,8) (C,D,7) (C,F,4) (C,I,2) (D,C,7) (D,E,9) (D,F,14) (E,D,9) (E,F,10) (F,D,14) (F,E,10) (F,C,4) (F,G,2) (G,F,2) (G,H,1) (G,I,6) (H,A,8) (H,B,11) (H,G,1) (H,I,7) (I,C,2) (I,G,6) (I,H,7) \n",
      "\n"
     ]
    }
   ],
   "source": [
    "print(G)"
   ]
  },
  {
   "cell_type": "code",
   "execution_count": 11,
   "id": "74bb6798-3257-41fa-88be-514dcdd452ed",
   "metadata": {},
   "outputs": [
    {
     "data": {
      "image/svg+xml": [
       "<?xml version=\"1.0\" encoding=\"UTF-8\" standalone=\"no\"?>\r\n",
       "<!DOCTYPE svg PUBLIC \"-//W3C//DTD SVG 1.1//EN\"\r\n",
       " \"http://www.w3.org/Graphics/SVG/1.1/DTD/svg11.dtd\">\r\n",
       "<!-- Generated by graphviz version 2.38.0 (20140413.2041)\r\n",
       " -->\r\n",
       "<!-- Title: %3 Pages: 1 -->\r\n",
       "<svg width=\"268pt\" height=\"740pt\"\r\n",
       " viewBox=\"0.00 0.00 268.00 740.00\" xmlns=\"http://www.w3.org/2000/svg\" xmlns:xlink=\"http://www.w3.org/1999/xlink\">\r\n",
       "<g id=\"graph0\" class=\"graph\" transform=\"scale(1 1) rotate(0) translate(4 736)\">\r\n",
       "<title>%3</title>\r\n",
       "<polygon fill=\"white\" stroke=\"none\" points=\"-4,4 -4,-736 264,-736 264,4 -4,4\"/>\r\n",
       "<!-- A -->\r\n",
       "<g id=\"node1\" class=\"node\"><title>A</title>\r\n",
       "<ellipse fill=\"none\" stroke=\"black\" cx=\"27\" cy=\"-714\" rx=\"27\" ry=\"18\"/>\r\n",
       "<text text-anchor=\"middle\" x=\"27\" y=\"-710.3\" font-family=\"Times New Roman,serif\" font-size=\"14.00\">A</text>\r\n",
       "</g>\r\n",
       "<!-- B -->\r\n",
       "<g id=\"node2\" class=\"node\"><title>B</title>\r\n",
       "<ellipse fill=\"none\" stroke=\"black\" cx=\"60\" cy=\"-627\" rx=\"27\" ry=\"18\"/>\r\n",
       "<text text-anchor=\"middle\" x=\"60\" y=\"-623.3\" font-family=\"Times New Roman,serif\" font-size=\"14.00\">B</text>\r\n",
       "</g>\r\n",
       "<!-- A&#45;&gt;B -->\r\n",
       "<g id=\"edge1\" class=\"edge\"><title>A&#45;&gt;B</title>\r\n",
       "<path fill=\"none\" stroke=\"black\" d=\"M33.5197,-696.207C38.1751,-684.216 44.5284,-667.851 49.8449,-654.157\"/>\r\n",
       "<polygon fill=\"black\" stroke=\"black\" points=\"53.1373,-655.347 53.4938,-644.758 46.6118,-652.814 53.1373,-655.347\"/>\r\n",
       "<text text-anchor=\"middle\" x=\"48.5\" y=\"-666.8\" font-family=\"Times New Roman,serif\" font-size=\"14.00\">4</text>\r\n",
       "</g>\r\n",
       "<!-- H -->\r\n",
       "<g id=\"node3\" class=\"node\"><title>H</title>\r\n",
       "<ellipse fill=\"none\" stroke=\"black\" cx=\"53\" cy=\"-105\" rx=\"27\" ry=\"18\"/>\r\n",
       "<text text-anchor=\"middle\" x=\"53\" y=\"-101.3\" font-family=\"Times New Roman,serif\" font-size=\"14.00\">H</text>\r\n",
       "</g>\r\n",
       "<!-- A&#45;&gt;H -->\r\n",
       "<g id=\"edge2\" class=\"edge\"><title>A&#45;&gt;H</title>\r\n",
       "<path fill=\"none\" stroke=\"black\" d=\"M20.0391,-696.395C13.5938,-679.495 5,-652.389 5,-628 5,-628 5,-628 5,-191 5,-167.476 19.1114,-144.473 32.0316,-128.342\"/>\r\n",
       "<polygon fill=\"black\" stroke=\"black\" points=\"34.8202,-130.464 38.5984,-120.566 29.4722,-125.948 34.8202,-130.464\"/>\r\n",
       "<text text-anchor=\"middle\" x=\"8.5\" y=\"-405.8\" font-family=\"Times New Roman,serif\" font-size=\"14.00\">8</text>\r\n",
       "</g>\r\n",
       "<!-- B&#45;&gt;H -->\r\n",
       "<g id=\"edge3\" class=\"edge\"><title>B&#45;&gt;H</title>\r\n",
       "<path fill=\"none\" stroke=\"black\" d=\"M57.1028,-608.8C54.4718,-591.67 51,-564.595 51,-541 51,-541 51,-541 51,-191 51,-171.747 51.5192,-150.048 52.0285,-133.393\"/>\r\n",
       "<polygon fill=\"black\" stroke=\"black\" points=\"55.5312,-133.362 52.3562,-123.254 48.5349,-133.135 55.5312,-133.362\"/>\r\n",
       "<text text-anchor=\"middle\" x=\"58\" y=\"-362.3\" font-family=\"Times New Roman,serif\" font-size=\"14.00\">11</text>\r\n",
       "</g>\r\n",
       "<!-- C -->\r\n",
       "<g id=\"node4\" class=\"node\"><title>C</title>\r\n",
       "<ellipse fill=\"none\" stroke=\"black\" cx=\"122\" cy=\"-540\" rx=\"27\" ry=\"18\"/>\r\n",
       "<text text-anchor=\"middle\" x=\"122\" y=\"-536.3\" font-family=\"Times New Roman,serif\" font-size=\"14.00\">C</text>\r\n",
       "</g>\r\n",
       "<!-- B&#45;&gt;C -->\r\n",
       "<g id=\"edge4\" class=\"edge\"><title>B&#45;&gt;C</title>\r\n",
       "<path fill=\"none\" stroke=\"black\" d=\"M71.3718,-610.41C80.7232,-597.589 94.1229,-579.219 104.788,-564.597\"/>\r\n",
       "<polygon fill=\"black\" stroke=\"black\" points=\"107.635,-566.633 110.7,-556.491 101.98,-562.508 107.635,-566.633\"/>\r\n",
       "<text text-anchor=\"middle\" x=\"97.5\" y=\"-579.8\" font-family=\"Times New Roman,serif\" font-size=\"14.00\">8</text>\r\n",
       "</g>\r\n",
       "<!-- I -->\r\n",
       "<g id=\"node8\" class=\"node\"><title>I</title>\r\n",
       "<ellipse fill=\"none\" stroke=\"black\" cx=\"118\" cy=\"-18\" rx=\"27\" ry=\"18\"/>\r\n",
       "<text text-anchor=\"middle\" x=\"118\" y=\"-14.3\" font-family=\"Times New Roman,serif\" font-size=\"14.00\">I</text>\r\n",
       "</g>\r\n",
       "<!-- H&#45;&gt;I -->\r\n",
       "<g id=\"edge14\" class=\"edge\"><title>H&#45;&gt;I</title>\r\n",
       "<path fill=\"none\" stroke=\"black\" d=\"M64.922,-88.4097C74.726,-75.5891 88.774,-57.2186 99.9553,-42.597\"/>\r\n",
       "<polygon fill=\"black\" stroke=\"black\" points=\"102.859,-44.5612 106.154,-34.4915 97.2988,-40.309 102.859,-44.5612\"/>\r\n",
       "<text text-anchor=\"middle\" x=\"92.5\" y=\"-57.8\" font-family=\"Times New Roman,serif\" font-size=\"14.00\">7</text>\r\n",
       "</g>\r\n",
       "<!-- D -->\r\n",
       "<g id=\"node5\" class=\"node\"><title>D</title>\r\n",
       "<ellipse fill=\"none\" stroke=\"black\" cx=\"148\" cy=\"-453\" rx=\"27\" ry=\"18\"/>\r\n",
       "<text text-anchor=\"middle\" x=\"148\" y=\"-449.3\" font-family=\"Times New Roman,serif\" font-size=\"14.00\">D</text>\r\n",
       "</g>\r\n",
       "<!-- C&#45;&gt;D -->\r\n",
       "<g id=\"edge5\" class=\"edge\"><title>C&#45;&gt;D</title>\r\n",
       "<path fill=\"none\" stroke=\"black\" d=\"M127.137,-522.207C130.769,-510.332 135.713,-494.168 139.877,-480.557\"/>\r\n",
       "<polygon fill=\"black\" stroke=\"black\" points=\"143.296,-481.345 142.874,-470.758 136.602,-479.297 143.296,-481.345\"/>\r\n",
       "<text text-anchor=\"middle\" x=\"139.5\" y=\"-492.8\" font-family=\"Times New Roman,serif\" font-size=\"14.00\">7</text>\r\n",
       "</g>\r\n",
       "<!-- F -->\r\n",
       "<g id=\"node7\" class=\"node\"><title>F</title>\r\n",
       "<ellipse fill=\"none\" stroke=\"black\" cx=\"127\" cy=\"-279\" rx=\"27\" ry=\"18\"/>\r\n",
       "<text text-anchor=\"middle\" x=\"127\" y=\"-275.3\" font-family=\"Times New Roman,serif\" font-size=\"14.00\">F</text>\r\n",
       "</g>\r\n",
       "<!-- C&#45;&gt;F -->\r\n",
       "<g id=\"edge9\" class=\"edge\"><title>C&#45;&gt;F</title>\r\n",
       "<path fill=\"none\" stroke=\"black\" d=\"M118.801,-522.029C116.387,-508.319 113.279,-488.494 112,-471 107.727,-412.577 116.432,-344.143 122.281,-307.122\"/>\r\n",
       "<polygon fill=\"black\" stroke=\"black\" points=\"125.758,-307.55 123.915,-297.117 118.849,-306.422 125.758,-307.55\"/>\r\n",
       "<text text-anchor=\"middle\" x=\"114.5\" y=\"-405.8\" font-family=\"Times New Roman,serif\" font-size=\"14.00\">4</text>\r\n",
       "</g>\r\n",
       "<!-- C&#45;&gt;I -->\r\n",
       "<g id=\"edge10\" class=\"edge\"><title>C&#45;&gt;I</title>\r\n",
       "<path fill=\"none\" stroke=\"black\" d=\"M147.881,-534.31C186.059,-525.73 253,-503.613 253,-454 253,-454 253,-454 253,-104 253,-57.1197 193.981,-35.0733 153.989,-25.5157\"/>\r\n",
       "<polygon fill=\"black\" stroke=\"black\" points=\"154.551,-22.0552 144.029,-23.2955 153.028,-28.8875 154.551,-22.0552\"/>\r\n",
       "<text text-anchor=\"middle\" x=\"256.5\" y=\"-275.3\" font-family=\"Times New Roman,serif\" font-size=\"14.00\">2</text>\r\n",
       "</g>\r\n",
       "<!-- E -->\r\n",
       "<g id=\"node6\" class=\"node\"><title>E</title>\r\n",
       "<ellipse fill=\"none\" stroke=\"black\" cx=\"198\" cy=\"-366\" rx=\"27\" ry=\"18\"/>\r\n",
       "<text text-anchor=\"middle\" x=\"198\" y=\"-362.3\" font-family=\"Times New Roman,serif\" font-size=\"14.00\">E</text>\r\n",
       "</g>\r\n",
       "<!-- D&#45;&gt;E -->\r\n",
       "<g id=\"edge6\" class=\"edge\"><title>D&#45;&gt;E</title>\r\n",
       "<path fill=\"none\" stroke=\"black\" d=\"M157.405,-436.012C164.738,-423.546 175.051,-406.013 183.447,-391.739\"/>\r\n",
       "<polygon fill=\"black\" stroke=\"black\" points=\"186.584,-393.31 188.638,-382.916 180.551,-389.761 186.584,-393.31\"/>\r\n",
       "<text text-anchor=\"middle\" x=\"178.5\" y=\"-405.8\" font-family=\"Times New Roman,serif\" font-size=\"14.00\">9</text>\r\n",
       "</g>\r\n",
       "<!-- D&#45;&gt;F -->\r\n",
       "<g id=\"edge7\" class=\"edge\"><title>D&#45;&gt;F</title>\r\n",
       "<path fill=\"none\" stroke=\"black\" d=\"M145.91,-434.879C142.262,-405.001 134.706,-343.113 130.33,-307.274\"/>\r\n",
       "<polygon fill=\"black\" stroke=\"black\" points=\"133.768,-306.554 129.082,-297.052 126.82,-307.402 133.768,-306.554\"/>\r\n",
       "<text text-anchor=\"middle\" x=\"146\" y=\"-362.3\" font-family=\"Times New Roman,serif\" font-size=\"14.00\">14</text>\r\n",
       "</g>\r\n",
       "<!-- E&#45;&gt;F -->\r\n",
       "<g id=\"edge8\" class=\"edge\"><title>E&#45;&gt;F</title>\r\n",
       "<path fill=\"none\" stroke=\"black\" d=\"M185.307,-349.804C174.403,-336.75 158.52,-317.735 146.084,-302.847\"/>\r\n",
       "<polygon fill=\"black\" stroke=\"black\" points=\"148.68,-300.496 139.583,-295.065 143.308,-304.983 148.68,-300.496\"/>\r\n",
       "<text text-anchor=\"middle\" x=\"173\" y=\"-318.8\" font-family=\"Times New Roman,serif\" font-size=\"14.00\">10</text>\r\n",
       "</g>\r\n",
       "<!-- G -->\r\n",
       "<g id=\"node9\" class=\"node\"><title>G</title>\r\n",
       "<ellipse fill=\"none\" stroke=\"black\" cx=\"118\" cy=\"-192\" rx=\"27\" ry=\"18\"/>\r\n",
       "<text text-anchor=\"middle\" x=\"118\" y=\"-188.3\" font-family=\"Times New Roman,serif\" font-size=\"14.00\">G</text>\r\n",
       "</g>\r\n",
       "<!-- F&#45;&gt;G -->\r\n",
       "<g id=\"edge11\" class=\"edge\"><title>F&#45;&gt;G</title>\r\n",
       "<path fill=\"none\" stroke=\"black\" d=\"M125.179,-260.799C123.947,-249.163 122.293,-233.548 120.884,-220.237\"/>\r\n",
       "<polygon fill=\"black\" stroke=\"black\" points=\"124.352,-219.751 119.819,-210.175 117.391,-220.488 124.352,-219.751\"/>\r\n",
       "<text text-anchor=\"middle\" x=\"126.5\" y=\"-231.8\" font-family=\"Times New Roman,serif\" font-size=\"14.00\">2</text>\r\n",
       "</g>\r\n",
       "<!-- G&#45;&gt;H -->\r\n",
       "<g id=\"edge12\" class=\"edge\"><title>G&#45;&gt;H</title>\r\n",
       "<path fill=\"none\" stroke=\"black\" d=\"M106.078,-175.41C96.274,-162.589 82.226,-144.219 71.0447,-129.597\"/>\r\n",
       "<polygon fill=\"black\" stroke=\"black\" points=\"73.7012,-127.309 64.8464,-121.491 68.1407,-131.561 73.7012,-127.309\"/>\r\n",
       "<text text-anchor=\"middle\" x=\"92.5\" y=\"-144.8\" font-family=\"Times New Roman,serif\" font-size=\"14.00\">1</text>\r\n",
       "</g>\r\n",
       "<!-- G&#45;&gt;I -->\r\n",
       "<g id=\"edge13\" class=\"edge\"><title>G&#45;&gt;I</title>\r\n",
       "<path fill=\"none\" stroke=\"black\" d=\"M118,-173.879C118,-144.001 118,-82.1129 118,-46.2736\"/>\r\n",
       "<polygon fill=\"black\" stroke=\"black\" points=\"121.5,-46.0516 118,-36.0516 114.5,-46.0516 121.5,-46.0516\"/>\r\n",
       "<text text-anchor=\"middle\" x=\"121.5\" y=\"-101.3\" font-family=\"Times New Roman,serif\" font-size=\"14.00\">6</text>\r\n",
       "</g>\r\n",
       "</g>\r\n",
       "</svg>\r\n"
      ],
      "text/plain": [
       "<graphviz.dot.Digraph at 0x264b72da940>"
      ]
     },
     "execution_count": 11,
     "metadata": {},
     "output_type": "execute_result"
    }
   ],
   "source": [
    "dot"
   ]
  },
  {
   "cell_type": "markdown",
   "id": "10941ad1",
   "metadata": {},
   "source": [
    "This is what we had in the lectures as the slow implementation of Prim's Algorithm"
   ]
  },
  {
   "cell_type": "code",
   "execution_count": 12,
   "id": "c75594c0",
   "metadata": {},
   "outputs": [],
   "source": [
    "# G is graph\n",
    "# s is the node to start\n",
    "\n",
    "def slowPrim(G, s):\n",
    "    \n",
    "    # first, find the lightest edge leaving the starting node\n",
    "    bestWt = np.inf #Initialize the best weight as infinity\n",
    "    bestu = None #Initialize the best neighbouring node as none\n",
    "    \n",
    "    #Loop through all the neighbours of s to find the smallest edge\n",
    "    for u,wt in s.getOutNeighborsWithWeights():\n",
    "        \n",
    "        if wt < bestWt: #The edge is lighter than the current best\n",
    "            bestWt = wt #Update the best weight\n",
    "            bestu = u #Update the best neighbouring node\n",
    "    \n",
    "    MST = [ (s, bestu,bestWt) ] #Initialize the minimum spanning tree\n",
    "    verticesVisited = [s,bestu] #Initialize a list of visited vertices\n",
    "    \n",
    "    #Loop until all the vertices have been visited \n",
    "    while len(verticesVisited) < len(G.vertices): # danger! this will loop forever if the graph isn't connected...\n",
    "        \n",
    "        # find the lightest edge (x,v) so that x has been visited and v hasn't.\n",
    "        bestWt = np.inf #Initialize the best weight as infinity\n",
    "        bestv = None #Initialize best unvisited node\n",
    "        bestx = None #Initialize best visited node\n",
    "        \n",
    "        #Loop through all visited nodes\n",
    "        for x in verticesVisited:\n",
    "            #Loop through all its neighbours\n",
    "            for v,wt in x.getOutNeighborsWithWeights():\n",
    "                if v in verticesVisited: #If visited, skip\n",
    "                    continue\n",
    "                #If smaller than best\n",
    "                if wt < bestWt:\n",
    "                    bestWt = wt\n",
    "                    bestv = v\n",
    "                    bestx = x\n",
    "                    \n",
    "        MST.append((bestx,bestv,bestWt)) #Add selected edge to MST\n",
    "        verticesVisited.append(bestv)\n",
    "    \n",
    "    return MST"
   ]
  },
  {
   "cell_type": "code",
   "execution_count": 13,
   "id": "f6ff20d2",
   "metadata": {},
   "outputs": [
    {
     "name": "stdout",
     "output_type": "stream",
     "text": [
      "A B\n",
      "A H\n",
      "H G\n",
      "G F\n",
      "F C\n",
      "C I\n",
      "C D\n",
      "D E\n",
      "37\n"
     ]
    }
   ],
   "source": [
    "T = slowPrim(G, G.vertices[0])\n",
    "sum = 0\n",
    "for x,y,wt in T:\n",
    "    print(x,y)\n",
    "    sum += wt\n",
    "\n",
    "print(sum)"
   ]
  },
  {
   "cell_type": "markdown",
   "id": "3f2b31e2",
   "metadata": {},
   "source": [
    "Okay, it seems to be working fine, but as we discussed, will be quite slow. Let us see if we can work on the faster version of the code as:"
   ]
  },
  {
   "cell_type": "markdown",
   "id": "42212e3d",
   "metadata": {},
   "source": [
    "### <font color='red'> Activity 2: In lights of Prim's Algorithm above, write an efficient implementation based on our discussions in the Seminar/Lecture. </font>"
   ]
  },
  {
   "cell_type": "code",
   "execution_count": 14,
   "id": "e32585d1",
   "metadata": {},
   "outputs": [],
   "source": [
    "import heapdict as heapdict\n",
    "\n",
    "def prim(G,w):\n",
    "    \n",
    "    #Initialize all vertices estimated distance to infinity\n",
    "    for v in G.vertices: \n",
    "        v.estD = np.inf\n",
    "    \n",
    "    w.estD = 0 #Starting node distance set to 0\n",
    "    MST = [] #Inistialize minimum spanning tree list\n",
    "    unvisitedVertices = heapdict.heapdict() #Tracks unvisited vertices\n",
    "    \n",
    "    for v in G.vertices: #Adds all the vertices to the unvisited heap\n",
    "        unvisitedVertices[v] = v.estD\n",
    "    \n",
    "    #Loops through all the unvisited vertices\n",
    "    while len(unvisitedVertices) > 0:\n",
    "        \n",
    "        #Finds the u with the minimum estD, using the heap\n",
    "        u, dist = unvisitedVertices.popitem() \n",
    "        if u.estD == np.inf:\n",
    "            return #The graph is disconnected\n",
    "        \n",
    "        #Adds u to the Minimum Spanning Tree\n",
    "        if u.parent != None: #Skips the first vertex\n",
    "            MST.append((u.parent,u,dist)) #Add the edge to the MST\n",
    "        \n",
    "        #Loops through the neighbours of u\n",
    "        for v, wt in u.getOutNeighborsWithWeights():\n",
    "            if v in unvisitedVertices: #Loops through unvisited neighbours\n",
    "                if wt < v.estD:\n",
    "                    v.estD = wt #If the weight from u to v is smaller than v's current weight, update it\n",
    "                    unvisitedVertices[v] =  wt \n",
    "                    v.parent = u # v points to u now\n",
    "                    \n",
    "    return MST"
   ]
  },
  {
   "cell_type": "code",
   "execution_count": 15,
   "id": "e6c07571",
   "metadata": {},
   "outputs": [
    {
     "name": "stdout",
     "output_type": "stream",
     "text": [
      "A B\n",
      "B C\n",
      "C I\n",
      "C F\n",
      "F G\n",
      "G H\n",
      "C D\n",
      "D E\n",
      "37\n"
     ]
    }
   ],
   "source": [
    "T = prim(G, G.vertices[0])\n",
    "cost  = 0\n",
    "for x,y,wt in T:\n",
    "    print(x,y)\n",
    "    cost += wt\n",
    "\n",
    "print(cost)"
   ]
  },
  {
   "cell_type": "markdown",
   "id": "cc0f5215",
   "metadata": {},
   "source": [
    "***"
   ]
  },
  {
   "cell_type": "code",
   "execution_count": null,
   "id": "9ac357f1-c9b2-4ac3-9feb-86f515c0a324",
   "metadata": {},
   "outputs": [],
   "source": []
  },
  {
   "cell_type": "code",
   "execution_count": null,
   "id": "080735b4-a6ea-4103-a1d0-5e4c0b136d69",
   "metadata": {},
   "outputs": [],
   "source": []
  }
 ],
 "metadata": {
  "kernelspec": {
   "display_name": "Python 3 (ipykernel)",
   "language": "python",
   "name": "python3"
  },
  "language_info": {
   "codemirror_mode": {
    "name": "ipython",
    "version": 3
   },
   "file_extension": ".py",
   "mimetype": "text/x-python",
   "name": "python",
   "nbconvert_exporter": "python",
   "pygments_lexer": "ipython3",
   "version": "3.9.13"
  }
 },
 "nbformat": 4,
 "nbformat_minor": 5
}
