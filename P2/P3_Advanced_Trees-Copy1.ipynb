{
 "cells": [
  {
   "cell_type": "code",
   "execution_count": 12,
   "id": "8e3180ce-0443-4e1e-b7cc-bde38e13f0d2",
   "metadata": {},
   "outputs": [
    {
     "data": {
      "text/html": [
       "<style>.container { width:95% !important; }</style>"
      ],
      "text/plain": [
       "<IPython.core.display.HTML object>"
      ]
     },
     "metadata": {},
     "output_type": "display_data"
    }
   ],
   "source": [
    "# The following lines are used to increase the width of cells to utilize more space on the screen \n",
    "from IPython.core.display import display, HTML\n",
    "display(HTML(\"<style>.container { width:95% !important; }</style>\"))"
   ]
  },
  {
   "cell_type": "code",
   "execution_count": 13,
   "id": "2a6c467b-29ac-40a5-96c1-330d6993e267",
   "metadata": {},
   "outputs": [],
   "source": [
    "import numpy as np"
   ]
  },
  {
   "cell_type": "code",
   "execution_count": 14,
   "id": "6bc651d2-c198-44a0-9125-ca8a57c245a0",
   "metadata": {},
   "outputs": [],
   "source": [
    "from IPython.display import Image\n",
    "from graphviz import Digraph"
   ]
  },
  {
   "cell_type": "code",
   "execution_count": 15,
   "id": "bf94b8c0-f9ba-4a6d-854b-00a3f5c67a31",
   "metadata": {},
   "outputs": [],
   "source": [
    "#CREATE BINARY SEARCH TREE\n",
    "\n",
    "class Node:\n",
    "    \n",
    "    def __init__(self, value):\n",
    "\n",
    "        self.val = value\n",
    "        self.right = None\n",
    "        self.left = None\n",
    "        self.parent = None\n",
    "        self.height = 1\n",
    "        self.balance = 0\n",
    "\n",
    "def get_height(node):\n",
    "    if not node:\n",
    "        return 0\n",
    "    return node.height\n",
    "\n",
    "def update_height(node):\n",
    "    if not node:\n",
    "        return\n",
    "    node.height = 1 + max(get_height(node.left), get_height(node.right))\n",
    "        \n",
    "def get_balance(node):\n",
    "    if not node:\n",
    "        return 0\n",
    "    return node.balance  \n",
    "\n",
    "def update_balance(node):\n",
    "    if not node:\n",
    "        return \n",
    "    node.balance = get_height(node.left) - get_height(node.right)\n",
    "\n",
    "\n",
    "    \n",
    "def buildBinaryTree(nodes):\n",
    "    \n",
    "    if len(nodes) == 0:\n",
    "        raise ValueError('list is empty')\n",
    "        \n",
    "    root = binaryTree(nodes, 0, len(nodes) - 1)\n",
    "    update_tree(root)\n",
    "    return root\n",
    "        \n",
    "def binaryTree(nodes, start, end):\n",
    "    \n",
    "    if start > end:\n",
    "        return\n",
    "    \n",
    "    middle = (start + end) // 2\n",
    "    root = Node(nodes[middle])\n",
    "    root.left = binaryTree(nodes, start, middle - 1)\n",
    "    root.right = binaryTree(nodes, middle + 1, end)\n",
    "    return root\n",
    "\n",
    "def update_tree(node):\n",
    "    if not node:\n",
    "        return\n",
    "    update_tree(node.left)\n",
    "    update_tree(node.right)\n",
    "    update_height(node)\n",
    "    update_balance(node)\n",
    "    \n",
    "def left_rotate(root, p):\n",
    "    q = p.right\n",
    "    p.right = q.left\n",
    "    if q.left:\n",
    "        q.left.parent = p\n",
    "    q.parent = p.parent\n",
    "    if not p.parent:\n",
    "        root = q\n",
    "    elif p == p.parent.left:\n",
    "        p.parent.left = q\n",
    "    else:\n",
    "        p.parent.right = q\n",
    "    q.left = p\n",
    "    p.parent = q\n",
    "    update_height(p)\n",
    "    update_height(q)\n",
    "    update_balance(p)\n",
    "    update_balance(q)\n",
    "    return q  # Return new root of the subtree\n",
    "\n",
    "def right_rotate(root, p):\n",
    "    q = p.left\n",
    "    p.left = q.right\n",
    "    if q.right:\n",
    "        q.right.parent = p\n",
    "    q.parent = p.parent\n",
    "    if not p.parent:\n",
    "        root = q\n",
    "    elif p == p.parent.left:\n",
    "        p.parent.left = q\n",
    "    else:\n",
    "        p.parent.right = q\n",
    "    q.right = p\n",
    "    p.parent = q\n",
    "    update_height(p)\n",
    "    update_height(q)\n",
    "    update_balance(p)\n",
    "    update_balance(q)\n",
    "    return q  # Return new root of the subtree\n",
    "\n",
    "def left_right_rotate(root, p):\n",
    "    root = left_rotate(root, p.left)\n",
    "    return right_rotate(root, p)\n",
    "\n",
    "def right_left_rotate(root, p):\n",
    "    root = right_rotate(root, p.right)\n",
    "    return left_rotate(root, p)"
   ]
  },
  {
   "cell_type": "code",
   "execution_count": 16,
   "id": "a4785423-0dad-4fa6-ae8b-42053e73f108",
   "metadata": {},
   "outputs": [],
   "source": [
    "def visualize_tree(tree):\n",
    "    \n",
    "    def add_nodes_edges(tree, dot=None):\n",
    "        # Create Digraph object\n",
    "        if dot is None:\n",
    "            dot = Digraph()\n",
    "            label = f'{tree.val}\\nBal: {tree.balance}'\n",
    "            dot.node(name=str(tree), label=label)\n",
    "\n",
    "        # Add nodes\n",
    "        if tree.left:\n",
    "            label = f'{tree.left.val}\\nBal: {tree.left.balance}'\n",
    "            dot.node(name=str(tree.left), label=label)\n",
    "            dot.edge(str(tree), str(tree.left))\n",
    "            dot = add_nodes_edges(tree.left, dot=dot)\n",
    "            \n",
    "        if tree.right:\n",
    "            label = f'{tree.right.val}\\nBal: {tree.right.balance}'\n",
    "            dot.node(name=str(tree.right), label=label)\n",
    "            dot.edge(str(tree), str(tree.right))\n",
    "            dot = add_nodes_edges(tree.right, dot=dot)\n",
    "\n",
    "        return dot\n",
    "    \n",
    "    # Add nodes recursively and create a list of edges\n",
    "    dot = add_nodes_edges(tree)\n",
    "\n",
    "    # Visualize the graph\n",
    "    display(dot)\n",
    "    \n",
    "    return dot\n",
    "\n",
    "def is_balanced(node):\n",
    "    if not node:\n",
    "        return True\n",
    "    \n",
    "    balance = get_balance(node)\n",
    "    if balance > 1 or balance < -1:\n",
    "        return False\n",
    "    \n",
    "    return is_balanced(node.left) and is_balanced(node.right)\n",
    "\n",
    "\n"
   ]
  },
  {
   "cell_type": "code",
   "execution_count": 17,
   "id": "315a6976-f4cf-47fe-b458-8bc1149107b4",
   "metadata": {},
   "outputs": [],
   "source": [
    "def insert(root, val):\n",
    "    if root is None:\n",
    "        return Node(val)\n",
    "\n",
    "    if val < root.val:\n",
    "        root.left = insert(root.left, val)\n",
    "        root.left.parent = root\n",
    "    else:\n",
    "        root.right = insert(root.right, val)\n",
    "        root.right.parent = root\n",
    "\n",
    "    update_height(root)\n",
    "    update_balance(root)\n",
    "\n",
    "    # Perform rotations to balance the tree\n",
    "    balance = get_balance(root)\n",
    "\n",
    "    # Left Left Case\n",
    "    if balance > 1 and val < root.left.val:\n",
    "        return right_rotate(root, root)\n",
    "\n",
    "    # Right Right Case\n",
    "    if balance < -1 and val > root.right.val:\n",
    "        return left_rotate(root, root)\n",
    "\n",
    "    # Left Right Case\n",
    "    if balance > 1 and val > root.left.val:\n",
    "        root.left = left_rotate(root, root.left)\n",
    "        return right_rotate(root, root)\n",
    "\n",
    "    # Right Left Case\n",
    "    if balance < -1 and val < root.right.val:\n",
    "        root.right = right_rotate(root, root.right)\n",
    "        return left_rotate(root, root)\n",
    "\n",
    "    return root"
   ]
  },
  {
   "cell_type": "code",
   "execution_count": 18,
   "id": "4a6764da-a3f9-4fe3-908f-01361a80e6de",
   "metadata": {},
   "outputs": [],
   "source": [
    "def minValueNode(node):\n",
    "    current = node\n",
    " \n",
    "    # loop down to find the leftmost leaf\n",
    "    while(current.left is not None):\n",
    "        current = current.left\n",
    " \n",
    "    return current\n",
    "\n",
    "def delete(nodes, val):\n",
    "\n",
    "    if nodes == None:  \n",
    "        return nodes\n",
    "\n",
    "    if val < nodes.val:\n",
    "        #if nodes.left:\n",
    "        nodes.left = delete(nodes.left, val)\n",
    "    elif val > nodes.val:\n",
    "        #if nodes.right:\n",
    "        nodes.right = delete(nodes.right, val)\n",
    "    else:\n",
    "        # Node with only one child or no child\n",
    "        if nodes.left is None:\n",
    "            temp = nodes.right\n",
    "            nodes = None\n",
    "            return temp\n",
    "        elif nodes.right is None:\n",
    "            temp = nodes.left\n",
    "            nodes = None\n",
    "            return temp\n",
    "        \n",
    "        # Nodes with two children: Get the inorder successor\n",
    "        temp = minValueNode(nodes.right)\n",
    "        nodes.val = temp.val\n",
    "        nodes.right = delete(nodes.right, temp.val)\n",
    "        \n",
    "    update_height(nodes)\n",
    "    update_balance(nodes)\n",
    "        \n",
    "    return nodes"
   ]
  },
  {
   "cell_type": "code",
   "execution_count": 19,
   "id": "2c810e29-6fad-423e-a8c7-7eed2f1d580b",
   "metadata": {},
   "outputs": [],
   "source": [
    "def find_node(root, value):\n",
    " if root is None or root.val == value:\n",
    "     return root\n",
    " if value < root.val:\n",
    "     return find_node(root.left, value)\n",
    " else:\n",
    "     return find_node(root.right, value)\n",
    "\n",
    "def find_first_common_ancestor(root, val1, val2):\n",
    " node1 = find_node(root, val1)\n",
    " node2 = find_node(root, val2)\n",
    " if not node1 or not node2:\n",
    "     return None\n",
    " \n",
    " while root:\n",
    "     if val1 < root.val and val2 < root.val:\n",
    "         root = root.left\n",
    "     elif val1 > root.val and val2 > root.val:\n",
    "         root = root.right\n",
    "     else:\n",
    "         return root\n",
    " return None"
   ]
  },
  {
   "cell_type": "code",
   "execution_count": 23,
   "id": "e7f0d252-fcc8-4c2c-b84f-f6c2876eb658",
   "metadata": {},
   "outputs": [
    {
     "data": {
      "image/svg+xml": [
       "<?xml version=\"1.0\" encoding=\"UTF-8\" standalone=\"no\"?>\r\n",
       "<!DOCTYPE svg PUBLIC \"-//W3C//DTD SVG 1.1//EN\"\r\n",
       " \"http://www.w3.org/Graphics/SVG/1.1/DTD/svg11.dtd\">\r\n",
       "<!-- Generated by graphviz version 2.38.0 (20140413.2041)\r\n",
       " -->\r\n",
       "<!-- Title: %3 Pages: 1 -->\r\n",
       "<svg width=\"168pt\" height=\"241pt\"\r\n",
       " viewBox=\"0.00 0.00 168.42 241.22\" xmlns=\"http://www.w3.org/2000/svg\" xmlns:xlink=\"http://www.w3.org/1999/xlink\">\r\n",
       "<g id=\"graph0\" class=\"graph\" transform=\"scale(1 1) rotate(0) translate(4 237.22)\">\r\n",
       "<title>%3</title>\r\n",
       "<polygon fill=\"white\" stroke=\"none\" points=\"-4,4 -4,-237.22 164.418,-237.22 164.418,4 -4,4\"/>\r\n",
       "<!-- __main__.Node object at 0x0000025AECDD15B0 -->\r\n",
       "<g id=\"node1\" class=\"node\"><title>__main__.Node object at 0x0000025AECDD15B0</title>\r\n",
       "<ellipse fill=\"none\" stroke=\"black\" cx=\"77.9411\" cy=\"-206.35\" rx=\"37.4533\" ry=\"26.7407\"/>\r\n",
       "<text text-anchor=\"middle\" x=\"77.9411\" y=\"-210.15\" font-family=\"Times New Roman,serif\" font-size=\"14.00\">1</text>\r\n",
       "<text text-anchor=\"middle\" x=\"77.9411\" y=\"-195.15\" font-family=\"Times New Roman,serif\" font-size=\"14.00\">Bal: &#45;1</text>\r\n",
       "</g>\r\n",
       "<!-- __main__.Node object at 0x0000025AECDD18B0 -->\r\n",
       "<g id=\"node2\" class=\"node\"><title>__main__.Node object at 0x0000025AECDD18B0</title>\r\n",
       "<ellipse fill=\"none\" stroke=\"black\" cx=\"33.9411\" cy=\"-116.61\" rx=\"33.8824\" ry=\"26.7407\"/>\r\n",
       "<text text-anchor=\"middle\" x=\"33.9411\" y=\"-120.41\" font-family=\"Times New Roman,serif\" font-size=\"14.00\">0</text>\r\n",
       "<text text-anchor=\"middle\" x=\"33.9411\" y=\"-105.41\" font-family=\"Times New Roman,serif\" font-size=\"14.00\">Bal: 0</text>\r\n",
       "</g>\r\n",
       "<!-- __main__.Node object at 0x0000025AECDD15B0&#45;&gt;__main__.Node object at 0x0000025AECDD18B0 -->\r\n",
       "<g id=\"edge1\" class=\"edge\"><title>__main__.Node object at 0x0000025AECDD15B0&#45;&gt;__main__.Node object at 0x0000025AECDD18B0</title>\r\n",
       "<path fill=\"none\" stroke=\"black\" d=\"M65.6847,-180.91C61.0599,-171.688 55.7153,-161.03 50.7458,-151.12\"/>\r\n",
       "<polygon fill=\"black\" stroke=\"black\" points=\"53.7433,-149.29 46.1318,-141.92 47.486,-152.428 53.7433,-149.29\"/>\r\n",
       "</g>\r\n",
       "<!-- __main__.Node object at 0x0000025AECDD1310 -->\r\n",
       "<g id=\"node3\" class=\"node\"><title>__main__.Node object at 0x0000025AECDD1310</title>\r\n",
       "<ellipse fill=\"none\" stroke=\"black\" cx=\"122.941\" cy=\"-116.61\" rx=\"37.4533\" ry=\"26.7407\"/>\r\n",
       "<text text-anchor=\"middle\" x=\"122.941\" y=\"-120.41\" font-family=\"Times New Roman,serif\" font-size=\"14.00\">2</text>\r\n",
       "<text text-anchor=\"middle\" x=\"122.941\" y=\"-105.41\" font-family=\"Times New Roman,serif\" font-size=\"14.00\">Bal: &#45;1</text>\r\n",
       "</g>\r\n",
       "<!-- __main__.Node object at 0x0000025AECDD15B0&#45;&gt;__main__.Node object at 0x0000025AECDD1310 -->\r\n",
       "<g id=\"edge2\" class=\"edge\"><title>__main__.Node object at 0x0000025AECDD15B0&#45;&gt;__main__.Node object at 0x0000025AECDD1310</title>\r\n",
       "<path fill=\"none\" stroke=\"black\" d=\"M90.4761,-180.91C95.1666,-171.764 100.581,-161.207 105.627,-151.368\"/>\r\n",
       "<polygon fill=\"black\" stroke=\"black\" points=\"108.868,-152.719 110.317,-142.224 102.639,-149.525 108.868,-152.719\"/>\r\n",
       "</g>\r\n",
       "<!-- __main__.Node object at 0x0000025AECDD1130 -->\r\n",
       "<g id=\"node4\" class=\"node\"><title>__main__.Node object at 0x0000025AECDD1130</title>\r\n",
       "<ellipse fill=\"none\" stroke=\"black\" cx=\"122.941\" cy=\"-26.8701\" rx=\"33.8824\" ry=\"26.7407\"/>\r\n",
       "<text text-anchor=\"middle\" x=\"122.941\" y=\"-30.6701\" font-family=\"Times New Roman,serif\" font-size=\"14.00\">3</text>\r\n",
       "<text text-anchor=\"middle\" x=\"122.941\" y=\"-15.6701\" font-family=\"Times New Roman,serif\" font-size=\"14.00\">Bal: 0</text>\r\n",
       "</g>\r\n",
       "<!-- __main__.Node object at 0x0000025AECDD1310&#45;&gt;__main__.Node object at 0x0000025AECDD1130 -->\r\n",
       "<g id=\"edge3\" class=\"edge\"><title>__main__.Node object at 0x0000025AECDD1310&#45;&gt;__main__.Node object at 0x0000025AECDD1130</title>\r\n",
       "<path fill=\"none\" stroke=\"black\" d=\"M122.941,-89.2852C122.941,-81.3185 122.941,-72.4275 122.941,-63.9391\"/>\r\n",
       "<polygon fill=\"black\" stroke=\"black\" points=\"126.441,-63.874 122.941,-53.874 119.441,-63.8741 126.441,-63.874\"/>\r\n",
       "</g>\r\n",
       "</g>\r\n",
       "</svg>\r\n"
      ],
      "text/plain": [
       "<graphviz.dot.Digraph at 0x25aecdd1f70>"
      ]
     },
     "metadata": {},
     "output_type": "display_data"
    },
    {
     "name": "stdout",
     "output_type": "stream",
     "text": [
      "Is the tree balanced? True\n"
     ]
    }
   ],
   "source": [
    "test1 = [0, 1, 2, 3]\n",
    "test1_tree = buildBinaryTree(test1)\n",
    "\n",
    "visualize_tree(test1_tree)\n",
    "print(f'Is the tree balanced? {is_balanced(test1_tree)}')\n"
   ]
  },
  {
   "cell_type": "code",
   "execution_count": 24,
   "id": "141c1f4c-bbd8-4a73-80ff-c492e58d6748",
   "metadata": {},
   "outputs": [
    {
     "data": {
      "image/svg+xml": [
       "<?xml version=\"1.0\" encoding=\"UTF-8\" standalone=\"no\"?>\r\n",
       "<!DOCTYPE svg PUBLIC \"-//W3C//DTD SVG 1.1//EN\"\r\n",
       " \"http://www.w3.org/Graphics/SVG/1.1/DTD/svg11.dtd\">\r\n",
       "<!-- Generated by graphviz version 2.38.0 (20140413.2041)\r\n",
       " -->\r\n",
       "<!-- Title: %3 Pages: 1 -->\r\n",
       "<svg width=\"205pt\" height=\"241pt\"\r\n",
       " viewBox=\"0.00 0.00 204.88 241.22\" xmlns=\"http://www.w3.org/2000/svg\" xmlns:xlink=\"http://www.w3.org/1999/xlink\">\r\n",
       "<g id=\"graph0\" class=\"graph\" transform=\"scale(1 1) rotate(0) translate(4 237.22)\">\r\n",
       "<title>%3</title>\r\n",
       "<polygon fill=\"white\" stroke=\"none\" points=\"-4,4 -4,-237.22 200.882,-237.22 200.882,4 -4,4\"/>\r\n",
       "<!-- __main__.Node object at 0x0000025AECDD15B0 -->\r\n",
       "<g id=\"node1\" class=\"node\"><title>__main__.Node object at 0x0000025AECDD15B0</title>\r\n",
       "<ellipse fill=\"none\" stroke=\"black\" cx=\"76.9411\" cy=\"-206.35\" rx=\"37.4533\" ry=\"26.7407\"/>\r\n",
       "<text text-anchor=\"middle\" x=\"76.9411\" y=\"-210.15\" font-family=\"Times New Roman,serif\" font-size=\"14.00\">1</text>\r\n",
       "<text text-anchor=\"middle\" x=\"76.9411\" y=\"-195.15\" font-family=\"Times New Roman,serif\" font-size=\"14.00\">Bal: &#45;1</text>\r\n",
       "</g>\r\n",
       "<!-- __main__.Node object at 0x0000025AECDD18B0 -->\r\n",
       "<g id=\"node2\" class=\"node\"><title>__main__.Node object at 0x0000025AECDD18B0</title>\r\n",
       "<ellipse fill=\"none\" stroke=\"black\" cx=\"33.9411\" cy=\"-116.61\" rx=\"33.8824\" ry=\"26.7407\"/>\r\n",
       "<text text-anchor=\"middle\" x=\"33.9411\" y=\"-120.41\" font-family=\"Times New Roman,serif\" font-size=\"14.00\">0</text>\r\n",
       "<text text-anchor=\"middle\" x=\"33.9411\" y=\"-105.41\" font-family=\"Times New Roman,serif\" font-size=\"14.00\">Bal: 0</text>\r\n",
       "</g>\r\n",
       "<!-- __main__.Node object at 0x0000025AECDD15B0&#45;&gt;__main__.Node object at 0x0000025AECDD18B0 -->\r\n",
       "<g id=\"edge1\" class=\"edge\"><title>__main__.Node object at 0x0000025AECDD15B0&#45;&gt;__main__.Node object at 0x0000025AECDD18B0</title>\r\n",
       "<path fill=\"none\" stroke=\"black\" d=\"M64.7341,-180.442C60.2558,-171.305 55.1116,-160.808 50.3262,-151.043\"/>\r\n",
       "<polygon fill=\"black\" stroke=\"black\" points=\"53.4252,-149.414 45.8815,-141.974 47.1395,-152.494 53.4252,-149.414\"/>\r\n",
       "</g>\r\n",
       "<!-- __main__.Node object at 0x0000025AECDD1C10 -->\r\n",
       "<g id=\"node3\" class=\"node\"><title>__main__.Node object at 0x0000025AECDD1C10</title>\r\n",
       "<ellipse fill=\"none\" stroke=\"black\" cx=\"119.941\" cy=\"-116.61\" rx=\"33.8824\" ry=\"26.7407\"/>\r\n",
       "<text text-anchor=\"middle\" x=\"119.941\" y=\"-120.41\" font-family=\"Times New Roman,serif\" font-size=\"14.00\">2</text>\r\n",
       "<text text-anchor=\"middle\" x=\"119.941\" y=\"-105.41\" font-family=\"Times New Roman,serif\" font-size=\"14.00\">Bal: 0</text>\r\n",
       "</g>\r\n",
       "<!-- __main__.Node object at 0x0000025AECDD15B0&#45;&gt;__main__.Node object at 0x0000025AECDD1C10 -->\r\n",
       "<g id=\"edge2\" class=\"edge\"><title>__main__.Node object at 0x0000025AECDD15B0&#45;&gt;__main__.Node object at 0x0000025AECDD1C10</title>\r\n",
       "<path fill=\"none\" stroke=\"black\" d=\"M89.1482,-180.442C93.6264,-171.305 98.7707,-160.808 103.556,-151.043\"/>\r\n",
       "<polygon fill=\"black\" stroke=\"black\" points=\"106.743,-152.494 108.001,-141.974 100.457,-149.414 106.743,-152.494\"/>\r\n",
       "</g>\r\n",
       "<!-- __main__.Node object at 0x0000025AECDD1310 -->\r\n",
       "<g id=\"node4\" class=\"node\"><title>__main__.Node object at 0x0000025AECDD1310</title>\r\n",
       "<ellipse fill=\"none\" stroke=\"black\" cx=\"76.9411\" cy=\"-26.8701\" rx=\"33.8824\" ry=\"26.7407\"/>\r\n",
       "<text text-anchor=\"middle\" x=\"76.9411\" y=\"-30.6701\" font-family=\"Times New Roman,serif\" font-size=\"14.00\">2</text>\r\n",
       "<text text-anchor=\"middle\" x=\"76.9411\" y=\"-15.6701\" font-family=\"Times New Roman,serif\" font-size=\"14.00\">Bal: 0</text>\r\n",
       "</g>\r\n",
       "<!-- __main__.Node object at 0x0000025AECDD1C10&#45;&gt;__main__.Node object at 0x0000025AECDD1310 -->\r\n",
       "<g id=\"edge3\" class=\"edge\"><title>__main__.Node object at 0x0000025AECDD1C10&#45;&gt;__main__.Node object at 0x0000025AECDD1310</title>\r\n",
       "<path fill=\"none\" stroke=\"black\" d=\"M107.963,-91.1697C103.444,-81.9475 98.2204,-71.2897 93.3638,-61.3801\"/>\r\n",
       "<polygon fill=\"black\" stroke=\"black\" points=\"96.3985,-59.6188 88.8548,-52.1795 90.1127,-62.6994 96.3985,-59.6188\"/>\r\n",
       "</g>\r\n",
       "<!-- __main__.Node object at 0x0000025AECDD1130 -->\r\n",
       "<g id=\"node5\" class=\"node\"><title>__main__.Node object at 0x0000025AECDD1130</title>\r\n",
       "<ellipse fill=\"none\" stroke=\"black\" cx=\"162.941\" cy=\"-26.8701\" rx=\"33.8824\" ry=\"26.7407\"/>\r\n",
       "<text text-anchor=\"middle\" x=\"162.941\" y=\"-30.6701\" font-family=\"Times New Roman,serif\" font-size=\"14.00\">3</text>\r\n",
       "<text text-anchor=\"middle\" x=\"162.941\" y=\"-15.6701\" font-family=\"Times New Roman,serif\" font-size=\"14.00\">Bal: 0</text>\r\n",
       "</g>\r\n",
       "<!-- __main__.Node object at 0x0000025AECDD1C10&#45;&gt;__main__.Node object at 0x0000025AECDD1130 -->\r\n",
       "<g id=\"edge4\" class=\"edge\"><title>__main__.Node object at 0x0000025AECDD1C10&#45;&gt;__main__.Node object at 0x0000025AECDD1130</title>\r\n",
       "<path fill=\"none\" stroke=\"black\" d=\"M131.919,-91.1697C136.439,-81.9475 141.662,-71.2897 146.518,-61.3801\"/>\r\n",
       "<polygon fill=\"black\" stroke=\"black\" points=\"149.77,-62.6994 151.027,-52.1795 143.484,-59.6188 149.77,-62.6994\"/>\r\n",
       "</g>\r\n",
       "</g>\r\n",
       "</svg>\r\n"
      ],
      "text/plain": [
       "<graphviz.dot.Digraph at 0x25aecdd1250>"
      ]
     },
     "metadata": {},
     "output_type": "display_data"
    },
    {
     "name": "stdout",
     "output_type": "stream",
     "text": [
      "Is the tree balanced? True\n"
     ]
    }
   ],
   "source": [
    "insert(test1_tree, 2)\n",
    "#insert(test1_tree, 1)\n",
    "#insert(test1_tree, 12)\n",
    "#insert(test1_tree, 5)\n",
    "#insert(test1_tree, 9)\n",
    "#insert(test1_tree, 10)\n",
    "#insert(test1_tree, 3)\n",
    "#insert(test1_tree, 6)\n",
    "#insert(test1_tree, 7)\n",
    "#insert(test1_tree, 4)\n",
    "dot = visualize_tree(test1_tree)\n",
    "print(f'Is the tree balanced? {is_balanced(test1_tree)}')"
   ]
  },
  {
   "cell_type": "code",
   "execution_count": 22,
   "id": "bee24b28-3225-459d-bef5-01a38a566255",
   "metadata": {},
   "outputs": [
    {
     "data": {
      "image/svg+xml": [
       "<?xml version=\"1.0\" encoding=\"UTF-8\" standalone=\"no\"?>\r\n",
       "<!DOCTYPE svg PUBLIC \"-//W3C//DTD SVG 1.1//EN\"\r\n",
       " \"http://www.w3.org/Graphics/SVG/1.1/DTD/svg11.dtd\">\r\n",
       "<!-- Generated by graphviz version 2.38.0 (20140413.2041)\r\n",
       " -->\r\n",
       "<!-- Title: %3 Pages: 1 -->\r\n",
       "<svg width=\"76pt\" height=\"62pt\"\r\n",
       " viewBox=\"0.00 0.00 75.88 61.74\" xmlns=\"http://www.w3.org/2000/svg\" xmlns:xlink=\"http://www.w3.org/1999/xlink\">\r\n",
       "<g id=\"graph0\" class=\"graph\" transform=\"scale(1 1) rotate(0) translate(4 57.7401)\">\r\n",
       "<title>%3</title>\r\n",
       "<polygon fill=\"white\" stroke=\"none\" points=\"-4,4 -4,-57.7401 71.8823,-57.7401 71.8823,4 -4,4\"/>\r\n",
       "<!-- __main__.Node object at 0x0000025AECDD12E0 -->\r\n",
       "<g id=\"node1\" class=\"node\"><title>__main__.Node object at 0x0000025AECDD12E0</title>\r\n",
       "<ellipse fill=\"none\" stroke=\"black\" cx=\"33.9411\" cy=\"-26.8701\" rx=\"33.8824\" ry=\"26.7407\"/>\r\n",
       "<text text-anchor=\"middle\" x=\"33.9411\" y=\"-30.6701\" font-family=\"Times New Roman,serif\" font-size=\"14.00\">0</text>\r\n",
       "<text text-anchor=\"middle\" x=\"33.9411\" y=\"-15.6701\" font-family=\"Times New Roman,serif\" font-size=\"14.00\">Bal: 0</text>\r\n",
       "</g>\r\n",
       "</g>\r\n",
       "</svg>\r\n"
      ],
      "text/plain": [
       "<graphviz.dot.Digraph at 0x25aeb936310>"
      ]
     },
     "metadata": {},
     "output_type": "display_data"
    },
    {
     "name": "stdout",
     "output_type": "stream",
     "text": [
      "Is the tree balanced? True\n"
     ]
    }
   ],
   "source": [
    "insert(test1_tree, 50)\n",
    "dot = visualize_tree(test1_tree)\n",
    "print(f'Is the tree balanced? {is_balanced(test1_tree)}')"
   ]
  },
  {
   "cell_type": "code",
   "execution_count": null,
   "id": "bb34de89-447c-4292-8f54-dddbab73f9f9",
   "metadata": {},
   "outputs": [],
   "source": []
  },
  {
   "cell_type": "code",
   "execution_count": null,
   "id": "bd594231-d3fe-4ef9-9316-cde6b39c018f",
   "metadata": {},
   "outputs": [],
   "source": []
  },
  {
   "cell_type": "code",
   "execution_count": null,
   "id": "0ac7a0c3-6da0-496b-bbb8-ae0907ed04a4",
   "metadata": {},
   "outputs": [],
   "source": []
  },
  {
   "cell_type": "code",
   "execution_count": null,
   "id": "b95726f8-487f-4ca8-abf2-90c9cd4195e4",
   "metadata": {},
   "outputs": [],
   "source": []
  },
  {
   "cell_type": "code",
   "execution_count": null,
   "id": "379a0327-8f46-48d8-b10b-c76132f193cc",
   "metadata": {},
   "outputs": [],
   "source": []
  },
  {
   "cell_type": "code",
   "execution_count": null,
   "id": "025adf2c-936c-44b5-883d-644f61a30409",
   "metadata": {},
   "outputs": [],
   "source": []
  },
  {
   "cell_type": "code",
   "execution_count": null,
   "id": "852e35c4-a5f8-409c-ab19-41624d3a4c01",
   "metadata": {},
   "outputs": [],
   "source": []
  },
  {
   "cell_type": "code",
   "execution_count": null,
   "id": "698b7cd2-66cd-4b55-bfbc-16315da2b23b",
   "metadata": {},
   "outputs": [],
   "source": []
  },
  {
   "cell_type": "code",
   "execution_count": null,
   "id": "c2c61ba5-ab62-4152-988b-e5867758cdb4",
   "metadata": {},
   "outputs": [],
   "source": []
  },
  {
   "cell_type": "code",
   "execution_count": null,
   "id": "28c64406-7654-4bf9-a5cc-fc4b6a225eb3",
   "metadata": {},
   "outputs": [],
   "source": []
  },
  {
   "cell_type": "code",
   "execution_count": null,
   "id": "e14ee0d3-beac-4386-bb13-b97c09ec1766",
   "metadata": {},
   "outputs": [],
   "source": []
  },
  {
   "cell_type": "code",
   "execution_count": 29,
   "id": "08f48e06-4af1-4fc3-a1ba-4453a7fefe93",
   "metadata": {},
   "outputs": [
    {
     "data": {
      "image/svg+xml": [
       "<?xml version=\"1.0\" encoding=\"UTF-8\" standalone=\"no\"?>\r\n",
       "<!DOCTYPE svg PUBLIC \"-//W3C//DTD SVG 1.1//EN\"\r\n",
       " \"http://www.w3.org/Graphics/SVG/1.1/DTD/svg11.dtd\">\r\n",
       "<!-- Generated by graphviz version 2.38.0 (20140413.2041)\r\n",
       " -->\r\n",
       "<!-- Title: %3 Pages: 1 -->\r\n",
       "<svg width=\"76pt\" height=\"62pt\"\r\n",
       " viewBox=\"0.00 0.00 75.88 61.74\" xmlns=\"http://www.w3.org/2000/svg\" xmlns:xlink=\"http://www.w3.org/1999/xlink\">\r\n",
       "<g id=\"graph0\" class=\"graph\" transform=\"scale(1 1) rotate(0) translate(4 57.7401)\">\r\n",
       "<title>%3</title>\r\n",
       "<polygon fill=\"white\" stroke=\"none\" points=\"-4,4 -4,-57.7401 71.8823,-57.7401 71.8823,4 -4,4\"/>\r\n",
       "<!-- __main__.Node object at 0x000001B9EFD4B370 -->\r\n",
       "<g id=\"node1\" class=\"node\"><title>__main__.Node object at 0x000001B9EFD4B370</title>\r\n",
       "<ellipse fill=\"none\" stroke=\"black\" cx=\"33.9411\" cy=\"-26.8701\" rx=\"33.8824\" ry=\"26.7407\"/>\r\n",
       "<text text-anchor=\"middle\" x=\"33.9411\" y=\"-30.6701\" font-family=\"Times New Roman,serif\" font-size=\"14.00\">0</text>\r\n",
       "<text text-anchor=\"middle\" x=\"33.9411\" y=\"-15.6701\" font-family=\"Times New Roman,serif\" font-size=\"14.00\">Bal: 0</text>\r\n",
       "</g>\r\n",
       "</g>\r\n",
       "</svg>\r\n"
      ],
      "text/plain": [
       "<graphviz.dot.Digraph at 0x1b9efd4bd60>"
      ]
     },
     "metadata": {},
     "output_type": "display_data"
    },
    {
     "name": "stdout",
     "output_type": "stream",
     "text": [
      "Is the tree balanced? True\n"
     ]
    }
   ],
   "source": [
    "delete(test1_tree, 1)\n",
    "delete(test1_tree, 2)\n",
    "dot = visualize_tree(test1_tree)\n",
    "print(f'Is the tree balanced? {is_balanced(test1_tree)}')"
   ]
  },
  {
   "cell_type": "code",
   "execution_count": 30,
   "id": "af334bb4-7745-4d45-8096-027865beb9e7",
   "metadata": {},
   "outputs": [
    {
     "data": {
      "image/svg+xml": [
       "<?xml version=\"1.0\" encoding=\"UTF-8\" standalone=\"no\"?>\r\n",
       "<!DOCTYPE svg PUBLIC \"-//W3C//DTD SVG 1.1//EN\"\r\n",
       " \"http://www.w3.org/Graphics/SVG/1.1/DTD/svg11.dtd\">\r\n",
       "<!-- Generated by graphviz version 2.38.0 (20140413.2041)\r\n",
       " -->\r\n",
       "<!-- Title: %3 Pages: 1 -->\r\n",
       "<svg width=\"76pt\" height=\"151pt\"\r\n",
       " viewBox=\"0.00 0.00 75.88 151.48\" xmlns=\"http://www.w3.org/2000/svg\" xmlns:xlink=\"http://www.w3.org/1999/xlink\">\r\n",
       "<g id=\"graph0\" class=\"graph\" transform=\"scale(1 1) rotate(0) translate(4 147.48)\">\r\n",
       "<title>%3</title>\r\n",
       "<polygon fill=\"white\" stroke=\"none\" points=\"-4,4 -4,-147.48 71.8823,-147.48 71.8823,4 -4,4\"/>\r\n",
       "<!-- __main__.Node object at 0x000001B9EFD4B370 -->\r\n",
       "<g id=\"node1\" class=\"node\"><title>__main__.Node object at 0x000001B9EFD4B370</title>\r\n",
       "<ellipse fill=\"none\" stroke=\"black\" cx=\"33.9411\" cy=\"-116.61\" rx=\"33.8824\" ry=\"26.7407\"/>\r\n",
       "<text text-anchor=\"middle\" x=\"33.9411\" y=\"-120.41\" font-family=\"Times New Roman,serif\" font-size=\"14.00\">0</text>\r\n",
       "<text text-anchor=\"middle\" x=\"33.9411\" y=\"-105.41\" font-family=\"Times New Roman,serif\" font-size=\"14.00\">Bal: 1</text>\r\n",
       "</g>\r\n",
       "<!-- __main__.Node object at 0x000001B9EFD4BEB0 -->\r\n",
       "<g id=\"node2\" class=\"node\"><title>__main__.Node object at 0x000001B9EFD4BEB0</title>\r\n",
       "<ellipse fill=\"none\" stroke=\"black\" cx=\"33.9411\" cy=\"-26.8701\" rx=\"33.8824\" ry=\"26.7407\"/>\r\n",
       "<text text-anchor=\"middle\" x=\"33.9411\" y=\"-30.6701\" font-family=\"Times New Roman,serif\" font-size=\"14.00\">&#45;1</text>\r\n",
       "<text text-anchor=\"middle\" x=\"33.9411\" y=\"-15.6701\" font-family=\"Times New Roman,serif\" font-size=\"14.00\">Bal: 0</text>\r\n",
       "</g>\r\n",
       "<!-- __main__.Node object at 0x000001B9EFD4B370&#45;&gt;__main__.Node object at 0x000001B9EFD4BEB0 -->\r\n",
       "<g id=\"edge1\" class=\"edge\"><title>__main__.Node object at 0x000001B9EFD4B370&#45;&gt;__main__.Node object at 0x000001B9EFD4BEB0</title>\r\n",
       "<path fill=\"none\" stroke=\"black\" d=\"M33.9411,-89.2852C33.9411,-81.3185 33.9411,-72.4275 33.9411,-63.9391\"/>\r\n",
       "<polygon fill=\"black\" stroke=\"black\" points=\"37.4412,-63.874 33.9411,-53.874 30.4412,-63.8741 37.4412,-63.874\"/>\r\n",
       "</g>\r\n",
       "</g>\r\n",
       "</svg>\r\n"
      ],
      "text/plain": [
       "<graphviz.dot.Digraph at 0x1b9efd4b190>"
      ]
     },
     "metadata": {},
     "output_type": "display_data"
    },
    {
     "name": "stdout",
     "output_type": "stream",
     "text": [
      "Is the tree balanced? True\n"
     ]
    }
   ],
   "source": [
    "insert(test1_tree, -1)\n",
    "dot = visualize_tree(test1_tree)\n",
    "print(f'Is the tree balanced? {is_balanced(test1_tree)}')"
   ]
  },
  {
   "cell_type": "code",
   "execution_count": 31,
   "id": "3941412b-49ca-4469-9788-ca006ff431f9",
   "metadata": {},
   "outputs": [
    {
     "name": "stdout",
     "output_type": "stream",
     "text": [
      "First Common Ancestor: None\n"
     ]
    }
   ],
   "source": [
    "bst = buildBinaryTree(test1)\n",
    "\n",
    "# Input specific values\n",
    "val1 = 5\n",
    "val2 = 7\n",
    "\n",
    "ancestor = find_first_common_ancestor(bst, val1, val2)\n",
    "print(\"First Common Ancestor:\", ancestor.val if ancestor else \"None\")"
   ]
  },
  {
   "cell_type": "code",
   "execution_count": null,
   "id": "8a22f1be-cc2d-4c1e-a144-ec4d39aa6fa0",
   "metadata": {},
   "outputs": [],
   "source": []
  },
  {
   "cell_type": "code",
   "execution_count": null,
   "id": "c448a6ed-d78a-455f-bf1a-05f41a4490fc",
   "metadata": {},
   "outputs": [],
   "source": []
  },
  {
   "cell_type": "code",
   "execution_count": null,
   "id": "9ba47d76-45cf-45df-8376-fdb85f2d3aed",
   "metadata": {},
   "outputs": [],
   "source": []
  }
 ],
 "metadata": {
  "kernelspec": {
   "display_name": "Python 3 (ipykernel)",
   "language": "python",
   "name": "python3"
  },
  "language_info": {
   "codemirror_mode": {
    "name": "ipython",
    "version": 3
   },
   "file_extension": ".py",
   "mimetype": "text/x-python",
   "name": "python",
   "nbconvert_exporter": "python",
   "pygments_lexer": "ipython3",
   "version": "3.9.13"
  }
 },
 "nbformat": 4,
 "nbformat_minor": 5
}
