{
 "cells": [
  {
   "cell_type": "markdown",
   "id": "imposed-playlist",
   "metadata": {},
   "source": [
    "# Lab 6: Graphs II"
   ]
  },
  {
   "cell_type": "markdown",
   "id": "d97cce87",
   "metadata": {},
   "source": [
    "Lab associated with Module 6: Graphs II"
   ]
  },
  {
   "cell_type": "markdown",
   "id": "5c7f2e9d",
   "metadata": {},
   "source": [
    "***"
   ]
  },
  {
   "cell_type": "code",
   "execution_count": 1,
   "id": "5b495ad0",
   "metadata": {},
   "outputs": [
    {
     "data": {
      "text/html": [
       "<style>.container { width:95% !important; }</style>"
      ],
      "text/plain": [
       "<IPython.core.display.HTML object>"
      ]
     },
     "metadata": {},
     "output_type": "display_data"
    }
   ],
   "source": [
    "# The following lines are used to increase the width of cells to utilize more space on the screen \n",
    "from IPython.core.display import display, HTML\n",
    "display(HTML(\"<style>.container { width:95% !important; }</style>\"))"
   ]
  },
  {
   "cell_type": "markdown",
   "id": "3a2b855c",
   "metadata": {},
   "source": [
    "***"
   ]
  },
  {
   "cell_type": "markdown",
   "id": "9d0921a0",
   "metadata": {},
   "source": [
    "### Section 0: Imports"
   ]
  },
  {
   "cell_type": "code",
   "execution_count": 2,
   "id": "477622d5",
   "metadata": {},
   "outputs": [],
   "source": [
    "import numpy as np"
   ]
  },
  {
   "cell_type": "code",
   "execution_count": 3,
   "id": "50fb5ed5",
   "metadata": {},
   "outputs": [],
   "source": [
    "import math"
   ]
  },
  {
   "cell_type": "code",
   "execution_count": 4,
   "id": "965de108",
   "metadata": {},
   "outputs": [],
   "source": [
    "from IPython.display import Image\n",
    "from graphviz import Digraph"
   ]
  },
  {
   "cell_type": "markdown",
   "id": "214d69eb",
   "metadata": {},
   "source": [
    "Details of Digraph package: https://h1ros.github.io/posts/introduction-to-graphviz-in-jupyter-notebook/"
   ]
  },
  {
   "cell_type": "markdown",
   "id": "7f9321f8",
   "metadata": {},
   "source": [
    "***"
   ]
  },
  {
   "cell_type": "markdown",
   "id": "317d9bca",
   "metadata": {},
   "source": [
    "### Section 1: Graph Preliminaries"
   ]
  },
  {
   "cell_type": "markdown",
   "id": "cc820c0e",
   "metadata": {},
   "source": [
    "Let us start by implementing our Node and Graph data structure to incorporate weights in the graph"
   ]
  },
  {
   "cell_type": "code",
   "execution_count": 5,
   "id": "d8e6550f",
   "metadata": {},
   "outputs": [],
   "source": [
    "class Node:\n",
    "    \n",
    "    def __init__(self, v):\n",
    "\n",
    "        self.value = v\n",
    "        self.inNeighbors = []\n",
    "        self.outNeighbors = []\n",
    "        \n",
    "        #Adrian's suggestion:\n",
    "        self.parent = None\n",
    "        \n",
    "        self.status = \"unvisited\"\n",
    "        self.estD = np.inf\n",
    "        \n",
    "    def hasOutNeighbor(self, v):\n",
    "        \n",
    "        if v in self.outNeighbors:\n",
    "            return True\n",
    "        \n",
    "        return False\n",
    "        \n",
    "    def hasInNeighbor(self, v):\n",
    "        \n",
    "        if v in self.inNeighbors:\n",
    "            return True\n",
    "        \n",
    "        return False\n",
    "    \n",
    "    def hasNeighbor(self, v):\n",
    "        \n",
    "        if v in self.inNeighbors or v in self.outNeighbors:\n",
    "            return True\n",
    "        \n",
    "        return False\n",
    "    \n",
    "    def getOutNeighbors(self):\n",
    "        \n",
    "        return self.outNeighbors\n",
    "    \n",
    "    def getInNeighbors(self):\n",
    "        \n",
    "        return self.inNeighbors\n",
    "    \n",
    "    def getOutNeighborsWithWeights(self):\n",
    "        \n",
    "        return self.outNeighbors\n",
    "    \n",
    "    def getInNeighborsWithWeights(self):\n",
    "        \n",
    "        return self.inNeighbors\n",
    "    \n",
    "    # ------------------------------------------------\n",
    "    # Let us modify following two functions to incorporate weights\n",
    "    # ------------------------------------------------\n",
    "    \n",
    "    def addOutNeighbor(self,v,wt):\n",
    "        \n",
    "        self.outNeighbors.append((v,wt))\n",
    "    \n",
    "    def addInNeighbor(self,v,wt):\n",
    "        \n",
    "        self.inNeighbors.append((v,wt))\n",
    "        \n",
    "        \n",
    "    def __str__(self):\n",
    "        \n",
    "        return str(self.value) "
   ]
  },
  {
   "cell_type": "code",
   "execution_count": 6,
   "id": "30ab4c32",
   "metadata": {},
   "outputs": [],
   "source": [
    "class Graph:\n",
    "    \n",
    "    def __init__(self):\n",
    "        \n",
    "        self.vertices = []\n",
    "\n",
    "    def addVertex(self,n):\n",
    "        \n",
    "        self.vertices.append(n)\n",
    "        \n",
    "    # ------------------------------------------------\n",
    "    # Let us modify following two functions to incorporate weights\n",
    "    # ------------------------------------------------\n",
    "        \n",
    "    def addDiEdge(self, u, v, wt = 1):\n",
    "        \n",
    "        u.addOutNeighbor(v, wt = wt)\n",
    "        v.addInNeighbor(u, wt = wt)\n",
    "        \n",
    "    # add edges in both directions between u and v\n",
    "    def addBiEdge(self, u, v, wt = 1):\n",
    "        \n",
    "        self.addDiEdge(u, v, wt = wt)\n",
    "        self.addDiEdge(v, u, wt = wt)\n",
    "        \n",
    "            \n",
    "    # get a list of all the directed edges\n",
    "    # directed edges are a list of two vertices\n",
    "    def getDirEdges(self):\n",
    "        \n",
    "        ret = []\n",
    "        for v in self.vertices:\n",
    "            ret += [ [v, u] for u in v.outNeighbors ]\n",
    "        return ret\n",
    "    \n",
    "    # reverse the edge between u and v.  Multiple edges are not supported.\n",
    "    def reverseEdge(self,u,v):\n",
    "        \n",
    "        if u.hasOutNeighbor(v) and v.hasInNeighbor(u):\n",
    "            \n",
    "            if v.hasOutNeighbor(u) and u.hasInNeighbor(v): \n",
    "                return\n",
    "        \n",
    "            self.addDiEdge(v, u)\n",
    "            u.outNeighbors.remove(v)\n",
    "            v.inNeighbors.remove(u)        \n",
    "    \n",
    "    \n",
    "    def __str__(self):\n",
    "        ret = \"Graph with:\\n\"\n",
    "        ret += \"\\t Vertices:\\n\\t\"\n",
    "        for v in self.vertices:\n",
    "            ret += str(v) + \", \"\n",
    "        ret += \"\\n\"\n",
    "        ret += \"\\t Edges:\\n\\t\"\n",
    "        for v in self.vertices:\n",
    "            for neighbor, weight in v.outNeighbors:\n",
    "                ret += f\"({v} -> {neighbor}, weight: {weight}) \"\n",
    "        ret += \"\\n\"\n",
    "        return ret"
   ]
  },
  {
   "cell_type": "markdown",
   "id": "7afa81de",
   "metadata": {},
   "source": [
    "Now that we have incorporated the weights, let us devise a plan to generate the graph"
   ]
  },
  {
   "cell_type": "code",
   "execution_count": 7,
   "id": "d3a8a344",
   "metadata": {},
   "outputs": [
    {
     "data": {
      "image/svg+xml": [
       "<?xml version=\"1.0\" encoding=\"UTF-8\" standalone=\"no\"?>\r\n",
       "<!DOCTYPE svg PUBLIC \"-//W3C//DTD SVG 1.1//EN\"\r\n",
       " \"http://www.w3.org/Graphics/SVG/1.1/DTD/svg11.dtd\">\r\n",
       "<!-- Generated by graphviz version 2.38.0 (20140413.2041)\r\n",
       " -->\r\n",
       "<!-- Title: %3 Pages: 1 -->\r\n",
       "<svg width=\"117pt\" height=\"404pt\"\r\n",
       " viewBox=\"0.00 0.00 117.00 404.00\" xmlns=\"http://www.w3.org/2000/svg\" xmlns:xlink=\"http://www.w3.org/1999/xlink\">\r\n",
       "<g id=\"graph0\" class=\"graph\" transform=\"scale(1 1) rotate(0) translate(4 400)\">\r\n",
       "<title>%3</title>\r\n",
       "<polygon fill=\"white\" stroke=\"none\" points=\"-4,4 -4,-400 113,-400 113,4 -4,4\"/>\r\n",
       "<!-- S -->\r\n",
       "<g id=\"node1\" class=\"node\"><title>S</title>\r\n",
       "<ellipse fill=\"none\" stroke=\"black\" cx=\"54\" cy=\"-378\" rx=\"27\" ry=\"18\"/>\r\n",
       "<text text-anchor=\"middle\" x=\"54\" y=\"-374.3\" font-family=\"Times New Roman,serif\" font-size=\"14.00\">S</text>\r\n",
       "</g>\r\n",
       "<!-- E -->\r\n",
       "<g id=\"node2\" class=\"node\"><title>E</title>\r\n",
       "<ellipse fill=\"none\" stroke=\"black\" cx=\"27\" cy=\"-306\" rx=\"27\" ry=\"18\"/>\r\n",
       "<text text-anchor=\"middle\" x=\"27\" y=\"-302.3\" font-family=\"Times New Roman,serif\" font-size=\"14.00\">E</text>\r\n",
       "</g>\r\n",
       "<!-- S&#45;&gt;E -->\r\n",
       "<g id=\"edge1\" class=\"edge\"><title>S&#45;&gt;E</title>\r\n",
       "<path fill=\"none\" stroke=\"black\" d=\"M47.6014,-360.411C44.4864,-352.335 40.6663,-342.431 37.1654,-333.355\"/>\r\n",
       "<polygon fill=\"black\" stroke=\"black\" points=\"40.4045,-332.027 33.5403,-323.956 33.8735,-334.546 40.4045,-332.027\"/>\r\n",
       "</g>\r\n",
       "<!-- A -->\r\n",
       "<g id=\"node3\" class=\"node\"><title>A</title>\r\n",
       "<ellipse fill=\"none\" stroke=\"black\" cx=\"82\" cy=\"-162\" rx=\"27\" ry=\"18\"/>\r\n",
       "<text text-anchor=\"middle\" x=\"82\" y=\"-158.3\" font-family=\"Times New Roman,serif\" font-size=\"14.00\">A</text>\r\n",
       "</g>\r\n",
       "<!-- S&#45;&gt;A -->\r\n",
       "<g id=\"edge2\" class=\"edge\"><title>S&#45;&gt;A</title>\r\n",
       "<path fill=\"none\" stroke=\"black\" d=\"M57.1393,-359.849C58.979,-349.489 61.2728,-336.009 63,-324 69.7313,-277.195 75.8108,-222.481 79.1947,-190.398\"/>\r\n",
       "<polygon fill=\"black\" stroke=\"black\" points=\"82.6781,-190.739 80.2361,-180.43 75.716,-190.012 82.6781,-190.739\"/>\r\n",
       "</g>\r\n",
       "<!-- D -->\r\n",
       "<g id=\"node4\" class=\"node\"><title>D</title>\r\n",
       "<ellipse fill=\"none\" stroke=\"black\" cx=\"27\" cy=\"-234\" rx=\"27\" ry=\"18\"/>\r\n",
       "<text text-anchor=\"middle\" x=\"27\" y=\"-230.3\" font-family=\"Times New Roman,serif\" font-size=\"14.00\">D</text>\r\n",
       "</g>\r\n",
       "<!-- E&#45;&gt;D -->\r\n",
       "<g id=\"edge3\" class=\"edge\"><title>E&#45;&gt;D</title>\r\n",
       "<path fill=\"none\" stroke=\"black\" d=\"M27,-287.697C27,-279.983 27,-270.712 27,-262.112\"/>\r\n",
       "<polygon fill=\"black\" stroke=\"black\" points=\"30.5001,-262.104 27,-252.104 23.5001,-262.104 30.5001,-262.104\"/>\r\n",
       "</g>\r\n",
       "<!-- C -->\r\n",
       "<g id=\"node5\" class=\"node\"><title>C</title>\r\n",
       "<ellipse fill=\"none\" stroke=\"black\" cx=\"27\" cy=\"-90\" rx=\"27\" ry=\"18\"/>\r\n",
       "<text text-anchor=\"middle\" x=\"27\" y=\"-86.3\" font-family=\"Times New Roman,serif\" font-size=\"14.00\">C</text>\r\n",
       "</g>\r\n",
       "<!-- A&#45;&gt;C -->\r\n",
       "<g id=\"edge5\" class=\"edge\"><title>A&#45;&gt;C</title>\r\n",
       "<path fill=\"none\" stroke=\"black\" d=\"M70.0658,-145.811C62.7864,-136.546 53.3374,-124.52 45.1456,-114.094\"/>\r\n",
       "<polygon fill=\"black\" stroke=\"black\" points=\"47.8413,-111.86 38.9109,-106.159 42.337,-116.185 47.8413,-111.86\"/>\r\n",
       "</g>\r\n",
       "<!-- D&#45;&gt;A -->\r\n",
       "<g id=\"edge4\" class=\"edge\"><title>D&#45;&gt;A</title>\r\n",
       "<path fill=\"none\" stroke=\"black\" d=\"M38.9342,-217.811C46.2136,-208.546 55.6626,-196.52 63.8544,-186.094\"/>\r\n",
       "<polygon fill=\"black\" stroke=\"black\" points=\"66.663,-188.185 70.0891,-178.159 61.1587,-183.86 66.663,-188.185\"/>\r\n",
       "</g>\r\n",
       "<!-- D&#45;&gt;C -->\r\n",
       "<g id=\"edge7\" class=\"edge\"><title>D&#45;&gt;C</title>\r\n",
       "<path fill=\"none\" stroke=\"black\" d=\"M27,-215.871C27,-191.67 27,-147.211 27,-118.393\"/>\r\n",
       "<polygon fill=\"black\" stroke=\"black\" points=\"30.5001,-118.189 27,-108.189 23.5001,-118.189 30.5001,-118.189\"/>\r\n",
       "</g>\r\n",
       "<!-- B -->\r\n",
       "<g id=\"node6\" class=\"node\"><title>B</title>\r\n",
       "<ellipse fill=\"none\" stroke=\"black\" cx=\"54\" cy=\"-18\" rx=\"27\" ry=\"18\"/>\r\n",
       "<text text-anchor=\"middle\" x=\"54\" y=\"-14.3\" font-family=\"Times New Roman,serif\" font-size=\"14.00\">B</text>\r\n",
       "</g>\r\n",
       "<!-- C&#45;&gt;B -->\r\n",
       "<g id=\"edge8\" class=\"edge\"><title>C&#45;&gt;B</title>\r\n",
       "<path fill=\"none\" stroke=\"black\" d=\"M33.3986,-72.411C36.5136,-64.3352 40.3337,-54.4312 43.8346,-45.3547\"/>\r\n",
       "<polygon fill=\"black\" stroke=\"black\" points=\"47.1265,-46.5458 47.4597,-35.9562 40.5955,-44.0267 47.1265,-46.5458\"/>\r\n",
       "</g>\r\n",
       "<!-- B&#45;&gt;A -->\r\n",
       "<g id=\"edge6\" class=\"edge\"><title>B&#45;&gt;A</title>\r\n",
       "<path fill=\"none\" stroke=\"black\" d=\"M57.3894,-36.1893C62.1892,-60.5311 71.0129,-105.28 76.6876,-134.059\"/>\r\n",
       "<polygon fill=\"black\" stroke=\"black\" points=\"73.254,-134.738 78.6225,-143.871 80.1218,-133.383 73.254,-134.738\"/>\r\n",
       "</g>\r\n",
       "</g>\r\n",
       "</svg>\r\n"
      ],
      "text/plain": [
       "<graphviz.dot.Digraph at 0x13c6466c820>"
      ]
     },
     "execution_count": 7,
     "metadata": {},
     "output_type": "execute_result"
    }
   ],
   "source": [
    "dot = Digraph()\n",
    "\n",
    "dot.edge('S', 'E')\n",
    "dot.edge('S', 'A')\n",
    "dot.edge('E', 'D')\n",
    "dot.edge('D', 'A')\n",
    "dot.edge('A', 'C')\n",
    "dot.edge('B', 'A')\n",
    "dot.edge('D', 'C')\n",
    "dot.edge('C', 'B')\n",
    "\n",
    "#dot.view()\n",
    "dot"
   ]
  },
  {
   "cell_type": "code",
   "execution_count": 8,
   "id": "90237e9f",
   "metadata": {},
   "outputs": [],
   "source": [
    "G = Graph()\n",
    "#for i in ['0', '1', '2', '3', '4', '5']:\n",
    "for i in ['S', 'E', 'A', 'D', 'B', 'C']:\n",
    "    G.addVertex( Node(i) )"
   ]
  },
  {
   "cell_type": "code",
   "execution_count": 9,
   "id": "e2160adc",
   "metadata": {},
   "outputs": [
    {
     "name": "stdout",
     "output_type": "stream",
     "text": [
      "Graph with:\n",
      "\t Vertices:\n",
      "\tS, E, A, D, B, C, \n",
      "\t Edges:\n",
      "\t(S -> E, weight: 8) (S -> A, weight: 10) (E -> D, weight: 1) (D -> A, weight: -4) (B -> A, weight: 1) \n",
      "\n"
     ]
    }
   ],
   "source": [
    "V = G.vertices\n",
    "\n",
    "#dot.edge('S', 'E')\n",
    "G.addDiEdge( V[0], V[1], 8)\n",
    "\n",
    "#dot.edge('S', 'A')\n",
    "G.addDiEdge( V[0], V[2] , 10)\n",
    "\n",
    "#dot.edge('E', 'D')\n",
    "G.addDiEdge( V[1], V[3], 1)\n",
    "\n",
    "#dot.edge('D', 'A')\n",
    "G.addDiEdge( V[3], V[2], -4)\n",
    "\n",
    "#dot.edge('A', 'C')\n",
    "#G.addDiEdge( V[2], V[5], 2)\n",
    "\n",
    "#dot.edge('B', 'A')\n",
    "G.addDiEdge( V[4], V[2], 1 )\n",
    "\n",
    "#dot.edge('D', 'C')\n",
    "#G.addDiEdge( V[3], V[5], -1)\n",
    "\n",
    "#dot.edge('C', 'B')\n",
    "#G.addDiEdge( V[5], V[4], -2 )\n",
    "\n",
    "print(G)"
   ]
  },
  {
   "cell_type": "markdown",
   "id": "8fcbaefb",
   "metadata": {},
   "source": [
    "Second Example"
   ]
  },
  {
   "cell_type": "code",
   "execution_count": 10,
   "id": "dd4d197d",
   "metadata": {},
   "outputs": [],
   "source": [
    "G = Graph()\n",
    "#for i in ['0', '1', '2', '3', '4', '5']:\n",
    "for i in ['S', 'A', 'B']:\n",
    "    G.addVertex( Node(i) )\n",
    "    \n",
    "V = G.vertices\n",
    "\n",
    "G.addDiEdge( V[0], V[1], 3)\n",
    "\n",
    "G.addDiEdge( V[0], V[2] , 4)\n",
    "\n",
    "G.addDiEdge( V[2], V[1], -2)"
   ]
  },
  {
   "cell_type": "code",
   "execution_count": 11,
   "id": "fb865755",
   "metadata": {},
   "outputs": [
    {
     "name": "stdout",
     "output_type": "stream",
     "text": [
      "Graph with:\n",
      "\t Vertices:\n",
      "\tS, A, B, \n",
      "\t Edges:\n",
      "\t(S -> A, weight: 3) (S -> B, weight: 4) (B -> A, weight: -2) \n",
      "\n"
     ]
    }
   ],
   "source": [
    "print(G)"
   ]
  },
  {
   "cell_type": "markdown",
   "id": "0ed62d3b",
   "metadata": {},
   "source": [
    "***"
   ]
  },
  {
   "cell_type": "markdown",
   "id": "94392ed1",
   "metadata": {
    "tags": []
   },
   "source": [
    "### Section 2: Dijkstra Algorithm"
   ]
  },
  {
   "cell_type": "code",
   "execution_count": 12,
   "id": "b4d19469",
   "metadata": {},
   "outputs": [
    {
     "data": {
      "text/plain": [
       "3"
      ]
     },
     "execution_count": 12,
     "metadata": {},
     "output_type": "execute_result"
    }
   ],
   "source": [
    "len(G.vertices)"
   ]
  },
  {
   "cell_type": "code",
   "execution_count": 13,
   "id": "4df8a7a1",
   "metadata": {},
   "outputs": [],
   "source": [
    "#Initializes the dijkstra algorithm with w as the starting point and G as the graph\n",
    "def dijkstra(w, G):\n",
    "    \n",
    "    for v in G.vertices: #For every vertex in the graph\n",
    "        v.estD = math.inf #Set estimated distance to infinity\n",
    "        \n",
    "    w.estD = 0 #Set the estimated distance of the starting point to 0\n",
    "    unsureVertices = G.vertices[:] #Create a copy of all the vertices, labelling them as unsure\n",
    "    \n",
    "    sureVertices = [] #Initializes an empty list of surevertices\n",
    "    \n",
    "    #Picks u\n",
    "    while len(unsureVertices) > 0: #While there are still unsure vertices\n",
    "        u = None #U is going to be used to store the vertex with the smallest estimated distance\n",
    "        minD = math.inf #Initialize the minimum distance to infinity\n",
    "        for x in unsureVertices:#Iterate through all the unsure vertices\n",
    "            if x.estD < minD: #If the estimated distance of x is lower than minimum distance\n",
    "                minD = x.estD #Set the distance of x as minimum distance\n",
    "                u = x #u then references the vertex x\n",
    "        \n",
    "        if u == None: #If there are no unsure vertices left\n",
    "            return #Exit loop\n",
    "        \n",
    "        #Loop through neighbouring vertices \"v\" and weights \"wt\" of vertex \"u\"\n",
    "        for v, wt in u.getOutNeighborsWithWeights():\n",
    "            if v in sureVertices: #If v is is in sureVertices list, skip it\n",
    "                continue\n",
    "            \n",
    "            if u.estD + wt < v.estD: #Checks if the path to v through u is shorter than previously known paths of v\n",
    "                v.estD = u.estD + wt #Update v's path\n",
    "                v.parent = u #Set u as the parent\n",
    "        \n",
    "        unsureVertices.remove(u) #Remove vertex u from the unsure vertices\n",
    "        sureVertices.append(u) #Add it to the sure vertices\n",
    "    \n"
   ]
  },
  {
   "cell_type": "code",
   "execution_count": 14,
   "id": "5bffc218",
   "metadata": {},
   "outputs": [
    {
     "name": "stdout",
     "output_type": "stream",
     "text": [
      "A 0\n",
      "B inf\n",
      "C 3\n"
     ]
    }
   ],
   "source": [
    "G = Graph() #Initializes new graph\n",
    "#for i in ['0', '1', '2', '3', '4', '5']:\n",
    "for i in ['A', 'B', 'C']: #Adds vertices\n",
    "    G.addVertex( Node(i) ) #Creates node object\n",
    "    \n",
    "V = G.vertices #Stores vertices in the graph into V\n",
    "\n",
    "#Adds directed edges\n",
    "G.addDiEdge( V[0], V[2], 3)\n",
    "G.addDiEdge( V[1], V[2] , 9)\n",
    "G.addDiEdge( V[1], V[0], 3)\n",
    "\n",
    "\n",
    "w = G.vertices[0] #Set w as starting vertex\n",
    "dijkstra(w, G) #Executes dijkstra's algorithm\n",
    "\n",
    "for v in G.vertices: #Iterates through all the vertices\n",
    "    print(v.value, v.estD) #Prints each vertex and their shortst distance from w"
   ]
  },
  {
   "cell_type": "markdown",
   "id": "0022f18f",
   "metadata": {},
   "source": [
    "***"
   ]
  },
  {
   "cell_type": "markdown",
   "id": "f9b31a04",
   "metadata": {},
   "source": [
    "### <font color='red'> Activity 1: Modify above code to do Bellman-Ford. Make sure you test for negative cycles and compare its performance with Dijkstra. </font>"
   ]
  },
  {
   "cell_type": "code",
   "execution_count": 15,
   "id": "8d176b03",
   "metadata": {},
   "outputs": [],
   "source": [
    "#Initializes the bellman-ford algorithm with w as the starting point and G as the graph\n",
    "def bellman_ford(w, G):\n",
    "\n",
    "    for v in G.vertices: #For every vertex in the graph\n",
    "        v.estD = math.inf #Set estimated distance to infinity\n",
    "        \n",
    "    w.estD = 0 #Set the estimated distance of the starting point to 0\n",
    "\n",
    "    for i in range(0, len(G.vertices) -1): #Repeat this process v-1 times where v is the number of vertices in the graph\n",
    "        for u in G.vertices: #For ech vertex u in the graph\n",
    "            for v, wt in u.getOutNeighbors():  #For each neighbor \"v\" and weight \"wt\" of \"u\"\n",
    "                if u.estD != math.inf and u.estD + wt < v.estD: #If the estimated distance is not infinity and the path from u is shorter than its previous path\n",
    "                    v.estD = u.estD + wt #Update v's distance with the shorter distance\n",
    "\n",
    "    #Checks negative weight cycles\n",
    "    for u in G.vertices: #For each vertex u in the graph\n",
    "        for v, wt in u.getOutNeighbors(): #For each neighbour and weight of u\n",
    "            if u.estD != math.inf and u.estD + wt < v.estD: #If the distance can still be updated after relaxation, there is a negative weight cycle\n",
    "                print(\"There are negative cycles\")\n",
    "\n"
   ]
  },
  {
   "cell_type": "code",
   "execution_count": 16,
   "id": "a2ba75f8-3929-42b7-9651-215a076af5fc",
   "metadata": {},
   "outputs": [
    {
     "name": "stdout",
     "output_type": "stream",
     "text": [
      "A 0\n",
      "B 4\n",
      "C 8\n",
      "D 10\n"
     ]
    }
   ],
   "source": [
    "G = Graph()\n",
    "for i in ['A', 'B', 'C', 'D']:\n",
    "    G.addVertex(Node(i))\n",
    "\n",
    "V = G.vertices\n",
    "G.addDiEdge(V[0], V[1], 4)  \n",
    "G.addDiEdge(V[1], V[2], 4) \n",
    "G.addDiEdge(V[2], V[3], 2) \n",
    "\n",
    "# Run Bellman-Ford algorithm\n",
    "bellman_ford(V[0], G)\n",
    "\n",
    "# Print the results\n",
    "for v in G.vertices:\n",
    "    print(v.value, v.estD)"
   ]
  },
  {
   "cell_type": "code",
   "execution_count": 17,
   "id": "b7bb761f-1d8d-48d3-9062-fc030f5f6e06",
   "metadata": {},
   "outputs": [
    {
     "name": "stdout",
     "output_type": "stream",
     "text": [
      "There are negative cycles\n",
      "A 0\n",
      "B -8\n",
      "C 0\n",
      "D 2\n"
     ]
    }
   ],
   "source": [
    "G = Graph()\n",
    "for i in ['A', 'B', 'C', 'D']:\n",
    "    G.addVertex(Node(i))\n",
    "\n",
    "V = G.vertices\n",
    "\n",
    "# Adding edges to the graph\n",
    "G.addDiEdge(V[0], V[1], 4)  \n",
    "G.addDiEdge(V[1], V[2], 4)  \n",
    "G.addDiEdge(V[2], V[3], 2)   \n",
    "G.addDiEdge(V[3], V[1], -10) \n",
    "\n",
    "\n",
    "bellman_ford(V[0], G)\n",
    "\n",
    "for v in G.vertices:\n",
    "    print(v.value, v.estD)\n"
   ]
  },
  {
   "cell_type": "markdown",
   "id": "9c64f77d",
   "metadata": {},
   "source": [
    "***"
   ]
  },
  {
   "cell_type": "markdown",
   "id": "ebd772d0",
   "metadata": {},
   "source": [
    "### <font color='red'> Activity 2: Implement Floyd-Warshal algorithm using above data structure (that is Node and Graph). Make sure to test all the use-cases. </font>"
   ]
  },
  {
   "cell_type": "code",
   "execution_count": 21,
   "id": "edf0acbd",
   "metadata": {},
   "outputs": [],
   "source": [
    "import numpy as np\n",
    "\n",
    "# Part 1: (Initialization of your D matrix)\n",
    "def floyd_warshall(G):\n",
    "    n = len(G.vertices)\n",
    "    \n",
    "    # Initialize the distance and parent table (matrix)\n",
    "    distance = np.full((n, n), np.inf)  #Fill the nxn matrix with infinity\n",
    "    np.fill_diagonal(distance, 0)  #Set the main diagonal to 0\n",
    "    \n",
    "    parents = np.full((n, n), -1)  #Use -1 to indicate no parent for any vertex initially\n",
    "    \n",
    "    # Set initial distances and parents from the graph's direct connections\n",
    "    for u in range(n): #Iterate through each vertex in the graph\n",
    "        for v, wt in G.vertices[u].getOutNeighborsWithWeights(): #For each vertex, get outs its neighbours with weights\n",
    "            u_index = G.vertices.index(G.vertices[u]) #Find index of u\n",
    "            v_index = G.vertices.index(v) #Find index of v\n",
    "            distance[u_index, v_index] = wt #Set the distance between u and v to its edge weight\n",
    "            parents[u_index, v_index] = u_index #Set the parent of v to u\n",
    "\n",
    "    # Part 2: (Use of DP to solve the problem)\n",
    "    for k in range(n):\n",
    "        for i in range(n):\n",
    "            for j in range(n):\n",
    "                # Implementing the Floyd-Warshall DP equation\n",
    "                if distance[i, j] > distance[i, k] + distance[k, j]:\n",
    "                    distance[i, j] = distance[i, k] + distance[k, j]\n",
    "                    parents[i, j] = parents[k, j]  \n",
    "\n",
    "                    \n",
    "    # Part 3: Determine if there are negative cycles\n",
    "    for i in range(n): #Iterates through all the vertices\n",
    "        if distance[i, i] < 0:  # If the distance from a vertex to itself is negative. There is a negative cycle\n",
    "            print(\"Negative cycle detected\")\n",
    "            return None\n",
    "\n",
    "   # Part 4: Print out the Path\n",
    "    def print_path(start_index, end_index, parents):\n",
    "        path = [] #Initialize an empty list to store the path\n",
    "        current = end_index #Start form end vertex\n",
    "\n",
    "        #Constructs a path from end_index to start_index using parents\n",
    "        while current != -1 and current != start_index: #Traverse backwards until we reach the start or no path\n",
    "            path.append(G.vertices[current].value) #Add the current vertex to the path\n",
    "            current = parents[start_index, current] #Move to the parent of the current vertex in the path\n",
    "\n",
    "        if current == -1: #If theres no path left print no path\n",
    "            print(\"No path\", end='')\n",
    "        else:\n",
    "            path.append(G.vertices[start_index].value) #Add the start vertex to the path\n",
    "            path.reverse() #Reverse the list\n",
    "            print(\" -> \".join(path), end='') #Print the path with arrows\n",
    "\n",
    "    # Output the results\n",
    "    print(\"\\nShortest paths between all pairs of vertices:\")\n",
    "    for i in range(n):\n",
    "        for j in range(n):\n",
    "            print(f\"Shortest path from {G.vertices[i].value} to {G.vertices[j].value}: \", end='')\n",
    "            if distance[i, j] == np.inf:\n",
    "                print(\"No path\", end='')\n",
    "            else:\n",
    "                print_path(i, j, parents)\n",
    "                print(f\" (Distance: {distance[i, j]})\")\n",
    "\n",
    "    # Return distance and parents matrix\n",
    "    return distance, parents"
   ]
  },
  {
   "cell_type": "code",
   "execution_count": 22,
   "id": "f1d80935-35bf-431a-8c57-e2726ea9a3f1",
   "metadata": {},
   "outputs": [
    {
     "name": "stdout",
     "output_type": "stream",
     "text": [
      "\n",
      "Shortest paths between all pairs of vertices:\n",
      "Shortest path from A to A: A (Distance: 0.0)\n",
      "Shortest path from A to B: A -> B (Distance: 1.0)\n",
      "Shortest path from A to C: A -> B -> C (Distance: 2.0)\n",
      "Shortest path from A to D: A -> B -> C -> D (Distance: 3.0)\n",
      "Shortest path from A to E: A -> B -> C -> D -> E (Distance: 4.0)\n",
      "Shortest path from B to A: No pathShortest path from B to B: B (Distance: 0.0)\n",
      "Shortest path from B to C: B -> C (Distance: 1.0)\n",
      "Shortest path from B to D: B -> C -> D (Distance: 2.0)\n",
      "Shortest path from B to E: B -> C -> D -> E (Distance: 3.0)\n",
      "Shortest path from C to A: No pathShortest path from C to B: No pathShortest path from C to C: C (Distance: 0.0)\n",
      "Shortest path from C to D: C -> D (Distance: 1.0)\n",
      "Shortest path from C to E: C -> D -> E (Distance: 2.0)\n",
      "Shortest path from D to A: No pathShortest path from D to B: No pathShortest path from D to C: No pathShortest path from D to D: D (Distance: 0.0)\n",
      "Shortest path from D to E: D -> E (Distance: 1.0)\n",
      "Shortest path from E to A: No pathShortest path from E to B: No pathShortest path from E to C: No pathShortest path from E to D: No pathShortest path from E to E: E (Distance: 0.0)\n"
     ]
    }
   ],
   "source": [
    "# Create a graph and add vertices and edges\n",
    "G = Graph()\n",
    "for i in ['A', 'B', 'C', 'D', 'E']:\n",
    "    G.addVertex(Node(i))\n",
    "\n",
    "V = G.vertices\n",
    "G.addDiEdge(V[0], V[1], 1)\n",
    "G.addDiEdge(V[1], V[2], 1)\n",
    "G.addDiEdge(V[2], V[3], 1)\n",
    "G.addDiEdge(V[3], V[4], 1)\n",
    "\n",
    "# Run Floyd-Warshall algorithm\n",
    "distnce, parents = floyd_warshall(G)"
   ]
  },
  {
   "cell_type": "markdown",
   "id": "e143dc12",
   "metadata": {},
   "source": [
    "***"
   ]
  },
  {
   "cell_type": "markdown",
   "id": "79cfe7ab",
   "metadata": {},
   "source": [
    "***"
   ]
  },
  {
   "cell_type": "code",
   "execution_count": 23,
   "id": "8f66e162-d26f-4eda-92e8-0c598735314c",
   "metadata": {},
   "outputs": [
    {
     "name": "stdout",
     "output_type": "stream",
     "text": [
      "Negative cycle detected\n"
     ]
    },
    {
     "ename": "TypeError",
     "evalue": "cannot unpack non-iterable NoneType object",
     "output_type": "error",
     "traceback": [
      "\u001b[1;31m---------------------------------------------------------------------------\u001b[0m",
      "\u001b[1;31mTypeError\u001b[0m                                 Traceback (most recent call last)",
      "\u001b[1;32m~\\AppData\\Local\\Temp\\ipykernel_34440\\2287704608.py\u001b[0m in \u001b[0;36m<module>\u001b[1;34m\u001b[0m\n\u001b[0;32m     11\u001b[0m \u001b[1;33m\u001b[0m\u001b[0m\n\u001b[0;32m     12\u001b[0m \u001b[1;31m# Run Floyd-Warshall algorithm\u001b[0m\u001b[1;33m\u001b[0m\u001b[1;33m\u001b[0m\u001b[0m\n\u001b[1;32m---> 13\u001b[1;33m \u001b[0mdistnce\u001b[0m\u001b[1;33m,\u001b[0m \u001b[0mparents\u001b[0m \u001b[1;33m=\u001b[0m \u001b[0mfloyd_warshall\u001b[0m\u001b[1;33m(\u001b[0m\u001b[0mG\u001b[0m\u001b[1;33m)\u001b[0m\u001b[1;33m\u001b[0m\u001b[1;33m\u001b[0m\u001b[0m\n\u001b[0m",
      "\u001b[1;31mTypeError\u001b[0m: cannot unpack non-iterable NoneType object"
     ]
    }
   ],
   "source": [
    "# Create a graph and add vertices and edges\n",
    "G = Graph()\n",
    "for i in ['A', 'B', 'C', 'D']:\n",
    "    G.addVertex(Node(i))\n",
    "\n",
    "V = G.vertices\n",
    "G.addDiEdge(V[0], V[1], 4)  \n",
    "G.addDiEdge(V[1], V[2], 4)  \n",
    "G.addDiEdge(V[2], V[3], 2)   \n",
    "G.addDiEdge(V[3], V[1], -10) \n",
    "\n",
    "# Run Floyd-Warshall algorithm\n",
    "distnce, parents = floyd_warshall(G)"
   ]
  },
  {
   "cell_type": "code",
   "execution_count": null,
   "id": "6faa04dc-81a3-4a86-a43a-23be0f50e310",
   "metadata": {},
   "outputs": [],
   "source": []
  },
  {
   "cell_type": "code",
   "execution_count": null,
   "id": "c78122ba-f5cb-4428-b00c-e58fdb4121c2",
   "metadata": {},
   "outputs": [],
   "source": []
  }
 ],
 "metadata": {
  "kernelspec": {
   "display_name": "Python 3 (ipykernel)",
   "language": "python",
   "name": "python3"
  },
  "language_info": {
   "codemirror_mode": {
    "name": "ipython",
    "version": 3
   },
   "file_extension": ".py",
   "mimetype": "text/x-python",
   "name": "python",
   "nbconvert_exporter": "python",
   "pygments_lexer": "ipython3",
   "version": "3.9.13"
  }
 },
 "nbformat": 4,
 "nbformat_minor": 5
}
