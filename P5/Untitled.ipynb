{
 "cells": [
  {
   "cell_type": "code",
   "execution_count": 29,
   "id": "5ee6b6cf-3f44-4da7-88be-c0c9396addc0",
   "metadata": {},
   "outputs": [
    {
     "data": {
      "text/html": [
       "<style>.container { width:95% !important; }</style>"
      ],
      "text/plain": [
       "<IPython.core.display.HTML object>"
      ]
     },
     "metadata": {},
     "output_type": "display_data"
    }
   ],
   "source": [
    "# The following lines are used to increase the width of cells to utilize more space on the screen \n",
    "from IPython.core.display import display, HTML\n",
    "display(HTML(\"<style>.container { width:95% !important; }</style>\"))"
   ]
  },
  {
   "cell_type": "code",
   "execution_count": 30,
   "id": "069c9bdc-4257-48d8-9a5c-15785f92452d",
   "metadata": {},
   "outputs": [],
   "source": [
    "import numpy as np"
   ]
  },
  {
   "cell_type": "code",
   "execution_count": 31,
   "id": "2d048617-52c3-4837-8b75-6d30d1bdf286",
   "metadata": {},
   "outputs": [],
   "source": [
    "import math"
   ]
  },
  {
   "cell_type": "code",
   "execution_count": 32,
   "id": "7f71117a-b5b5-4f57-9f15-1c845bd00490",
   "metadata": {},
   "outputs": [],
   "source": [
    "from IPython.display import Image\n",
    "from graphviz import Digraph"
   ]
  },
  {
   "cell_type": "code",
   "execution_count": 33,
   "id": "ca1598f7-5624-4fca-9dca-3c6c6db83add",
   "metadata": {},
   "outputs": [],
   "source": [
    "class Node:\n",
    "    \n",
    "    def __init__(self, v):\n",
    "\n",
    "        self.value = v\n",
    "        self.inNeighbors = []\n",
    "        self.outNeighbors = []\n",
    "        self.status = \"unvisited\"\n",
    "        self.estD = np.inf\n",
    "        \n",
    "    def hasOutNeighbor(self, v):\n",
    "        \n",
    "        return v in self.outNeighbors\n",
    "        \n",
    "    def hasInNeighbor(self, v):\n",
    "        \n",
    "        return v in self.inNeighbors\n",
    "    \n",
    "    def hasNeighbor(self, v):\n",
    "        \n",
    "        return v in self.inNeighbors or v in self.outNeighbors\n",
    "    \n",
    "    def getOutNeighbors(self):\n",
    "        \n",
    "        return self.outNeighbors\n",
    "    \n",
    "    def getInNeighbors(self):\n",
    "        \n",
    "        return self.inNeighbors\n",
    "    \n",
    "    def getOutNeighborsWithWeights(self):\n",
    "        \n",
    "        return self.outNeighbors\n",
    "    \n",
    "    def getInNeighborsWithWeights(self):\n",
    "        \n",
    "        return self.inNeighbors\n",
    "    \n",
    "    # ------------------------------------------------\n",
    "    # Let us modify following two functions to incorporate weights\n",
    "    # ------------------------------------------------\n",
    "    \n",
    "    def addOutNeighbor(self,v,wt):\n",
    "        self.outNeighbors.append((v,wt))\n",
    "    \n",
    "    def addInNeighbor(self,v,wt):\n",
    "        \n",
    "        self.inNeighbors.append((v,wt))\n",
    "        \n",
    "        \n",
    "    def __str__(self):\n",
    "        \n",
    "        return str(self.value) "
   ]
  },
  {
   "cell_type": "code",
   "execution_count": 34,
   "id": "8b6bd26d-5c14-4838-bcb5-6bdb65b9c5b4",
   "metadata": {},
   "outputs": [],
   "source": [
    "class Graph:\n",
    "    def __init__(self):\n",
    "        self.vertices = []\n",
    "        self.next_index = 0 # Add this line to initialize the next available index\n",
    "\n",
    "    def addVertex(self, n):\n",
    "        n.index = self.next_index # Assign the next available index to the vertex\n",
    "        self.next_index += 1 # Increment the next available index\n",
    "        self.vertices.append(n)\n",
    "        \n",
    "    # ------------------------------------------------\n",
    "    # Let us modify following two functions to incorporate weights\n",
    "    # ------------------------------------------------\n",
    "        \n",
    "    def addDiEdge(self, u, v, wt = 1):\n",
    "        \n",
    "        u.addOutNeighbor(v, wt = wt)\n",
    "        v.addInNeighbor(u, wt = wt)\n",
    "        \n",
    "    # add edges in both directions between u and v\n",
    "    def addBiEdge(self, u, v, wt = 1):\n",
    "        \n",
    "        self.addDiEdge(u, v, wt = wt)\n",
    "        self.addDiEdge(v, u, wt = wt)\n",
    "        \n",
    "            \n",
    "    # get a list of all the directed edges\n",
    "    # directed edges are a list of two vertices\n",
    "    def getDirEdges(self):\n",
    "        \n",
    "        ret = []\n",
    "        for v in self.vertices:\n",
    "            ret += [ [v, u] for u in v.outNeighbors ]\n",
    "        return ret\n",
    "    \n",
    "    # reverse the edge between u and v.  Multiple edges are not supported.\n",
    "    def reverseEdge(self,u,v):\n",
    "        \n",
    "        if u.hasOutNeighbor(v) and v.hasInNeighbor(u):\n",
    "            \n",
    "            if v.hasOutNeighbor(u) and u.hasInNeighbor(v): \n",
    "                return\n",
    "        \n",
    "            self.addDiEdge(v, u)\n",
    "            u.outNeighbors.remove(v)\n",
    "            v.inNeighbors.remove(u)        \n",
    "                \n",
    "    def __str__(self):\n",
    "        ret = \"Graph with:\\n\"\n",
    "        ret += \"\\t Vertices:\\n\\t\"\n",
    "        for v in self.vertices:\n",
    "            ret += str(v) + \",\"\n",
    "        ret += \"\\n\"\n",
    "        ret += \"\\t Edges:\\n\\t\"\n",
    "        for a, b in self.getDirEdges():\n",
    "            ret += \"(\" + str(a) + \"->\" + str(b[0]) + \" , \" + str(b[1]) + \")) \"\n",
    "        ret += \"\\n\"\n",
    "        return ret"
   ]
  },
  {
   "cell_type": "code",
   "execution_count": 35,
   "id": "29aa86e7-0dce-47f5-8305-167ee15ea43c",
   "metadata": {},
   "outputs": [
    {
     "data": {
      "image/svg+xml": [
       "<?xml version=\"1.0\" encoding=\"UTF-8\" standalone=\"no\"?>\r\n",
       "<!DOCTYPE svg PUBLIC \"-//W3C//DTD SVG 1.1//EN\"\r\n",
       " \"http://www.w3.org/Graphics/SVG/1.1/DTD/svg11.dtd\">\r\n",
       "<!-- Generated by graphviz version 2.38.0 (20140413.2041)\r\n",
       " -->\r\n",
       "<!-- Title: %3 Pages: 1 -->\r\n",
       "<svg width=\"117pt\" height=\"404pt\"\r\n",
       " viewBox=\"0.00 0.00 117.00 404.00\" xmlns=\"http://www.w3.org/2000/svg\" xmlns:xlink=\"http://www.w3.org/1999/xlink\">\r\n",
       "<g id=\"graph0\" class=\"graph\" transform=\"scale(1 1) rotate(0) translate(4 400)\">\r\n",
       "<title>%3</title>\r\n",
       "<polygon fill=\"white\" stroke=\"none\" points=\"-4,4 -4,-400 113,-400 113,4 -4,4\"/>\r\n",
       "<!-- S -->\r\n",
       "<g id=\"node1\" class=\"node\"><title>S</title>\r\n",
       "<ellipse fill=\"none\" stroke=\"black\" cx=\"54\" cy=\"-378\" rx=\"27\" ry=\"18\"/>\r\n",
       "<text text-anchor=\"middle\" x=\"54\" y=\"-374.3\" font-family=\"Times New Roman,serif\" font-size=\"14.00\">S</text>\r\n",
       "</g>\r\n",
       "<!-- E -->\r\n",
       "<g id=\"node2\" class=\"node\"><title>E</title>\r\n",
       "<ellipse fill=\"none\" stroke=\"black\" cx=\"27\" cy=\"-306\" rx=\"27\" ry=\"18\"/>\r\n",
       "<text text-anchor=\"middle\" x=\"27\" y=\"-302.3\" font-family=\"Times New Roman,serif\" font-size=\"14.00\">E</text>\r\n",
       "</g>\r\n",
       "<!-- S&#45;&gt;E -->\r\n",
       "<g id=\"edge1\" class=\"edge\"><title>S&#45;&gt;E</title>\r\n",
       "<path fill=\"none\" stroke=\"black\" d=\"M47.6014,-360.411C44.4864,-352.335 40.6663,-342.431 37.1654,-333.355\"/>\r\n",
       "<polygon fill=\"black\" stroke=\"black\" points=\"40.4045,-332.027 33.5403,-323.956 33.8735,-334.546 40.4045,-332.027\"/>\r\n",
       "</g>\r\n",
       "<!-- A -->\r\n",
       "<g id=\"node3\" class=\"node\"><title>A</title>\r\n",
       "<ellipse fill=\"none\" stroke=\"black\" cx=\"82\" cy=\"-162\" rx=\"27\" ry=\"18\"/>\r\n",
       "<text text-anchor=\"middle\" x=\"82\" y=\"-158.3\" font-family=\"Times New Roman,serif\" font-size=\"14.00\">A</text>\r\n",
       "</g>\r\n",
       "<!-- S&#45;&gt;A -->\r\n",
       "<g id=\"edge2\" class=\"edge\"><title>S&#45;&gt;A</title>\r\n",
       "<path fill=\"none\" stroke=\"black\" d=\"M57.1393,-359.849C58.979,-349.489 61.2728,-336.009 63,-324 69.7313,-277.195 75.8108,-222.481 79.1947,-190.398\"/>\r\n",
       "<polygon fill=\"black\" stroke=\"black\" points=\"82.6781,-190.739 80.2361,-180.43 75.716,-190.012 82.6781,-190.739\"/>\r\n",
       "</g>\r\n",
       "<!-- D -->\r\n",
       "<g id=\"node4\" class=\"node\"><title>D</title>\r\n",
       "<ellipse fill=\"none\" stroke=\"black\" cx=\"27\" cy=\"-234\" rx=\"27\" ry=\"18\"/>\r\n",
       "<text text-anchor=\"middle\" x=\"27\" y=\"-230.3\" font-family=\"Times New Roman,serif\" font-size=\"14.00\">D</text>\r\n",
       "</g>\r\n",
       "<!-- E&#45;&gt;D -->\r\n",
       "<g id=\"edge3\" class=\"edge\"><title>E&#45;&gt;D</title>\r\n",
       "<path fill=\"none\" stroke=\"black\" d=\"M27,-287.697C27,-279.983 27,-270.712 27,-262.112\"/>\r\n",
       "<polygon fill=\"black\" stroke=\"black\" points=\"30.5001,-262.104 27,-252.104 23.5001,-262.104 30.5001,-262.104\"/>\r\n",
       "</g>\r\n",
       "<!-- C -->\r\n",
       "<g id=\"node5\" class=\"node\"><title>C</title>\r\n",
       "<ellipse fill=\"none\" stroke=\"black\" cx=\"27\" cy=\"-90\" rx=\"27\" ry=\"18\"/>\r\n",
       "<text text-anchor=\"middle\" x=\"27\" y=\"-86.3\" font-family=\"Times New Roman,serif\" font-size=\"14.00\">C</text>\r\n",
       "</g>\r\n",
       "<!-- A&#45;&gt;C -->\r\n",
       "<g id=\"edge5\" class=\"edge\"><title>A&#45;&gt;C</title>\r\n",
       "<path fill=\"none\" stroke=\"black\" d=\"M70.0658,-145.811C62.7864,-136.546 53.3374,-124.52 45.1456,-114.094\"/>\r\n",
       "<polygon fill=\"black\" stroke=\"black\" points=\"47.8413,-111.86 38.9109,-106.159 42.337,-116.185 47.8413,-111.86\"/>\r\n",
       "</g>\r\n",
       "<!-- D&#45;&gt;A -->\r\n",
       "<g id=\"edge4\" class=\"edge\"><title>D&#45;&gt;A</title>\r\n",
       "<path fill=\"none\" stroke=\"black\" d=\"M38.9342,-217.811C46.2136,-208.546 55.6626,-196.52 63.8544,-186.094\"/>\r\n",
       "<polygon fill=\"black\" stroke=\"black\" points=\"66.663,-188.185 70.0891,-178.159 61.1587,-183.86 66.663,-188.185\"/>\r\n",
       "</g>\r\n",
       "<!-- D&#45;&gt;C -->\r\n",
       "<g id=\"edge7\" class=\"edge\"><title>D&#45;&gt;C</title>\r\n",
       "<path fill=\"none\" stroke=\"black\" d=\"M27,-215.871C27,-191.67 27,-147.211 27,-118.393\"/>\r\n",
       "<polygon fill=\"black\" stroke=\"black\" points=\"30.5001,-118.189 27,-108.189 23.5001,-118.189 30.5001,-118.189\"/>\r\n",
       "</g>\r\n",
       "<!-- B -->\r\n",
       "<g id=\"node6\" class=\"node\"><title>B</title>\r\n",
       "<ellipse fill=\"none\" stroke=\"black\" cx=\"54\" cy=\"-18\" rx=\"27\" ry=\"18\"/>\r\n",
       "<text text-anchor=\"middle\" x=\"54\" y=\"-14.3\" font-family=\"Times New Roman,serif\" font-size=\"14.00\">B</text>\r\n",
       "</g>\r\n",
       "<!-- C&#45;&gt;B -->\r\n",
       "<g id=\"edge8\" class=\"edge\"><title>C&#45;&gt;B</title>\r\n",
       "<path fill=\"none\" stroke=\"black\" d=\"M33.3986,-72.411C36.5136,-64.3352 40.3337,-54.4312 43.8346,-45.3547\"/>\r\n",
       "<polygon fill=\"black\" stroke=\"black\" points=\"47.1265,-46.5458 47.4597,-35.9562 40.5955,-44.0267 47.1265,-46.5458\"/>\r\n",
       "</g>\r\n",
       "<!-- B&#45;&gt;A -->\r\n",
       "<g id=\"edge6\" class=\"edge\"><title>B&#45;&gt;A</title>\r\n",
       "<path fill=\"none\" stroke=\"black\" d=\"M57.3894,-36.1893C62.1892,-60.5311 71.0129,-105.28 76.6876,-134.059\"/>\r\n",
       "<polygon fill=\"black\" stroke=\"black\" points=\"73.254,-134.738 78.6225,-143.871 80.1218,-133.383 73.254,-134.738\"/>\r\n",
       "</g>\r\n",
       "</g>\r\n",
       "</svg>\r\n"
      ],
      "text/plain": [
       "<graphviz.dot.Digraph at 0x1bc788c69d0>"
      ]
     },
     "execution_count": 35,
     "metadata": {},
     "output_type": "execute_result"
    }
   ],
   "source": [
    "dot = Digraph()\n",
    "\n",
    "dot.edge('S', 'E')\n",
    "dot.edge('S', 'A')\n",
    "dot.edge('E', 'D')\n",
    "dot.edge('D', 'A')\n",
    "dot.edge('A', 'C')\n",
    "dot.edge('B', 'A')\n",
    "dot.edge('D', 'C')\n",
    "dot.edge('C', 'B')\n",
    "\n",
    "#dot.view()\n",
    "dot"
   ]
  },
  {
   "cell_type": "code",
   "execution_count": 36,
   "id": "3375dfd3-dffc-49bf-aa2c-2253a7bf5640",
   "metadata": {},
   "outputs": [],
   "source": [
    "G = Graph()\n",
    "#for i in ['0', '1', '2', '3', '4', '5']:\n",
    "for i in ['S', 'E', 'A', 'D', 'B', 'C']:\n",
    "    G.addVertex( Node(i) )"
   ]
  },
  {
   "cell_type": "code",
   "execution_count": 37,
   "id": "d19ac93c-cca2-4b0b-be9e-61b41b096fc9",
   "metadata": {},
   "outputs": [],
   "source": [
    "V = G.vertices\n",
    "\n",
    "#dot.edge('S', 'E')\n",
    "G.addDiEdge( V[0], V[1], 8)\n",
    "\n",
    "#dot.edge('S', 'A')\n",
    "G.addDiEdge( V[0], V[2] , 10)\n",
    "\n",
    "#dot.edge('E', 'D')\n",
    "G.addDiEdge( V[1], V[3], 1)\n",
    "\n",
    "#dot.edge('D', 'A')\n",
    "G.addDiEdge( V[3], V[2], -4)\n",
    "\n",
    "#dot.edge('A', 'C')\n",
    "G.addDiEdge( V[2], V[5], 2)\n",
    "\n",
    "#dot.edge('B', 'A')\n",
    "G.addDiEdge( V[4], V[2], 1 )\n",
    "\n",
    "#dot.edge('D', 'C')\n",
    "G.addDiEdge( V[3], V[5], -1)\n",
    "\n",
    "#dot.edge('C', 'B')\n",
    "G.addDiEdge( V[5], V[4], -2 )"
   ]
  },
  {
   "cell_type": "code",
   "execution_count": 38,
   "id": "2b5c6a4c-0e83-4993-85e0-bb0e576e673a",
   "metadata": {},
   "outputs": [],
   "source": [
    "G = Graph()\n",
    "#for i in ['0', '1', '2', '3', '4', '5']:\n",
    "for i in ['S', 'A', 'B']:\n",
    "    G.addVertex( Node(i) )\n",
    "    \n",
    "V = G.vertices\n",
    "\n",
    "G.addDiEdge( V[0], V[1], 3)\n",
    "\n",
    "G.addDiEdge( V[0], V[2] , 4)\n",
    "\n",
    "G.addDiEdge( V[2], V[1], -2)"
   ]
  },
  {
   "cell_type": "code",
   "execution_count": 39,
   "id": "aa2e1954-ca81-4a14-8f79-628837482419",
   "metadata": {},
   "outputs": [
    {
     "name": "stdout",
     "output_type": "stream",
     "text": [
      "Graph with:\n",
      "\t Vertices:\n",
      "\tS,A,B,\n",
      "\t Edges:\n",
      "\t(S->A , 3)) (S->B , 4)) (B->A , -2)) \n",
      "\n"
     ]
    }
   ],
   "source": [
    "print(G)"
   ]
  },
  {
   "cell_type": "code",
   "execution_count": 40,
   "id": "2bb1fc18-d5c7-449b-825c-954af2dafb22",
   "metadata": {},
   "outputs": [
    {
     "data": {
      "text/plain": [
       "3"
      ]
     },
     "execution_count": 40,
     "metadata": {},
     "output_type": "execute_result"
    }
   ],
   "source": [
    "len(G.vertices)"
   ]
  },
  {
   "cell_type": "code",
   "execution_count": 41,
   "id": "04cd8734-2547-4d73-86c0-b81c923e20c4",
   "metadata": {},
   "outputs": [],
   "source": [
    "def dijkstra(w, G):\n",
    "    \"\"\" Input: w is a vertex in G\n",
    "        Output: The estD of each vertex in G is set to its distance from w\n",
    "        Note: This function does not return anything.  It just updates the estD of each vertex\n",
    "    \"\"\"\n",
    "    \n",
    "    for v in G.vertices:\n",
    "        v.estD = math.inf\n",
    "\n",
    "    w.estD = 0\n",
    "    unsureVertices = G.vertices[:]\n",
    "\n",
    "    sureVertices = []\n",
    "\n",
    "    # Loop until all vertices are sure\n",
    "    while len(unsureVertices) > 0:\n",
    "\n",
    "        # find the u with the minimum estD in the dumbest way possible\n",
    "        u = None\n",
    "        minD = math.inf\n",
    "        for x in unsureVertices:\n",
    "            if x.estD < minD:\n",
    "                minD = x.estD\n",
    "                u = x\n",
    "\n",
    "        if u is None:\n",
    "            # then there is nothing more that I can reach\n",
    "            return\n",
    "\n",
    "        # update u's neighbors\n",
    "        for v, wt in u.getOutNeighborsWithWeights():\n",
    "\n",
    "            if v in sureVertices:\n",
    "                continue\n",
    "\n",
    "            if u.estD + wt < v.estD:\n",
    "                v.estD = u.estD + wt\n",
    "\n",
    "        unsureVertices.remove(u)\n",
    "        sureVertices.append(u)\n",
    "    \n",
    "    # that's it!  Now each vertex holds estD which is its distance from w"
   ]
  },
  {
   "cell_type": "code",
   "execution_count": 42,
   "id": "0f3bcb34-9a67-4520-a995-485f8f433b9f",
   "metadata": {},
   "outputs": [
    {
     "name": "stdout",
     "output_type": "stream",
     "text": [
      "S 0\n",
      "A 3\n",
      "B 4\n"
     ]
    }
   ],
   "source": [
    "w = G.vertices[0]\n",
    "dijkstra(w, G)\n",
    "\n",
    "for v in G.vertices:\n",
    "    print(v.value, v.estD)"
   ]
  },
  {
   "cell_type": "code",
   "execution_count": 43,
   "id": "288e2e18-a0f8-4fe5-a990-de5d2a1e2288",
   "metadata": {},
   "outputs": [],
   "source": [
    "def bellman_ford(source, graph):\n",
    "    \"\"\" Input: source node and graph\n",
    "        Output: dictionary of distances from source to each node\n",
    "        Note: if there is a negative-weight cycle, returns None\n",
    "    \"\"\"\n",
    "\n",
    "    for node in graph.vertices:\n",
    "        node.estD = float('inf')\n",
    "    source.estD = 0\n",
    "\n",
    "    # Relax edges repeatedly\n",
    "    for _ in range(len(graph.vertices) - 1):\n",
    "        for u in graph.vertices:  # for each node u\n",
    "            for v, w in u.getOutNeighbors():  # for each out-neighbor v of u with weight w\n",
    "                if u.estD != float('inf') and u.estD + w < v.estD:\n",
    "                    v.estD = u.estD + w\n",
    "\n",
    "    # Check for negative-weight cycles\n",
    "    for u in graph.vertices:\n",
    "        for v, w in u.getOutNeighbors():\n",
    "            if u.estD != float('inf') and u.estD + w < v.estD:\n",
    "                print(\"Graph contains a negative-weight cycle\")\n",
    "                return None\n",
    "\n",
    "    return {node: node.estD for node in graph.vertices}"
   ]
  },
  {
   "cell_type": "code",
   "execution_count": 44,
   "id": "93d097ed-53e2-4540-9b52-ee05042c55f4",
   "metadata": {},
   "outputs": [
    {
     "name": "stdout",
     "output_type": "stream",
     "text": [
      "Distance from A to A: 0\n",
      "Distance from A to B: 1\n",
      "Distance from A to C: 3\n"
     ]
    }
   ],
   "source": [
    "G = Graph()\n",
    "for i in ['A', 'B', 'C']:\n",
    "    G.addVertex(Node(i))\n",
    "\n",
    "V = G.vertices\n",
    "\n",
    "G.addDiEdge(V[0], V[1], 1)\n",
    "G.addDiEdge(V[1], V[2], 2)\n",
    "G.addDiEdge(V[0], V[2], 4)\n",
    "\n",
    "distances = bellman_ford(V[0], G)\n",
    "\n",
    "print(\"Distance from A to A:\", distances[V[0]])\n",
    "print(\"Distance from A to B:\", distances[V[1]])\n",
    "print(\"Distance from A to C:\", distances[V[2]])"
   ]
  },
  {
   "cell_type": "code",
   "execution_count": 45,
   "id": "5033e29a-f013-4c17-99be-c08db4465cbb",
   "metadata": {},
   "outputs": [
    {
     "name": "stderr",
     "output_type": "stream",
     "text": [
      "test_negative_cycle (__main__.TestBellmanFord) ... ok\n",
      "test_negative_weights (__main__.TestBellmanFord) ... ok\n",
      "test_positive_weights (__main__.TestBellmanFord) ... ok\n",
      "\n",
      "----------------------------------------------------------------------\n",
      "Ran 3 tests in 0.005s\n",
      "\n",
      "OK\n"
     ]
    },
    {
     "name": "stdout",
     "output_type": "stream",
     "text": [
      "Graph contains a negative-weight cycle\n"
     ]
    },
    {
     "data": {
      "text/plain": [
       "<unittest.runner.TextTestResult run=3 errors=0 failures=0>"
      ]
     },
     "execution_count": 45,
     "metadata": {},
     "output_type": "execute_result"
    }
   ],
   "source": [
    "import unittest\n",
    "\n",
    "class TestBellmanFord(unittest.TestCase):\n",
    "\n",
    "    def test_positive_weights(self):\n",
    "        G = Graph()\n",
    "        for i in ['0', '1', '2']:\n",
    "            G.addVertex(Node(i))\n",
    "        V = G.vertices\n",
    "        G.addDiEdge(V[0], V[1], 10)\n",
    "        G.addDiEdge(V[1], V[2], 20)\n",
    "        G.addDiEdge(V[0], V[2], 30)\n",
    "        expected_output = {V[0]: 0, V[1]: 10, V[2]: 30}\n",
    "        self.assertDictEqual(bellman_ford(V[0], G), expected_output)\n",
    "\n",
    "    def test_negative_weights(self):\n",
    "        G = Graph()\n",
    "        for i in ['0', '1', '2']:\n",
    "            G.addVertex(Node(i))\n",
    "        V = G.vertices\n",
    "        G.addDiEdge(V[0], V[1], 10)\n",
    "        G.addDiEdge(V[1], V[2], -15)\n",
    "        G.addDiEdge(V[0], V[2], 30)\n",
    "        expected_output = {V[0]: 0, V[1]: 10, V[2]: -5}\n",
    "        self.assertDictEqual(bellman_ford(V[0], G), expected_output)\n",
    "\n",
    "    def test_negative_cycle(self):\n",
    "        G = Graph()\n",
    "        for i in ['0', '1', '2']:\n",
    "            G.addVertex(Node(i))\n",
    "        V = G.vertices\n",
    "        G.addDiEdge(V[0], V[1], 10)\n",
    "        G.addDiEdge(V[1], V[2], -15)\n",
    "        G.addDiEdge(V[2], V[0], -5)\n",
    "        self.assertIsNone(bellman_ford(V[0], G))\n",
    "\n",
    "# Create a test suite\n",
    "suite = unittest.TestLoader().loadTestsFromTestCase(TestBellmanFord)\n",
    "\n",
    "# Run the test suite and print the results\n",
    "runner = unittest.TextTestRunner(verbosity=2)\n",
    "runner.run(suite)"
   ]
  },
  {
   "cell_type": "code",
   "execution_count": 46,
   "id": "a36bcb80-494b-4fec-b6b0-0b102aedb0c5",
   "metadata": {},
   "outputs": [],
   "source": [
    "import itertools\n",
    "def Floyd_Warshall(G):\n",
    "    \"\"\" Input: G is a graph\n",
    "        Output: distance matrix\n",
    "        Note: if there is a negative-weight cycle, returns None\n",
    "    \"\"\"\n",
    "    # Initialize the distance matrix\n",
    "    n = len(G.vertices)\n",
    "    distance = [[float('inf') for _ in range(n)] for _ in range(n)]\n",
    "\n",
    "    # Set the distance from a vertex to itself to 0\n",
    "    for i in range(n):\n",
    "        distance[i][i] = 0\n",
    "\n",
    "    # Set the distance for each edge in the graph\n",
    "    for u in G.vertices:\n",
    "        for v, wt in u.getOutNeighborsWithWeights():\n",
    "            distance[u.index][v.index] = wt\n",
    "\n",
    "    # Compute the shortest path between all pairs of vertices\n",
    "    for k in range(n):\n",
    "        for i, j in itertools.product(range(n), range(n)):\n",
    "            distance[i][j] = min(distance[i][j], distance[i][k] + distance[k][j])\n",
    "        # Check for negative-weight cycle\n",
    "        if any(distance[i][i] < 0 for i in range(n)):\n",
    "            print(\"Negative-weight cycle found\\n\")\n",
    "            raise ValueError()\n",
    "            \n",
    "    # print the shortest path between all pairs of vertices\n",
    "    for i, j in itertools.product(range(n), range(n)):\n",
    "        print(f\"distance[{i}][{j}] = {distance[i][j]}\")\n",
    "    print(\"\\n\")\n",
    "\n",
    "    return distance"
   ]
  },
  {
   "cell_type": "code",
   "execution_count": 47,
   "id": "dfac25f0-a10e-4622-83f5-cb429e4fd573",
   "metadata": {},
   "outputs": [
    {
     "data": {
      "image/svg+xml": [
       "<?xml version=\"1.0\" encoding=\"UTF-8\" standalone=\"no\"?>\r\n",
       "<!DOCTYPE svg PUBLIC \"-//W3C//DTD SVG 1.1//EN\"\r\n",
       " \"http://www.w3.org/Graphics/SVG/1.1/DTD/svg11.dtd\">\r\n",
       "<!-- Generated by graphviz version 2.38.0 (20140413.2041)\r\n",
       " -->\r\n",
       "<!-- Title: %3 Pages: 1 -->\r\n",
       "<svg width=\"109pt\" height=\"218pt\"\r\n",
       " viewBox=\"0.00 0.00 109.00 218.00\" xmlns=\"http://www.w3.org/2000/svg\" xmlns:xlink=\"http://www.w3.org/1999/xlink\">\r\n",
       "<g id=\"graph0\" class=\"graph\" transform=\"scale(1 1) rotate(0) translate(4 214)\">\r\n",
       "<title>%3</title>\r\n",
       "<polygon fill=\"white\" stroke=\"none\" points=\"-4,4 -4,-214 105,-214 105,4 -4,4\"/>\r\n",
       "<!-- A -->\r\n",
       "<g id=\"node1\" class=\"node\"><title>A</title>\r\n",
       "<ellipse fill=\"none\" stroke=\"black\" cx=\"74\" cy=\"-192\" rx=\"27\" ry=\"18\"/>\r\n",
       "<text text-anchor=\"middle\" x=\"74\" y=\"-188.3\" font-family=\"Times New Roman,serif\" font-size=\"14.00\">A</text>\r\n",
       "</g>\r\n",
       "<!-- B -->\r\n",
       "<g id=\"node2\" class=\"node\"><title>B</title>\r\n",
       "<ellipse fill=\"none\" stroke=\"black\" cx=\"27\" cy=\"-105\" rx=\"27\" ry=\"18\"/>\r\n",
       "<text text-anchor=\"middle\" x=\"27\" y=\"-101.3\" font-family=\"Times New Roman,serif\" font-size=\"14.00\">B</text>\r\n",
       "</g>\r\n",
       "<!-- A&#45;&gt;B -->\r\n",
       "<g id=\"edge1\" class=\"edge\"><title>A&#45;&gt;B</title>\r\n",
       "<path fill=\"none\" stroke=\"black\" d=\"M64.9379,-174.611C58.1324,-162.303 48.6894,-145.226 40.9272,-131.187\"/>\r\n",
       "<polygon fill=\"black\" stroke=\"black\" points=\"43.7768,-129.108 35.8749,-122.05 37.6509,-132.495 43.7768,-129.108\"/>\r\n",
       "<text text-anchor=\"middle\" x=\"57.5\" y=\"-144.8\" font-family=\"Times New Roman,serif\" font-size=\"14.00\">1</text>\r\n",
       "</g>\r\n",
       "<!-- C -->\r\n",
       "<g id=\"node3\" class=\"node\"><title>C</title>\r\n",
       "<ellipse fill=\"none\" stroke=\"black\" cx=\"69\" cy=\"-18\" rx=\"27\" ry=\"18\"/>\r\n",
       "<text text-anchor=\"middle\" x=\"69\" y=\"-14.3\" font-family=\"Times New Roman,serif\" font-size=\"14.00\">C</text>\r\n",
       "</g>\r\n",
       "<!-- A&#45;&gt;C -->\r\n",
       "<g id=\"edge3\" class=\"edge\"><title>A&#45;&gt;C</title>\r\n",
       "<path fill=\"none\" stroke=\"black\" d=\"M73.5023,-173.879C72.6338,-144.001 70.8347,-82.1129 69.7928,-46.2736\"/>\r\n",
       "<polygon fill=\"black\" stroke=\"black\" points=\"73.2849,-45.9456 69.4957,-36.0516 66.2878,-46.1491 73.2849,-45.9456\"/>\r\n",
       "<text text-anchor=\"middle\" x=\"74.5\" y=\"-101.3\" font-family=\"Times New Roman,serif\" font-size=\"14.00\">4</text>\r\n",
       "</g>\r\n",
       "<!-- B&#45;&gt;C -->\r\n",
       "<g id=\"edge2\" class=\"edge\"><title>B&#45;&gt;C</title>\r\n",
       "<path fill=\"none\" stroke=\"black\" d=\"M35.098,-87.6111C41.1408,-75.3817 49.5106,-58.4429 56.4217,-44.456\"/>\r\n",
       "<polygon fill=\"black\" stroke=\"black\" points=\"59.6347,-45.8543 60.9268,-35.3385 53.359,-42.7533 59.6347,-45.8543\"/>\r\n",
       "<text text-anchor=\"middle\" x=\"54.5\" y=\"-57.8\" font-family=\"Times New Roman,serif\" font-size=\"14.00\">2</text>\r\n",
       "</g>\r\n",
       "</g>\r\n",
       "</svg>\r\n"
      ],
      "text/plain": [
       "<graphviz.dot.Digraph at 0x1bc7881e190>"
      ]
     },
     "execution_count": 47,
     "metadata": {},
     "output_type": "execute_result"
    }
   ],
   "source": [
    "# dot1\n",
    "dot1 = Digraph()\n",
    "dot1.edge('A', 'B', label='1')\n",
    "dot1.edge('B', 'C', label='2')\n",
    "dot1.edge('A', 'C', label='4')\n",
    "dot1"
   ]
  },
  {
   "cell_type": "code",
   "execution_count": 48,
   "id": "48c3d5bb-a0c3-44b7-b733-546402fe40da",
   "metadata": {},
   "outputs": [
    {
     "data": {
      "image/svg+xml": [
       "<?xml version=\"1.0\" encoding=\"UTF-8\" standalone=\"no\"?>\r\n",
       "<!DOCTYPE svg PUBLIC \"-//W3C//DTD SVG 1.1//EN\"\r\n",
       " \"http://www.w3.org/Graphics/SVG/1.1/DTD/svg11.dtd\">\r\n",
       "<!-- Generated by graphviz version 2.38.0 (20140413.2041)\r\n",
       " -->\r\n",
       "<!-- Title: %3 Pages: 1 -->\r\n",
       "<svg width=\"109pt\" height=\"218pt\"\r\n",
       " viewBox=\"0.00 0.00 109.00 218.00\" xmlns=\"http://www.w3.org/2000/svg\" xmlns:xlink=\"http://www.w3.org/1999/xlink\">\r\n",
       "<g id=\"graph0\" class=\"graph\" transform=\"scale(1 1) rotate(0) translate(4 214)\">\r\n",
       "<title>%3</title>\r\n",
       "<polygon fill=\"white\" stroke=\"none\" points=\"-4,4 -4,-214 105,-214 105,4 -4,4\"/>\r\n",
       "<!-- A -->\r\n",
       "<g id=\"node1\" class=\"node\"><title>A</title>\r\n",
       "<ellipse fill=\"none\" stroke=\"black\" cx=\"74\" cy=\"-192\" rx=\"27\" ry=\"18\"/>\r\n",
       "<text text-anchor=\"middle\" x=\"74\" y=\"-188.3\" font-family=\"Times New Roman,serif\" font-size=\"14.00\">A</text>\r\n",
       "</g>\r\n",
       "<!-- B -->\r\n",
       "<g id=\"node2\" class=\"node\"><title>B</title>\r\n",
       "<ellipse fill=\"none\" stroke=\"black\" cx=\"27\" cy=\"-105\" rx=\"27\" ry=\"18\"/>\r\n",
       "<text text-anchor=\"middle\" x=\"27\" y=\"-101.3\" font-family=\"Times New Roman,serif\" font-size=\"14.00\">B</text>\r\n",
       "</g>\r\n",
       "<!-- A&#45;&gt;B -->\r\n",
       "<g id=\"edge1\" class=\"edge\"><title>A&#45;&gt;B</title>\r\n",
       "<path fill=\"none\" stroke=\"black\" d=\"M64.9379,-174.611C58.1324,-162.303 48.6894,-145.226 40.9272,-131.187\"/>\r\n",
       "<polygon fill=\"black\" stroke=\"black\" points=\"43.7768,-129.108 35.8749,-122.05 37.6509,-132.495 43.7768,-129.108\"/>\r\n",
       "<text text-anchor=\"middle\" x=\"60\" y=\"-144.8\" font-family=\"Times New Roman,serif\" font-size=\"14.00\">&#45;1</text>\r\n",
       "</g>\r\n",
       "<!-- C -->\r\n",
       "<g id=\"node3\" class=\"node\"><title>C</title>\r\n",
       "<ellipse fill=\"none\" stroke=\"black\" cx=\"67\" cy=\"-18\" rx=\"27\" ry=\"18\"/>\r\n",
       "<text text-anchor=\"middle\" x=\"67\" y=\"-14.3\" font-family=\"Times New Roman,serif\" font-size=\"14.00\">C</text>\r\n",
       "</g>\r\n",
       "<!-- A&#45;&gt;C -->\r\n",
       "<g id=\"edge3\" class=\"edge\"><title>A&#45;&gt;C</title>\r\n",
       "<path fill=\"none\" stroke=\"black\" d=\"M73.3032,-173.879C72.0873,-144.001 69.5685,-82.1129 68.11,-46.2736\"/>\r\n",
       "<polygon fill=\"black\" stroke=\"black\" points=\"71.5978,-45.901 67.694,-36.0516 64.6036,-46.1857 71.5978,-45.901\"/>\r\n",
       "<text text-anchor=\"middle\" x=\"77\" y=\"-101.3\" font-family=\"Times New Roman,serif\" font-size=\"14.00\">&#45;3</text>\r\n",
       "</g>\r\n",
       "<!-- B&#45;&gt;C -->\r\n",
       "<g id=\"edge2\" class=\"edge\"><title>B&#45;&gt;C</title>\r\n",
       "<path fill=\"none\" stroke=\"black\" d=\"M34.7124,-87.6111C40.4674,-75.3817 48.4386,-58.4429 55.0207,-44.456\"/>\r\n",
       "<polygon fill=\"black\" stroke=\"black\" points=\"58.2201,-45.877 59.3113,-35.3385 51.8864,-42.8964 58.2201,-45.877\"/>\r\n",
       "<text text-anchor=\"middle\" x=\"56\" y=\"-57.8\" font-family=\"Times New Roman,serif\" font-size=\"14.00\">&#45;2</text>\r\n",
       "</g>\r\n",
       "</g>\r\n",
       "</svg>\r\n"
      ],
      "text/plain": [
       "<graphviz.dot.Digraph at 0x1bc7881eeb0>"
      ]
     },
     "execution_count": 48,
     "metadata": {},
     "output_type": "execute_result"
    }
   ],
   "source": [
    "# dot2\n",
    "dot2 = Digraph()\n",
    "dot2.edge('A', 'B', label='-1')\n",
    "dot2.edge('B', 'C', label='-2')\n",
    "dot2.edge('A', 'C', label='-3')\n",
    "dot2"
   ]
  },
  {
   "cell_type": "code",
   "execution_count": 49,
   "id": "b24b17b3-77c0-4031-9344-717aace87f16",
   "metadata": {},
   "outputs": [
    {
     "data": {
      "image/svg+xml": [
       "<?xml version=\"1.0\" encoding=\"UTF-8\" standalone=\"no\"?>\r\n",
       "<!DOCTYPE svg PUBLIC \"-//W3C//DTD SVG 1.1//EN\"\r\n",
       " \"http://www.w3.org/Graphics/SVG/1.1/DTD/svg11.dtd\">\r\n",
       "<!-- Generated by graphviz version 2.38.0 (20140413.2041)\r\n",
       " -->\r\n",
       "<!-- Title: %3 Pages: 1 -->\r\n",
       "<svg width=\"109pt\" height=\"218pt\"\r\n",
       " viewBox=\"0.00 0.00 109.00 218.00\" xmlns=\"http://www.w3.org/2000/svg\" xmlns:xlink=\"http://www.w3.org/1999/xlink\">\r\n",
       "<g id=\"graph0\" class=\"graph\" transform=\"scale(1 1) rotate(0) translate(4 214)\">\r\n",
       "<title>%3</title>\r\n",
       "<polygon fill=\"white\" stroke=\"none\" points=\"-4,4 -4,-214 105,-214 105,4 -4,4\"/>\r\n",
       "<!-- A -->\r\n",
       "<g id=\"node1\" class=\"node\"><title>A</title>\r\n",
       "<ellipse fill=\"none\" stroke=\"black\" cx=\"74\" cy=\"-192\" rx=\"27\" ry=\"18\"/>\r\n",
       "<text text-anchor=\"middle\" x=\"74\" y=\"-188.3\" font-family=\"Times New Roman,serif\" font-size=\"14.00\">A</text>\r\n",
       "</g>\r\n",
       "<!-- B -->\r\n",
       "<g id=\"node2\" class=\"node\"><title>B</title>\r\n",
       "<ellipse fill=\"none\" stroke=\"black\" cx=\"27\" cy=\"-105\" rx=\"27\" ry=\"18\"/>\r\n",
       "<text text-anchor=\"middle\" x=\"27\" y=\"-101.3\" font-family=\"Times New Roman,serif\" font-size=\"14.00\">B</text>\r\n",
       "</g>\r\n",
       "<!-- A&#45;&gt;B -->\r\n",
       "<g id=\"edge1\" class=\"edge\"><title>A&#45;&gt;B</title>\r\n",
       "<path fill=\"none\" stroke=\"black\" d=\"M64.9379,-174.611C58.1324,-162.303 48.6894,-145.226 40.9272,-131.187\"/>\r\n",
       "<polygon fill=\"black\" stroke=\"black\" points=\"43.7768,-129.108 35.8749,-122.05 37.6509,-132.495 43.7768,-129.108\"/>\r\n",
       "<text text-anchor=\"middle\" x=\"60\" y=\"-144.8\" font-family=\"Times New Roman,serif\" font-size=\"14.00\">&#45;1</text>\r\n",
       "</g>\r\n",
       "<!-- C -->\r\n",
       "<g id=\"node3\" class=\"node\"><title>C</title>\r\n",
       "<ellipse fill=\"none\" stroke=\"black\" cx=\"67\" cy=\"-18\" rx=\"27\" ry=\"18\"/>\r\n",
       "<text text-anchor=\"middle\" x=\"67\" y=\"-14.3\" font-family=\"Times New Roman,serif\" font-size=\"14.00\">C</text>\r\n",
       "</g>\r\n",
       "<!-- B&#45;&gt;C -->\r\n",
       "<g id=\"edge2\" class=\"edge\"><title>B&#45;&gt;C</title>\r\n",
       "<path fill=\"none\" stroke=\"black\" d=\"M34.7124,-87.6111C40.4674,-75.3817 48.4386,-58.4429 55.0207,-44.456\"/>\r\n",
       "<polygon fill=\"black\" stroke=\"black\" points=\"58.2201,-45.877 59.3113,-35.3385 51.8864,-42.8964 58.2201,-45.877\"/>\r\n",
       "<text text-anchor=\"middle\" x=\"56\" y=\"-57.8\" font-family=\"Times New Roman,serif\" font-size=\"14.00\">&#45;2</text>\r\n",
       "</g>\r\n",
       "<!-- C&#45;&gt;A -->\r\n",
       "<g id=\"edge3\" class=\"edge\"><title>C&#45;&gt;A</title>\r\n",
       "<path fill=\"none\" stroke=\"black\" d=\"M67.694,-36.0516C68.9079,-65.8802 71.4264,-127.764 72.8866,-163.643\"/>\r\n",
       "<polygon fill=\"black\" stroke=\"black\" points=\"69.3994,-164.03 73.3032,-173.879 76.3936,-163.745 69.3994,-164.03\"/>\r\n",
       "<text text-anchor=\"middle\" x=\"77\" y=\"-101.3\" font-family=\"Times New Roman,serif\" font-size=\"14.00\">&#45;3</text>\r\n",
       "</g>\r\n",
       "</g>\r\n",
       "</svg>\r\n"
      ],
      "text/plain": [
       "<graphviz.dot.Digraph at 0x1bc78828790>"
      ]
     },
     "execution_count": 49,
     "metadata": {},
     "output_type": "execute_result"
    }
   ],
   "source": [
    "# dot3\n",
    "dot3 = Digraph()\n",
    "dot3.edge('A', 'B', label='-1')\n",
    "dot3.edge('B', 'C', label='-2')\n",
    "dot3.edge('C', 'A', label='-3')\n",
    "dot3"
   ]
  },
  {
   "cell_type": "code",
   "execution_count": 50,
   "id": "1f088f9f-6043-422e-8267-7574cd5f8bd7",
   "metadata": {},
   "outputs": [
    {
     "name": "stderr",
     "output_type": "stream",
     "text": [
      "test_negative_cycle (__main__.TestFloydWarshall) ... ok\n",
      "test_negative_weights (__main__.TestFloydWarshall) ... ok\n",
      "test_positive_weights (__main__.TestFloydWarshall) ... ok\n",
      "\n",
      "----------------------------------------------------------------------\n",
      "Ran 3 tests in 0.041s\n",
      "\n",
      "OK\n"
     ]
    },
    {
     "name": "stdout",
     "output_type": "stream",
     "text": [
      "Negative-weight cycle found\n",
      "\n",
      "distance[0][0] = 0\n",
      "distance[0][1] = -1\n",
      "distance[0][2] = -3\n",
      "distance[1][0] = inf\n",
      "distance[1][1] = 0\n",
      "distance[1][2] = -2\n",
      "distance[2][0] = inf\n",
      "distance[2][1] = inf\n",
      "distance[2][2] = 0\n",
      "\n",
      "\n",
      "distance[0][0] = 0\n",
      "distance[0][1] = 1\n",
      "distance[0][2] = 3\n",
      "distance[1][0] = inf\n",
      "distance[1][1] = 0\n",
      "distance[1][2] = 2\n",
      "distance[2][0] = inf\n",
      "distance[2][1] = inf\n",
      "distance[2][2] = 0\n",
      "\n",
      "\n"
     ]
    },
    {
     "data": {
      "text/plain": [
       "<unittest.runner.TextTestResult run=3 errors=0 failures=0>"
      ]
     },
     "execution_count": 50,
     "metadata": {},
     "output_type": "execute_result"
    }
   ],
   "source": [
    "import unittest\n",
    "\n",
    "class TestFloydWarshall(unittest.TestCase):\n",
    "\n",
    "    def test_positive_weights(self):\n",
    "        G = Graph()\n",
    "        for i in ['A', 'B', 'C']:\n",
    "            G.addVertex(Node(i))\n",
    "        V = G.vertices\n",
    "        G.addDiEdge(V[0], V[1], 1)\n",
    "        G.addDiEdge(V[1], V[2], 2)\n",
    "        G.addDiEdge(V[0], V[2], 4)\n",
    "        expected_output = [[0, 1, 3], [float('inf'), 0, 2], [float('inf'), float('inf'), 0]]\n",
    "        self.assertListEqual(Floyd_Warshall(G), expected_output)\n",
    "\n",
    "    def test_negative_weights(self):\n",
    "        G = Graph()\n",
    "        for i in ['A', 'B', 'C']:\n",
    "            G.addVertex(Node(i))\n",
    "        V = G.vertices\n",
    "        G.addDiEdge(V[0], V[1], -1)\n",
    "        G.addDiEdge(V[1], V[2], -2)\n",
    "        G.addDiEdge(V[0], V[2], -3)\n",
    "        expected_output = [[0, -1, -3], [float('inf'), 0, -2], [float('inf'), float('inf'), 0]]\n",
    "        self.assertListEqual(Floyd_Warshall(G), expected_output)\n",
    "\n",
    "    def test_negative_cycle(self):\n",
    "        G = Graph()\n",
    "        for i in ['A', 'B', 'C']:\n",
    "            G.addVertex(Node(i))\n",
    "        V = G.vertices\n",
    "        G.addDiEdge(V[0], V[1], -1)\n",
    "        G.addDiEdge(V[1], V[2], -2)\n",
    "        G.addDiEdge(V[2], V[0], -3)\n",
    "        self.assertRaises(ValueError, Floyd_Warshall, G)\n",
    "\n",
    "# Create a test suite\n",
    "suite = unittest.TestLoader().loadTestsFromTestCase(TestFloydWarshall)\n",
    "\n",
    "# Run the test suite and print the results\n",
    "runner = unittest.TextTestRunner(verbosity=2)\n",
    "runner.run(suite)"
   ]
  },
  {
   "cell_type": "code",
   "execution_count": null,
   "id": "f2501eab-fbea-4a40-b88b-0cc2c538d3d9",
   "metadata": {},
   "outputs": [],
   "source": []
  },
  {
   "cell_type": "code",
   "execution_count": null,
   "id": "fae0aa73-a23a-440d-b250-120e1b60037a",
   "metadata": {},
   "outputs": [],
   "source": []
  }
 ],
 "metadata": {
  "kernelspec": {
   "display_name": "Python 3 (ipykernel)",
   "language": "python",
   "name": "python3"
  },
  "language_info": {
   "codemirror_mode": {
    "name": "ipython",
    "version": 3
   },
   "file_extension": ".py",
   "mimetype": "text/x-python",
   "name": "python",
   "nbconvert_exporter": "python",
   "pygments_lexer": "ipython3",
   "version": "3.9.13"
  }
 },
 "nbformat": 4,
 "nbformat_minor": 5
}
